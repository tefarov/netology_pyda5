{
  "nbformat": 4,
  "nbformat_minor": 0,
  "metadata": {
    "colab": {
      "name": "homework_09",
      "version": "0.3.2",
      "provenance": [],
      "collapsed_sections": [
        "ATG3w5Fg6eZo",
        "o1ERA-ewz7p5",
        "N4s6Wsw20IFo",
        "tv_CAC6EpIHS",
        "kW6Gqt0e0OaJ",
        "5OTshytt0QZc",
        "A0cUSOCUqvXB",
        "aSEMAJKG0ZXu",
        "5_fQwau9tKeS",
        "pSNEmh2L0jdy",
        "bwA1QYVk0ssO"
      ],
      "include_colab_link": true
    },
    "kernelspec": {
      "name": "python3",
      "display_name": "Python 3"
    }
  },
  "cells": [
    {
      "cell_type": "markdown",
      "metadata": {
        "id": "view-in-github",
        "colab_type": "text"
      },
      "source": [
        "<a href=\"https://colab.research.google.com/github/tefarov/netology_pyda5/blob/master/homework_09.ipynb\" target=\"_parent\"><img src=\"https://colab.research.google.com/assets/colab-badge.svg\" alt=\"Open In Colab\"/></a>"
      ]
    },
    {
      "cell_type": "code",
      "metadata": {
        "id": "EjH9_KGj6bME",
        "colab_type": "code",
        "colab": {}
      },
      "source": [
        "import datetime as dt"
      ],
      "execution_count": 0,
      "outputs": []
    },
    {
      "cell_type": "markdown",
      "metadata": {
        "id": "ATG3w5Fg6eZo",
        "colab_type": "text"
      },
      "source": [
        "# Задание 1\n",
        "Напишите функцию date_range, которая возвращает список дней между датами start_date и end_date. Даты должны вводиться в формате YYYY-MM-DD."
      ]
    },
    {
      "cell_type": "markdown",
      "metadata": {
        "id": "o1ERA-ewz7p5",
        "colab_type": "text"
      },
      "source": [
        "## Вспомогательные элементы"
      ]
    },
    {
      "cell_type": "code",
      "metadata": {
        "id": "mZDNfDsA6oTb",
        "colab_type": "code",
        "colab": {}
      },
      "source": [
        "def fx_convert(value):\n",
        "  \"Эта функция нужно чтобы просто возвращать правильные даты\"\n",
        "  try:\n",
        "    if type(value) == dt.datetime: return value\n",
        "    elif type(value) == int: return dt.datetime.fromtimestamp(value)\n",
        "    elif type(value) == str:\n",
        "      return dt.datetime.strptime(value,'%Y-%m-%d')\n",
        "  except:\n",
        "    pass\n",
        "  raise ValueError(f\"Не могу преобразовать '{value}' в дату \")  "
      ],
      "execution_count": 0,
      "outputs": []
    },
    {
      "cell_type": "markdown",
      "metadata": {
        "id": "8fOSXWP9z2au",
        "colab_type": "text"
      },
      "source": [
        "## Решение"
      ]
    },
    {
      "cell_type": "code",
      "metadata": {
        "id": "Tjhv3_Cop6Fg",
        "colab_type": "code",
        "colab": {}
      },
      "source": [
        "def date_range(start, end):\n",
        "  start = fx_convert(start)\n",
        "  end   = fx_convert(end)\n",
        "  day = dt.timedelta(days=1)\n",
        "  val = []\n",
        "  \n",
        "  while start <= end:\n",
        "    val.append(start)\n",
        "    start = start + day\n",
        "  \n",
        "  return list(map(lambda x: x.strftime('%Y-%m-%d') ,val))"
      ],
      "execution_count": 0,
      "outputs": []
    },
    {
      "cell_type": "markdown",
      "metadata": {
        "id": "N4s6Wsw20IFo",
        "colab_type": "text"
      },
      "source": [
        "## Проверка"
      ]
    },
    {
      "cell_type": "code",
      "metadata": {
        "id": "V1uj_ABtp5tW",
        "colab_type": "code",
        "colab": {
          "base_uri": "https://localhost:8080/",
          "height": 0
        },
        "outputId": "0f141ec9-e40d-4658-d688-0fff9fd3b714"
      },
      "source": [
        "date_range('2019-01-02','2019-01-10')"
      ],
      "execution_count": 21,
      "outputs": [
        {
          "output_type": "execute_result",
          "data": {
            "text/plain": [
              "['2019-01-02',\n",
              " '2019-01-03',\n",
              " '2019-01-04',\n",
              " '2019-01-05',\n",
              " '2019-01-06',\n",
              " '2019-01-07',\n",
              " '2019-01-08',\n",
              " '2019-01-09',\n",
              " '2019-01-10']"
            ]
          },
          "metadata": {
            "tags": []
          },
          "execution_count": 21
        }
      ]
    },
    {
      "cell_type": "markdown",
      "metadata": {
        "id": "tv_CAC6EpIHS",
        "colab_type": "text"
      },
      "source": [
        "# Задание 2\n",
        "Дополните функцию из первого задания проверкой на корректность дат. В случае неверного формата или если start_date > end_date должен возвращаться пустой список."
      ]
    },
    {
      "cell_type": "markdown",
      "metadata": {
        "id": "kW6Gqt0e0OaJ",
        "colab_type": "text"
      },
      "source": [
        "## Решение"
      ]
    },
    {
      "cell_type": "code",
      "metadata": {
        "id": "Elg7jgDTDC9n",
        "colab_type": "code",
        "colab": {}
      },
      "source": [
        "def date_range2(start, end):\n",
        "  try:\n",
        "    start = fx_convert(start)\n",
        "    end   = fx_convert(end)\n",
        "    if end<start: raise ValueError()\n",
        "  except ValueError:\n",
        "    return []\n",
        "  \n",
        "  day = dt.timedelta(days=1)\n",
        "  val = []\n",
        "  \n",
        "  while start <= end:\n",
        "    val.append(start)\n",
        "    start = start + day\n",
        "  \n",
        "  return list(map(lambda x: x.strftime('%Y-%m-%d') ,val))"
      ],
      "execution_count": 0,
      "outputs": []
    },
    {
      "cell_type": "markdown",
      "metadata": {
        "id": "5OTshytt0QZc",
        "colab_type": "text"
      },
      "source": [
        "## Проверка"
      ]
    },
    {
      "cell_type": "code",
      "metadata": {
        "id": "5eiYfLzQp1eP",
        "colab_type": "code",
        "colab": {
          "base_uri": "https://localhost:8080/",
          "height": 0
        },
        "outputId": "a490c93b-3318-48e4-a18c-7f769260478b"
      },
      "source": [
        "date_range2('2019-01-02','2019-01-10')"
      ],
      "execution_count": 23,
      "outputs": [
        {
          "output_type": "execute_result",
          "data": {
            "text/plain": [
              "['2019-01-02',\n",
              " '2019-01-03',\n",
              " '2019-01-04',\n",
              " '2019-01-05',\n",
              " '2019-01-06',\n",
              " '2019-01-07',\n",
              " '2019-01-08',\n",
              " '2019-01-09',\n",
              " '2019-01-10']"
            ]
          },
          "metadata": {
            "tags": []
          },
          "execution_count": 23
        }
      ]
    },
    {
      "cell_type": "code",
      "metadata": {
        "id": "2ToxgHspqLTd",
        "colab_type": "code",
        "colab": {
          "base_uri": "https://localhost:8080/",
          "height": 0
        },
        "outputId": "27fab534-a49c-45c7-b99e-16052ceb8d17"
      },
      "source": [
        "date_range('2019-03-02','2019-01-10')"
      ],
      "execution_count": 24,
      "outputs": [
        {
          "output_type": "execute_result",
          "data": {
            "text/plain": [
              "[]"
            ]
          },
          "metadata": {
            "tags": []
          },
          "execution_count": 24
        }
      ]
    },
    {
      "cell_type": "code",
      "metadata": {
        "id": "ukIAA2dOqNj4",
        "colab_type": "code",
        "colab": {
          "base_uri": "https://localhost:8080/",
          "height": 0
        },
        "outputId": "5036bf63-e951-4a12-d43b-930911a545f0"
      },
      "source": [
        "date_range2('2019-01-X2','2019-01-10')"
      ],
      "execution_count": 26,
      "outputs": [
        {
          "output_type": "execute_result",
          "data": {
            "text/plain": [
              "[]"
            ]
          },
          "metadata": {
            "tags": []
          },
          "execution_count": 26
        }
      ]
    },
    {
      "cell_type": "markdown",
      "metadata": {
        "id": "A0cUSOCUqvXB",
        "colab_type": "text"
      },
      "source": [
        "# Задание 3\n",
        "Дан поток дат в формате YYYY-MM-DD, в которых встречаются некорректные значения:\n",
        "\n",
        "```stream = ['2018-04-02', '2018-02-29', '2018-19-02']```\n",
        "\n",
        "Напишите функцию, которая проверяет эти даты на корректность. Т. е. для каждой даты возвращает True (дата корректна) или False (некорректная дата)."
      ]
    },
    {
      "cell_type": "markdown",
      "metadata": {
        "id": "HxXWrCTs0VhY",
        "colab_type": "text"
      },
      "source": [
        "## Решение"
      ]
    },
    {
      "cell_type": "code",
      "metadata": {
        "id": "jGxsG3fmqO9W",
        "colab_type": "code",
        "colab": {}
      },
      "source": [
        "def fx_isdate(value):\n",
        "  try:\n",
        "    if type(value) == dt.datetime: return True\n",
        "    elif type(value) == int: return True\n",
        "    elif type(value) == str:\n",
        "      value = dt.datetime.strptime(value,'%Y-%m-%d')\n",
        "      return True\n",
        "  except Exception as ex:\n",
        "    # return ex.__repr__()\n",
        "    pass\n",
        "  return False"
      ],
      "execution_count": 0,
      "outputs": []
    },
    {
      "cell_type": "markdown",
      "metadata": {
        "id": "aSEMAJKG0ZXu",
        "colab_type": "text"
      },
      "source": [
        "## Проверка"
      ]
    },
    {
      "cell_type": "code",
      "metadata": {
        "id": "IS-kAHaerQvb",
        "colab_type": "code",
        "colab": {
          "base_uri": "https://localhost:8080/",
          "height": 0
        },
        "outputId": "89284842-4881-4042-95d9-79df2d7f59bc"
      },
      "source": [
        "stream = ['2018-04-02', '2018-02-29', '2018-19-02']\n",
        "stream_is = list(map(fx_isdate,stream))\n",
        "\n",
        "stream_is\n"
      ],
      "execution_count": 38,
      "outputs": [
        {
          "output_type": "execute_result",
          "data": {
            "text/plain": [
              "[True, False, False]"
            ]
          },
          "metadata": {
            "tags": []
          },
          "execution_count": 38
        }
      ]
    },
    {
      "cell_type": "markdown",
      "metadata": {
        "id": "5_fQwau9tKeS",
        "colab_type": "text"
      },
      "source": [
        "# Задание 5 или 4\n",
        "В последнем примере поиска по словарю мы использовали 3 столбца. Напишите функцию, которая формирует словарь для поиска по n столбцам."
      ]
    },
    {
      "cell_type": "markdown",
      "metadata": {
        "id": "pSNEmh2L0jdy",
        "colab_type": "text"
      },
      "source": [
        "## Вспомогательные материалы"
      ]
    },
    {
      "cell_type": "code",
      "metadata": {
        "id": "Udy41n-8rgQd",
        "colab_type": "code",
        "colab": {
          "base_uri": "https://localhost:8080/",
          "height": 0
        },
        "outputId": "9c3f96c0-754c-430b-efbe-c4317aedf1eb"
      },
      "source": [
        "file = \"\"\"2,14,26376,3,13301\n",
        "17,12,7316,2,19329\n",
        "17,28,2803,2,87381\n",
        "2,25,22022,2,94036\n",
        "2,20,13883,5,50722\n",
        "31,14,21304,1,55449\n",
        "31,22,2029,2,12482\n",
        "31,4,7384,3,22408\n",
        "31,24,20136,2,45396\n",
        "31,11,11438,3,88147\"\"\"\n",
        "\n",
        "file = file.split('\\n')\n",
        "file"
      ],
      "execution_count": 58,
      "outputs": [
        {
          "output_type": "execute_result",
          "data": {
            "text/plain": [
              "['2,14,26376,3,13301',\n",
              " '17,12,7316,2,19329',\n",
              " '17,28,2803,2,87381',\n",
              " '2,25,22022,2,94036',\n",
              " '2,20,13883,5,50722',\n",
              " '31,14,21304,1,55449',\n",
              " '31,22,2029,2,12482',\n",
              " '31,4,7384,3,22408',\n",
              " '31,24,20136,2,45396',\n",
              " '31,11,11438,3,88147']"
            ]
          },
          "metadata": {
            "tags": []
          },
          "execution_count": 58
        }
      ]
    },
    {
      "cell_type": "markdown",
      "metadata": {
        "id": "RR-aYop-0qyt",
        "colab_type": "text"
      },
      "source": [
        "## Решение"
      ]
    },
    {
      "cell_type": "code",
      "metadata": {
        "id": "jXvM-lXyvJjp",
        "colab_type": "code",
        "colab": {}
      },
      "source": [
        "def fx_filedict(file_lines,n):\n",
        "  val = {}\n",
        "  data = [lin.split(',') for lin in file_lines]\n",
        "  for line in data:\n",
        "    val[tuple(line[:n])] = line[n:]\n",
        "  \n",
        "  return val"
      ],
      "execution_count": 0,
      "outputs": []
    },
    {
      "cell_type": "markdown",
      "metadata": {
        "id": "bwA1QYVk0ssO",
        "colab_type": "text"
      },
      "source": [
        "## Проверка"
      ]
    },
    {
      "cell_type": "code",
      "metadata": {
        "id": "RX4HGOqZvOJA",
        "colab_type": "code",
        "colab": {
          "base_uri": "https://localhost:8080/",
          "height": 0
        },
        "outputId": "2a5a1b24-933f-4e71-90e0-4a8153dc1d9d"
      },
      "source": [
        "fx_filedict(file,2)"
      ],
      "execution_count": 67,
      "outputs": [
        {
          "output_type": "execute_result",
          "data": {
            "text/plain": [
              "{('17', '12'): ['7316', '2', '19329'],\n",
              " ('17', '28'): ['2803', '2', '87381'],\n",
              " ('2', '14'): ['26376', '3', '13301'],\n",
              " ('2', '20'): ['13883', '5', '50722'],\n",
              " ('2', '25'): ['22022', '2', '94036'],\n",
              " ('31', '11'): ['11438', '3', '88147'],\n",
              " ('31', '14'): ['21304', '1', '55449'],\n",
              " ('31', '22'): ['2029', '2', '12482'],\n",
              " ('31', '24'): ['20136', '2', '45396'],\n",
              " ('31', '4'): ['7384', '3', '22408']}"
            ]
          },
          "metadata": {
            "tags": []
          },
          "execution_count": 67
        }
      ]
    },
    {
      "cell_type": "code",
      "metadata": {
        "id": "mQvw4pVSzQh2",
        "colab_type": "code",
        "colab": {
          "base_uri": "https://localhost:8080/",
          "height": 0
        },
        "outputId": "4485fd3d-d823-496b-d3d3-5f223f40db40"
      },
      "source": [
        "fx_filedict(file,3)"
      ],
      "execution_count": 68,
      "outputs": [
        {
          "output_type": "execute_result",
          "data": {
            "text/plain": [
              "{('17', '12', '7316'): ['2', '19329'],\n",
              " ('17', '28', '2803'): ['2', '87381'],\n",
              " ('2', '14', '26376'): ['3', '13301'],\n",
              " ('2', '20', '13883'): ['5', '50722'],\n",
              " ('2', '25', '22022'): ['2', '94036'],\n",
              " ('31', '11', '11438'): ['3', '88147'],\n",
              " ('31', '14', '21304'): ['1', '55449'],\n",
              " ('31', '22', '2029'): ['2', '12482'],\n",
              " ('31', '24', '20136'): ['2', '45396'],\n",
              " ('31', '4', '7384'): ['3', '22408']}"
            ]
          },
          "metadata": {
            "tags": []
          },
          "execution_count": 68
        }
      ]
    },
    {
      "cell_type": "code",
      "metadata": {
        "id": "c9EEGWsGzbU3",
        "colab_type": "code",
        "colab": {
          "base_uri": "https://localhost:8080/",
          "height": 0
        },
        "outputId": "e2e1f698-ee6a-4d8b-ef41-f14a8a488549"
      },
      "source": [
        "fx_filedict(file,4)"
      ],
      "execution_count": 69,
      "outputs": [
        {
          "output_type": "execute_result",
          "data": {
            "text/plain": [
              "{('17', '12', '7316', '2'): ['19329'],\n",
              " ('17', '28', '2803', '2'): ['87381'],\n",
              " ('2', '14', '26376', '3'): ['13301'],\n",
              " ('2', '20', '13883', '5'): ['50722'],\n",
              " ('2', '25', '22022', '2'): ['94036'],\n",
              " ('31', '11', '11438', '3'): ['88147'],\n",
              " ('31', '14', '21304', '1'): ['55449'],\n",
              " ('31', '22', '2029', '2'): ['12482'],\n",
              " ('31', '24', '20136', '2'): ['45396'],\n",
              " ('31', '4', '7384', '3'): ['22408']}"
            ]
          },
          "metadata": {
            "tags": []
          },
          "execution_count": 69
        }
      ]
    },
    {
      "cell_type": "code",
      "metadata": {
        "id": "n3iiSaAOzb8C",
        "colab_type": "code",
        "colab": {}
      },
      "source": [
        ""
      ],
      "execution_count": 0,
      "outputs": []
    }
  ]
}