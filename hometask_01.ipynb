{
  "nbformat": 4,
  "nbformat_minor": 0,
  "metadata": {
    "colab": {
      "name": "Copy of PYDA5_Lab01.ipynb",
      "version": "0.3.2",
      "provenance": [],
      "collapsed_sections": []
    },
    "kernelspec": {
      "name": "python3",
      "display_name": "Python 3"
    }
  },
  "cells": [
    {
      "cell_type": "code",
      "metadata": {
        "id": "zYXLcgu-OQvi",
        "colab_type": "code",
        "colab": {}
      },
      "source": [
        "import sys\n",
        "\n",
        "def fx_num(text):\n",
        "  try:\n",
        "      return float(text)\n",
        "  except ValueError:\n",
        "      return None\n",
        "  \n",
        "def fx_asknum(prompt=None):\n",
        "  if not prompt:\n",
        "    prompt = 'Вводи число'\n",
        "    \n",
        "  while True:\n",
        "    txt = input(f'{prompt} >> ')\n",
        "    if not txt:\n",
        "      sys.exit(0)\n",
        "    elif not fx_num(txt) == None:\n",
        "      return float(txt)\n",
        "    else:\n",
        "      print('На число как-то не похоже. Давай снова')"
      ],
      "execution_count": 0,
      "outputs": []
    },
    {
      "cell_type": "markdown",
      "metadata": {
        "id": "ZPlVe_jj9_gT",
        "colab_type": "text"
      },
      "source": [
        "# Задание 1.\n",
        "Даны 2 строки long_phrase и short_phrase. Напишите код, который проверяет действительно ли длинная фраза long_phrase длиннее короткой short_phrase. И выводит True или False в зависимости от результата сравнения.\n",
        "\n",
        "long_phrase = *'Насколько проще было бы писать программы, если бы не заказчики’*\n",
        "short_phrase = *‘640Кб должно хватить для любых задач. Билл Гейтс (по легенде)’*"
      ]
    },
    {
      "cell_type": "code",
      "metadata": {
        "id": "kBoqG29K93wl",
        "colab_type": "code",
        "outputId": "297e4783-8ed9-4cdb-a084-17c63670fafd",
        "colab": {
          "base_uri": "https://localhost:8080/",
          "height": 34
        }
      },
      "source": [
        "long_phrase = 'Насколько проще было бы писать программы, если бы не заказчики'\n",
        "short_phrase = '640Кб должно хватить для любых задач. Билл Гейтс (по легенде)'\n",
        "\n",
        "print(len(long_phrase) > len(short_phrase))"
      ],
      "execution_count": 0,
      "outputs": [
        {
          "output_type": "stream",
          "text": [
            "True\n"
          ],
          "name": "stdout"
        }
      ]
    },
    {
      "cell_type": "markdown",
      "metadata": {
        "id": "N4bsFsWU-tnu",
        "colab_type": "text"
      },
      "source": [
        "# Задание 2.\n",
        "Дано значение объема файла в байтах. Напишите перевод этого значения в мегабайты в формате:\n",
        "‘Объем файла равен 213.68Mb’"
      ]
    },
    {
      "cell_type": "code",
      "metadata": {
        "id": "kjfQ90D6_D8E",
        "colab_type": "code",
        "outputId": "fa22499c-83be-444c-886d-ad85ec121baf",
        "colab": {
          "base_uri": "https://localhost:8080/",
          "height": 34
        }
      },
      "source": [
        "siz_by = 1234567890\n",
        "siz_mb = siz_by / ( 2 ** 20)\n",
        "print(f\"Объём файла равен {siz_mb:03.2f}Mb\") # форматирование чисел в Python меня выводит из себя"
      ],
      "execution_count": 0,
      "outputs": [
        {
          "output_type": "stream",
          "text": [
            "Объём файла равен 1177.38Mb\n"
          ],
          "name": "stdout"
        }
      ]
    },
    {
      "cell_type": "markdown",
      "metadata": {
        "id": "GF2qy9zZ_E5C",
        "colab_type": "text"
      },
      "source": [
        "#Задание 3.\n",
        "Разработать приложение для определения знака зодиака по дате рождения.\n",
        "\n",
        "##Пример:\n",
        "Введите месяц: март\n",
        "Введите число: 6\n",
        "\n",
        "Вывод:\n",
        "Рыбы"
      ]
    },
    {
      "cell_type": "code",
      "metadata": {
        "id": "VqXra3q8_NO8",
        "colab_type": "code",
        "outputId": "59b4e04b-3d0b-4c54-c53d-a0bad78bbf8b",
        "colab": {
          "base_uri": "https://localhost:8080/",
          "height": 68
        }
      },
      "source": [
        "import sys\n",
        "\n",
        "mon_ls = ['январь','февраль','март','апрель','май','июнь','июль','август','сентябрь','октябрь','ноябрь','декабрь']\n",
        "dat_ls = [21,19,20,20,21,21,22,23,23,23,22,22]\n",
        "zod_ls = ['коз','вод','рыб','бар','бык','блз','рак','лев','баб','вес','скр','стр','коз']\n",
        "\n",
        "mon = 0; day = 0; zod = ''; txt = ''\n",
        "\n",
        "while True:\n",
        "  txt = input('Вводи месяц >> ')\n",
        "  if not txt:\n",
        "    sys.exit(0)\n",
        "  elif txt in mon_ls:\n",
        "    mon = mon_ls.index(txt)\n",
        "    day = dat_ls[mon]\n",
        "    zod = zod_ls[mon]\n",
        "    break\n",
        "  else:\n",
        "    print('Не понял чо ты там ввёл. Давай снова')\n",
        "\n",
        "while True:\n",
        "  txt = input('Вводи день >> ')\n",
        "  if not txt:\n",
        "    sys.exit(0)\n",
        "  elif not str.isdigit(txt):\n",
        "    print('На число как-то не похоже. Давай снова')\n",
        "  elif int(txt)<1 or int(txt)>31:\n",
        "    print('Такого дня точно не бывает. Давай снова')\n",
        "  elif int(txt)<day:\n",
        "    break\n",
        "  else:\n",
        "    zod = zod_ls[mon+1]\n",
        "    break\n",
        "  \n",
        "print(f'Похоже,что ты - {zod}')\n",
        "\n"
      ],
      "execution_count": 0,
      "outputs": [
        {
          "output_type": "stream",
          "text": [
            "Вводи месяц >> январь\n",
            "Вводи день >> 20\n",
            "Похоже,что ты - коз\n"
          ],
          "name": "stdout"
        }
      ]
    },
    {
      "cell_type": "markdown",
      "metadata": {
        "id": "GpoNoiV9_NtU",
        "colab_type": "text"
      },
      "source": [
        "#Задание 4.\n",
        "Нужно разработать приложение для финансового планирования. \n",
        "Приложение учитывает сколько уходит на ипотеку, “на жизнь” и сколько нужно отложить на пенсию.\n",
        "Пользователь вводит заработанную плату в месяц.\n",
        "Сколько процентов от зп уходит на ипотеку.\n",
        "Сколько процентов от зп уходит “на жизнь”.\n",
        "Сколько раз приходит премия в год.\n",
        "Остальная часть заработанной платы откладывается на пенсию.\n",
        "Также пользователю приходит премия в размере зарплаты, от которой половина уходит на отпуск, а вторая половина откладывается.\n",
        "Программа должна учитывать сколько премий было в год.\n",
        "Нужно вывести сколько денег тратит пользователь на ипотеку и сколько он накопит за год.\n",
        "\n",
        "##Пример:\n",
        "Введите заработанную плату в месяц: 100000\n",
        "Введите сколько процентов уходит на ипотеку: 30\n",
        "Введите сколько процентов уходит на жизнь: 50\n",
        "Введите количество премий за год: 2\n",
        "\n",
        "Вывод:\n",
        "На ипотеку было потрачено: 360000 рублей\n",
        "Было накоплено: 340000 рублей"
      ]
    },
    {
      "cell_type": "code",
      "metadata": {
        "id": "iBMaknSGN8DC",
        "colab_type": "code",
        "outputId": "b18082ef-5a53-48c0-c7d3-b365d83a20f7",
        "colab": {
          "base_uri": "https://localhost:8080/",
          "height": 187
        }
      },
      "source": [
        "try:\n",
        "  fot = fx_asknum('Введите заработанную плату в месяц')\n",
        "  if fot <= 0:\n",
        "    raise ValueError('Никто не получает такую ЗП')\n",
        "\n",
        "  mor = fx_asknum('Введите сколько процентов уходит на ипотеку')\n",
        "  if mor <=0 or mor>100:\n",
        "    raise ValueError('Допустим такого не бывает')\n",
        "  \n",
        "  lif = fx_asknum('Введите сколько процентов уходит на жизнь')\n",
        "  if lif<0 or lif > (100-mor):\n",
        "    raise ValueError('Допустим такого не бывает')\n",
        "  \n",
        "  pre = fx_asknum('Введите количество премий за год')\n",
        "  if pre<0:\n",
        "    raise ValueError('Пусть тогда будет, что премии не бывает')\n",
        "  else:\n",
        "    pre = int(pre)\n",
        "  \n",
        "  pre = fot * pre        # валовая годовая премия\n",
        "  fot = fot * 12         # валовая годовая зарплата\n",
        "  mor = fot * mor / 100  # ипотека с ЗП\n",
        "  lif = fot * lif / 100  # расходы на жизнь за год\n",
        "  rlx = pre * 0.5        # на отпуск\n",
        "  sav = fot - mor - lif  # накопления, отложенные с ЗП\n",
        "  sav+= pre - rlx        # + премиальные накопления  \n",
        "  \n",
        "  fot+= pre\n",
        "  \n",
        "  print('-' * 25)\n",
        "  print(f'В год зарплата такая:{fot:.0f} руб'.replace(',',' '))\n",
        "  print(f'На ипотеку было потрачено:{mor:.0f} руб'.replace(',',' '))  \n",
        "  print(f'Жизнь:{lif:.0f} руб'.replace(',',' '))\n",
        "  print(f'Отпуск:{rlx:.0f} руб'.replace(',',' '))\n",
        "  print(f'Было накоплено:{sav:.0f} руб'.replace(',',' '))\n",
        "  \n",
        "except ValueError as ex:\n",
        "  print(str(ex))"
      ],
      "execution_count": 49,
      "outputs": [
        {
          "output_type": "stream",
          "text": [
            "Введите заработанную плату в месяц >> 100\n",
            "Введите сколько процентов уходит на ипотеку >> 50\n",
            "Введите сколько процентов уходит на жизнь >> 25\n",
            "Введите количество премий за год >> 1\n",
            "-------------------------\n",
            "В год зарплата такая:1300 руб\n",
            "На ипотеку было потрачено:600 руб\n",
            "Жизнь:300 руб\n",
            "Отпуск:50 руб\n",
            "Было накоплено:350 руб\n"
          ],
          "name": "stdout"
        }
      ]
    },
    {
      "cell_type": "code",
      "metadata": {
        "id": "5Q1F-23QPA6x",
        "colab_type": "code",
        "colab": {}
      },
      "source": [
        ""
      ],
      "execution_count": 0,
      "outputs": []
    }
  ]
}