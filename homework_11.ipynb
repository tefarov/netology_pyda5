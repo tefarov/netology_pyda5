{
  "nbformat": 4,
  "nbformat_minor": 0,
  "metadata": {
    "colab": {
      "name": "homework_11",
      "provenance": [],
      "collapsed_sections": [],
      "include_colab_link": true
    },
    "kernelspec": {
      "name": "python3",
      "display_name": "Python 3"
    }
  },
  "cells": [
    {
      "cell_type": "markdown",
      "metadata": {
        "id": "view-in-github",
        "colab_type": "text"
      },
      "source": [
        "<a href=\"https://colab.research.google.com/github/tefarov/netology_pyda5/blob/master/homework_11.ipynb\" target=\"_parent\"><img src=\"https://colab.research.google.com/assets/colab-badge.svg\" alt=\"Open In Colab\"/></a>"
      ]
    },
    {
      "cell_type": "markdown",
      "metadata": {
        "id": "QVI-7gzMl70f",
        "colab_type": "text"
      },
      "source": [
        "# Домашнее задание по статистическому анализу на python"
      ]
    },
    {
      "cell_type": "code",
      "metadata": {
        "id": "4IGVqb7KvSxe",
        "colab_type": "code",
        "colab": {}
      },
      "source": [
        "import pandas as pd\n",
        "import numpy as np\n",
        "import matplotlib.pyplot as plt\n",
        "import scipy.stats as sts\n",
        "%matplotlib inline\n",
        "import statistics as st\n",
        "import seaborn as sb"
      ],
      "execution_count": 0,
      "outputs": []
    },
    {
      "cell_type": "markdown",
      "metadata": {
        "id": "cCvZIO1Kh7vZ",
        "colab_type": "text"
      },
      "source": [
        "Загрузить датасет по url:\n"
      ]
    },
    {
      "cell_type": "code",
      "metadata": {
        "id": "csAWXiRvh_YM",
        "colab_type": "code",
        "colab": {}
      },
      "source": [
        "url=\"http://yustiks.ru/dataset/world-happiness-report-2019.csv\"\n",
        "df=pd.read_csv(url)"
      ],
      "execution_count": 0,
      "outputs": []
    },
    {
      "cell_type": "markdown",
      "metadata": {
        "id": "UN13GCGcijj_",
        "colab_type": "text"
      },
      "source": [
        "World happiness gauged by technologies, social norms, and government policies. Dataset created by PromptCloud's web crawling solution."
      ]
    },
    {
      "cell_type": "markdown",
      "metadata": {
        "id": "2NSXs9iSi0dU",
        "colab_type": "text"
      },
      "source": [
        "\n",
        "*  **Country (region)** Name of the country.\n",
        "*  **Ladder** Cantril Ladder is a measure of life satisfaction.\n",
        "*  **SD of Ladder** Standard deviation of the ladder.\n",
        "*  **Positive affect** Measure of positive emotion.\n",
        "*  **Negative affect** Measure of negative emotion.\n",
        "*  **Social support** The extent to which Social support contributed to the calculation of the Happiness Score.\n",
        "*  **Freedom** The extent to which Freedom contributed to the calculation of the Happiness Score.\n",
        "*  **Corruption** The extent to which Perception of Corruption contributes to Happiness Score.\n",
        "*  **Generosity** The extent to which Generosity contributed to the calculation of the Happiness Score.\n",
        "*  **Log of GDP per capita** The extent to which GDP contributes to the calculation of the Happiness Score.\n",
        "*  **Healthy life expectancy** The extent to which Life expectancy contributed to the calculation of the Happiness Score."
      ]
    },
    {
      "cell_type": "markdown",
      "metadata": {
        "id": "23plwhw1j0ba",
        "colab_type": "text"
      },
      "source": [
        "Посмотреть первые несколько рядов таблицы"
      ]
    },
    {
      "cell_type": "code",
      "metadata": {
        "id": "QCIq_bWfj7IG",
        "colab_type": "code",
        "colab": {
          "base_uri": "https://localhost:8080/",
          "height": 514
        },
        "outputId": "9a30c00b-9848-4609-c858-8757384a5aaa"
      },
      "source": [
        "df.head(15)"
      ],
      "execution_count": 6,
      "outputs": [
        {
          "output_type": "execute_result",
          "data": {
            "text/html": [
              "<div>\n",
              "<style scoped>\n",
              "    .dataframe tbody tr th:only-of-type {\n",
              "        vertical-align: middle;\n",
              "    }\n",
              "\n",
              "    .dataframe tbody tr th {\n",
              "        vertical-align: top;\n",
              "    }\n",
              "\n",
              "    .dataframe thead th {\n",
              "        text-align: right;\n",
              "    }\n",
              "</style>\n",
              "<table border=\"1\" class=\"dataframe\">\n",
              "  <thead>\n",
              "    <tr style=\"text-align: right;\">\n",
              "      <th></th>\n",
              "      <th>Country (region)</th>\n",
              "      <th>Ladder</th>\n",
              "      <th>SD of Ladder</th>\n",
              "      <th>Positive affect</th>\n",
              "      <th>Negative affect</th>\n",
              "      <th>Social support</th>\n",
              "      <th>Freedom</th>\n",
              "      <th>Corruption</th>\n",
              "      <th>Generosity</th>\n",
              "      <th>Log of GDP\n",
              "per capita</th>\n",
              "      <th>Healthy life\n",
              "expectancy</th>\n",
              "    </tr>\n",
              "  </thead>\n",
              "  <tbody>\n",
              "    <tr>\n",
              "      <th>0</th>\n",
              "      <td>Finland</td>\n",
              "      <td>1</td>\n",
              "      <td>4</td>\n",
              "      <td>41.0</td>\n",
              "      <td>10.0</td>\n",
              "      <td>2.0</td>\n",
              "      <td>5.0</td>\n",
              "      <td>4.0</td>\n",
              "      <td>47.0</td>\n",
              "      <td>22.0</td>\n",
              "      <td>27.0</td>\n",
              "    </tr>\n",
              "    <tr>\n",
              "      <th>1</th>\n",
              "      <td>Denmark</td>\n",
              "      <td>2</td>\n",
              "      <td>13</td>\n",
              "      <td>24.0</td>\n",
              "      <td>26.0</td>\n",
              "      <td>4.0</td>\n",
              "      <td>6.0</td>\n",
              "      <td>3.0</td>\n",
              "      <td>22.0</td>\n",
              "      <td>14.0</td>\n",
              "      <td>23.0</td>\n",
              "    </tr>\n",
              "    <tr>\n",
              "      <th>2</th>\n",
              "      <td>Norway</td>\n",
              "      <td>3</td>\n",
              "      <td>8</td>\n",
              "      <td>16.0</td>\n",
              "      <td>29.0</td>\n",
              "      <td>3.0</td>\n",
              "      <td>3.0</td>\n",
              "      <td>8.0</td>\n",
              "      <td>11.0</td>\n",
              "      <td>7.0</td>\n",
              "      <td>12.0</td>\n",
              "    </tr>\n",
              "    <tr>\n",
              "      <th>3</th>\n",
              "      <td>Iceland</td>\n",
              "      <td>4</td>\n",
              "      <td>9</td>\n",
              "      <td>3.0</td>\n",
              "      <td>3.0</td>\n",
              "      <td>1.0</td>\n",
              "      <td>7.0</td>\n",
              "      <td>45.0</td>\n",
              "      <td>3.0</td>\n",
              "      <td>15.0</td>\n",
              "      <td>13.0</td>\n",
              "    </tr>\n",
              "    <tr>\n",
              "      <th>4</th>\n",
              "      <td>Netherlands</td>\n",
              "      <td>5</td>\n",
              "      <td>1</td>\n",
              "      <td>12.0</td>\n",
              "      <td>25.0</td>\n",
              "      <td>15.0</td>\n",
              "      <td>19.0</td>\n",
              "      <td>12.0</td>\n",
              "      <td>7.0</td>\n",
              "      <td>12.0</td>\n",
              "      <td>18.0</td>\n",
              "    </tr>\n",
              "    <tr>\n",
              "      <th>5</th>\n",
              "      <td>Switzerland</td>\n",
              "      <td>6</td>\n",
              "      <td>11</td>\n",
              "      <td>44.0</td>\n",
              "      <td>21.0</td>\n",
              "      <td>13.0</td>\n",
              "      <td>11.0</td>\n",
              "      <td>7.0</td>\n",
              "      <td>16.0</td>\n",
              "      <td>8.0</td>\n",
              "      <td>4.0</td>\n",
              "    </tr>\n",
              "    <tr>\n",
              "      <th>6</th>\n",
              "      <td>Sweden</td>\n",
              "      <td>7</td>\n",
              "      <td>18</td>\n",
              "      <td>34.0</td>\n",
              "      <td>8.0</td>\n",
              "      <td>25.0</td>\n",
              "      <td>10.0</td>\n",
              "      <td>6.0</td>\n",
              "      <td>17.0</td>\n",
              "      <td>13.0</td>\n",
              "      <td>17.0</td>\n",
              "    </tr>\n",
              "    <tr>\n",
              "      <th>7</th>\n",
              "      <td>New Zealand</td>\n",
              "      <td>8</td>\n",
              "      <td>15</td>\n",
              "      <td>22.0</td>\n",
              "      <td>12.0</td>\n",
              "      <td>5.0</td>\n",
              "      <td>8.0</td>\n",
              "      <td>5.0</td>\n",
              "      <td>8.0</td>\n",
              "      <td>26.0</td>\n",
              "      <td>14.0</td>\n",
              "    </tr>\n",
              "    <tr>\n",
              "      <th>8</th>\n",
              "      <td>Canada</td>\n",
              "      <td>9</td>\n",
              "      <td>23</td>\n",
              "      <td>18.0</td>\n",
              "      <td>49.0</td>\n",
              "      <td>20.0</td>\n",
              "      <td>9.0</td>\n",
              "      <td>11.0</td>\n",
              "      <td>14.0</td>\n",
              "      <td>19.0</td>\n",
              "      <td>8.0</td>\n",
              "    </tr>\n",
              "    <tr>\n",
              "      <th>9</th>\n",
              "      <td>Austria</td>\n",
              "      <td>10</td>\n",
              "      <td>10</td>\n",
              "      <td>64.0</td>\n",
              "      <td>24.0</td>\n",
              "      <td>31.0</td>\n",
              "      <td>26.0</td>\n",
              "      <td>19.0</td>\n",
              "      <td>25.0</td>\n",
              "      <td>16.0</td>\n",
              "      <td>15.0</td>\n",
              "    </tr>\n",
              "    <tr>\n",
              "      <th>10</th>\n",
              "      <td>Australia</td>\n",
              "      <td>11</td>\n",
              "      <td>26</td>\n",
              "      <td>47.0</td>\n",
              "      <td>37.0</td>\n",
              "      <td>7.0</td>\n",
              "      <td>17.0</td>\n",
              "      <td>13.0</td>\n",
              "      <td>6.0</td>\n",
              "      <td>18.0</td>\n",
              "      <td>10.0</td>\n",
              "    </tr>\n",
              "    <tr>\n",
              "      <th>11</th>\n",
              "      <td>Costa Rica</td>\n",
              "      <td>12</td>\n",
              "      <td>62</td>\n",
              "      <td>4.0</td>\n",
              "      <td>87.0</td>\n",
              "      <td>42.0</td>\n",
              "      <td>16.0</td>\n",
              "      <td>58.0</td>\n",
              "      <td>75.0</td>\n",
              "      <td>67.0</td>\n",
              "      <td>28.0</td>\n",
              "    </tr>\n",
              "    <tr>\n",
              "      <th>12</th>\n",
              "      <td>Israel</td>\n",
              "      <td>13</td>\n",
              "      <td>14</td>\n",
              "      <td>104.0</td>\n",
              "      <td>69.0</td>\n",
              "      <td>38.0</td>\n",
              "      <td>93.0</td>\n",
              "      <td>74.0</td>\n",
              "      <td>24.0</td>\n",
              "      <td>31.0</td>\n",
              "      <td>11.0</td>\n",
              "    </tr>\n",
              "    <tr>\n",
              "      <th>13</th>\n",
              "      <td>Luxembourg</td>\n",
              "      <td>14</td>\n",
              "      <td>3</td>\n",
              "      <td>62.0</td>\n",
              "      <td>19.0</td>\n",
              "      <td>27.0</td>\n",
              "      <td>28.0</td>\n",
              "      <td>9.0</td>\n",
              "      <td>30.0</td>\n",
              "      <td>2.0</td>\n",
              "      <td>16.0</td>\n",
              "    </tr>\n",
              "    <tr>\n",
              "      <th>14</th>\n",
              "      <td>United Kingdom</td>\n",
              "      <td>15</td>\n",
              "      <td>16</td>\n",
              "      <td>52.0</td>\n",
              "      <td>42.0</td>\n",
              "      <td>9.0</td>\n",
              "      <td>63.0</td>\n",
              "      <td>15.0</td>\n",
              "      <td>4.0</td>\n",
              "      <td>23.0</td>\n",
              "      <td>24.0</td>\n",
              "    </tr>\n",
              "  </tbody>\n",
              "</table>\n",
              "</div>"
            ],
            "text/plain": [
              "   Country (region)  Ladder  ...  Log of GDP\\nper capita  Healthy life\\nexpectancy\n",
              "0           Finland       1  ...                    22.0                      27.0\n",
              "1           Denmark       2  ...                    14.0                      23.0\n",
              "2            Norway       3  ...                     7.0                      12.0\n",
              "3           Iceland       4  ...                    15.0                      13.0\n",
              "4       Netherlands       5  ...                    12.0                      18.0\n",
              "5       Switzerland       6  ...                     8.0                       4.0\n",
              "6            Sweden       7  ...                    13.0                      17.0\n",
              "7       New Zealand       8  ...                    26.0                      14.0\n",
              "8            Canada       9  ...                    19.0                       8.0\n",
              "9           Austria      10  ...                    16.0                      15.0\n",
              "10        Australia      11  ...                    18.0                      10.0\n",
              "11       Costa Rica      12  ...                    67.0                      28.0\n",
              "12           Israel      13  ...                    31.0                      11.0\n",
              "13       Luxembourg      14  ...                     2.0                      16.0\n",
              "14   United Kingdom      15  ...                    23.0                      24.0\n",
              "\n",
              "[15 rows x 11 columns]"
            ]
          },
          "metadata": {
            "tags": []
          },
          "execution_count": 6
        }
      ]
    },
    {
      "cell_type": "markdown",
      "metadata": {
        "id": "XCFa8CtdjrqJ",
        "colab_type": "text"
      },
      "source": [
        "Построить частотный график для двух параметров: Freedom и positive affect. Какое это распределение?"
      ]
    },
    {
      "cell_type": "code",
      "metadata": {
        "id": "Ia4zd3G2kUEI",
        "colab_type": "code",
        "colab": {
          "base_uri": "https://localhost:8080/",
          "height": 312
        },
        "outputId": "7dc83129-b2fb-42b7-e776-b7e76fb02a5c"
      },
      "source": [
        "dsp = df.loc[df['Freedom']>0] # убираем выбросы\n",
        "n, bins, patches = plt.hist(dsp['Freedom'], 15, facecolor='r')\n",
        "\n",
        "plt.xlabel('Freedom')\n",
        "plt.ylabel('Частота')\n",
        "plt.title('Частотный график Freedom (разбиение интервала на 15 элементов)')\n",
        "plt.grid(True)\n",
        "plt.show()\n",
        "\n",
        "print('Распределение равномерное')"
      ],
      "execution_count": 13,
      "outputs": [
        {
          "output_type": "display_data",
          "data": {
            "image/png": "[encoded data removed]",
            "text/plain": [
              "<Figure size 432x288 with 1 Axes>"
            ]
          },
          "metadata": {
            "tags": []
          }
        },
        {
          "output_type": "stream",
          "text": [
            "Распределение равномерное\n"
          ],
          "name": "stdout"
        }
      ]
    },
    {
      "cell_type": "code",
      "metadata": {
        "id": "vHDCpBWPm7_2",
        "colab_type": "code",
        "colab": {
          "base_uri": "https://localhost:8080/",
          "height": 312
        },
        "outputId": "38b130d2-10e0-4710-caed-541631f409bc"
      },
      "source": [
        "dsp = df.loc[df['Positive affect']>0] # убираем выбросы\n",
        "n, bins, patches = plt.hist(dsp['Positive affect'], 15)\n",
        "\n",
        "plt.xlabel('Positive affect')\n",
        "plt.ylabel('Частота')\n",
        "plt.title('Частотный график Freedom (разбиение интервала на 15 элементов)')\n",
        "plt.grid(True)\n",
        "plt.show()\n",
        "\n",
        "print('Распределение равномерное')"
      ],
      "execution_count": 14,
      "outputs": [
        {
          "output_type": "display_data",
          "data": {
            "image/png": "[encoded data removed]",
            "text/plain": [
              "<Figure size 432x288 with 1 Axes>"
            ]
          },
          "metadata": {
            "tags": []
          }
        },
        {
          "output_type": "stream",
          "text": [
            "Распределение равномерное\n"
          ],
          "name": "stdout"
        }
      ]
    },
    {
      "cell_type": "markdown",
      "metadata": {
        "id": "nBwpKop7j8HH",
        "colab_type": "text"
      },
      "source": [
        "Найти медиану, моду, математическое ожидание, стандартное отклонение,  дисперсию, минимум и максимум, найти выбросы (если есть), размах для колонки Freedom"
      ]
    },
    {
      "cell_type": "code",
      "metadata": {
        "id": "yjqwOGyskPXw",
        "colab_type": "code",
        "colab": {
          "base_uri": "https://localhost:8080/",
          "height": 119
        },
        "outputId": "45c55de8-95a5-4f0c-9b6c-4bc92aa81b1d"
      },
      "source": [
        "data = df.loc[df['Freedom'].notna()]['Freedom']\n",
        "disp = {}\n",
        "\n",
        "disp['Медиана'] = st.median(data)\n",
        "disp['Мат.ожидание'] = st.mean(data)\n",
        "disp['Станд.отклон'] = st.pstdev(data)\n",
        "disp['Дисперсия'] = st.pvariance(data)\n",
        "disp['Минимум'] = min(data)\n",
        "disp['Максимум'] = max(data)\n",
        "\n",
        "disp"
      ],
      "execution_count": 34,
      "outputs": [
        {
          "output_type": "execute_result",
          "data": {
            "text/plain": [
              "{'Дисперсия': 2002.0,\n",
              " 'Максимум': 155.0,\n",
              " 'Мат.ожидание': 78.0,\n",
              " 'Медиана': 78.0,\n",
              " 'Минимум': 1.0,\n",
              " 'Станд.отклон': 44.74371464239419}"
            ]
          },
          "metadata": {
            "tags": []
          },
          "execution_count": 34
        }
      ]
    },
    {
      "cell_type": "markdown",
      "metadata": {
        "id": "U-7gpfzukf9l",
        "colab_type": "text"
      },
      "source": [
        "Посмотреть корреляцию между Freedom и positive affect (графически и математически). Графически - plt.scatter, математически - посчитать коэффициент Пирсона. О чем говорит знак коэффициента?"
      ]
    },
    {
      "cell_type": "code",
      "metadata": {
        "id": "mHKzz4H_kmto",
        "colab_type": "code",
        "colab": {
          "base_uri": "https://localhost:8080/",
          "height": 349
        },
        "outputId": "71298b5d-e54c-4720-d8b3-bfe558fc4266"
      },
      "source": [
        "data = df.loc[df['Freedom'].notna()].loc[df['Positive affect'].notna()] # очищаем от выбросов\n",
        "\n",
        "fdm = data['Freedom']\n",
        "pos = data['Positive affect']\n",
        "\n",
        "plt.scatter(fdm,pos)\n",
        "plt.ylabel('Positive affect')\n",
        "plt.xlabel('Freedom')\n",
        "plt.title('Корреляция Freedom и Positive affect')\n",
        "plt.show()\n",
        "\n",
        "from scipy.stats import pearsonr\n",
        "\n",
        "corr, p_value = pearsonr(fdm, pos)\n",
        "print('Коэффициент корреляции Пирсона:', corr)\n",
        "print('Положительнный знак корреляции Пирсона говорит о том, что взаимосвязь есть и она прямая, т.е. при наблюдении большей оценки свободы, с высокой степенью вреоятности можно ожидать наблюдение более высокой оценки положительных эмоций.')"
      ],
      "execution_count": 35,
      "outputs": [
        {
          "output_type": "display_data",
          "data": {
            "image/png": "[encoded data removed]",
            "text/plain": [
              "<Figure size 432x288 with 1 Axes>"
            ]
          },
          "metadata": {
            "tags": []
          }
        },
        {
          "output_type": "stream",
          "text": [
            "Коэффициент корреляции Пирсона: 0.6817698430601656\n",
            "Положительнный знак корреляции Пирсона говорит о том, что взаимосвязь есть и она прямая, т.е. при наблюдении большей оценки свободы, с высокой степенью вреоятности можно ожидать наблюдение более высокой оценки положительных эмоций.\n"
          ],
          "name": "stdout"
        }
      ]
    },
    {
      "cell_type": "markdown",
      "metadata": {
        "id": "D6nsF28EksAu",
        "colab_type": "text"
      },
      "source": [
        "Нормализовать данные колонки Freedom (централизация + масштабирование)"
      ]
    },
    {
      "cell_type": "code",
      "metadata": {
        "id": "-OxSDHuXkywQ",
        "colab_type": "code",
        "colab": {
          "base_uri": "https://localhost:8080/",
          "height": 452
        },
        "outputId": "cfe5bbd9-f04b-4fd7-8607-ca55c994ac03"
      },
      "source": [
        "data = df.loc[df['Freedom'].notna()]['Freedom']\n",
        "\n",
        "avg = st.mean(data)\n",
        "x0 = min(data)\n",
        "x1 = max(data)\n",
        "\n",
        "data_1 = (data - avg) / (x1 - avg)\n",
        "\n",
        "# Проверим как всё нормализовалось\n",
        "dat = pd.DataFrame(data).sort_values('Freedom') \n",
        "dat['Normalized'] = data_1\n",
        "\n",
        "dat = dat[:5].append(dat[76:79]).append(dat[-5:])\n",
        "dat"
      ],
      "execution_count": 77,
      "outputs": [
        {
          "output_type": "execute_result",
          "data": {
            "text/html": [
              "<div>\n",
              "<style scoped>\n",
              "    .dataframe tbody tr th:only-of-type {\n",
              "        vertical-align: middle;\n",
              "    }\n",
              "\n",
              "    .dataframe tbody tr th {\n",
              "        vertical-align: top;\n",
              "    }\n",
              "\n",
              "    .dataframe thead th {\n",
              "        text-align: right;\n",
              "    }\n",
              "</style>\n",
              "<table border=\"1\" class=\"dataframe\">\n",
              "  <thead>\n",
              "    <tr style=\"text-align: right;\">\n",
              "      <th></th>\n",
              "      <th>Freedom</th>\n",
              "      <th>Normalized</th>\n",
              "    </tr>\n",
              "  </thead>\n",
              "  <tbody>\n",
              "    <tr>\n",
              "      <th>40</th>\n",
              "      <td>1.0</td>\n",
              "      <td>-1.000000</td>\n",
              "    </tr>\n",
              "    <tr>\n",
              "      <th>108</th>\n",
              "      <td>2.0</td>\n",
              "      <td>-0.987013</td>\n",
              "    </tr>\n",
              "    <tr>\n",
              "      <th>2</th>\n",
              "      <td>3.0</td>\n",
              "      <td>-0.974026</td>\n",
              "    </tr>\n",
              "    <tr>\n",
              "      <th>20</th>\n",
              "      <td>4.0</td>\n",
              "      <td>-0.961039</td>\n",
              "    </tr>\n",
              "    <tr>\n",
              "      <th>0</th>\n",
              "      <td>5.0</td>\n",
              "      <td>-0.948052</td>\n",
              "    </tr>\n",
              "    <tr>\n",
              "      <th>63</th>\n",
              "      <td>77.0</td>\n",
              "      <td>-0.012987</td>\n",
              "    </tr>\n",
              "    <tr>\n",
              "      <th>152</th>\n",
              "      <td>78.0</td>\n",
              "      <td>0.000000</td>\n",
              "    </tr>\n",
              "    <tr>\n",
              "      <th>71</th>\n",
              "      <td>79.0</td>\n",
              "      <td>0.012987</td>\n",
              "    </tr>\n",
              "    <tr>\n",
              "      <th>121</th>\n",
              "      <td>151.0</td>\n",
              "      <td>0.948052</td>\n",
              "    </tr>\n",
              "    <tr>\n",
              "      <th>146</th>\n",
              "      <td>152.0</td>\n",
              "      <td>0.961039</td>\n",
              "    </tr>\n",
              "    <tr>\n",
              "      <th>148</th>\n",
              "      <td>153.0</td>\n",
              "      <td>0.974026</td>\n",
              "    </tr>\n",
              "    <tr>\n",
              "      <th>155</th>\n",
              "      <td>154.0</td>\n",
              "      <td>0.987013</td>\n",
              "    </tr>\n",
              "    <tr>\n",
              "      <th>153</th>\n",
              "      <td>155.0</td>\n",
              "      <td>1.000000</td>\n",
              "    </tr>\n",
              "  </tbody>\n",
              "</table>\n",
              "</div>"
            ],
            "text/plain": [
              "     Freedom  Normalized\n",
              "40       1.0   -1.000000\n",
              "108      2.0   -0.987013\n",
              "2        3.0   -0.974026\n",
              "20       4.0   -0.961039\n",
              "0        5.0   -0.948052\n",
              "63      77.0   -0.012987\n",
              "152     78.0    0.000000\n",
              "71      79.0    0.012987\n",
              "121    151.0    0.948052\n",
              "146    152.0    0.961039\n",
              "148    153.0    0.974026\n",
              "155    154.0    0.987013\n",
              "153    155.0    1.000000"
            ]
          },
          "metadata": {
            "tags": []
          },
          "execution_count": 77
        }
      ]
    },
    {
      "cell_type": "markdown",
      "metadata": {
        "id": "4eOPS6fpkzKO",
        "colab_type": "text"
      },
      "source": [
        "Построить матрицу корреляций для всех колонок таблицы"
      ]
    },
    {
      "cell_type": "code",
      "metadata": {
        "id": "M4eCTmwtlCzY",
        "colab_type": "code",
        "colab": {
          "base_uri": "https://localhost:8080/",
          "height": 771
        },
        "outputId": "eabdb565-3ca5-4429-fbca-83512546a966"
      },
      "source": [
        "\n",
        "sb.heatmap(df.corr(),annot=True,cmap='RdYlGn',linewidths=0.2)\n",
        "\n",
        "fig=plt.gcf()\n",
        "fig.set_size_inches(12,12)\n",
        "plt.show()\n"
      ],
      "execution_count": 79,
      "outputs": [
        {
          "output_type": "display_data",
          "data": {
            "image/png": "[encoded data removed]",
            "text/plain": [
              "<Figure size 864x864 with 2 Axes>"
            ]
          },
          "metadata": {
            "tags": []
          }
        }
      ]
    },
    {
      "cell_type": "markdown",
      "metadata": {
        "id": "RAbZRTRG2Ci0",
        "colab_type": "text"
      },
      "source": [
        "Загрузить следующую таблицу: "
      ]
    },
    {
      "cell_type": "code",
      "metadata": {
        "id": "gmgMOe_e2H-_",
        "colab_type": "code",
        "outputId": "bd281531-c203-4c2b-8059-3e82da6988f2",
        "colab": {
          "base_uri": "https://localhost:8080/",
          "height": 142
        }
      },
      "source": [
        "import io\n",
        "import requests\n",
        "url=\"http://yustiks.ru/avocado.csv\"\n",
        "df=pd.read_csv(url)\n",
        "df.sort_values('4046',ascending=False)[:3]"
      ],
      "execution_count": 85,
      "outputs": [
        {
          "output_type": "execute_result",
          "data": {
            "text/html": [
              "<div>\n",
              "<style scoped>\n",
              "    .dataframe tbody tr th:only-of-type {\n",
              "        vertical-align: middle;\n",
              "    }\n",
              "\n",
              "    .dataframe tbody tr th {\n",
              "        vertical-align: top;\n",
              "    }\n",
              "\n",
              "    .dataframe thead th {\n",
              "        text-align: right;\n",
              "    }\n",
              "</style>\n",
              "<table border=\"1\" class=\"dataframe\">\n",
              "  <thead>\n",
              "    <tr style=\"text-align: right;\">\n",
              "      <th></th>\n",
              "      <th>Unnamed: 0</th>\n",
              "      <th>Date</th>\n",
              "      <th>AveragePrice</th>\n",
              "      <th>Total Volume</th>\n",
              "      <th>4046</th>\n",
              "      <th>4225</th>\n",
              "      <th>4770</th>\n",
              "      <th>Total Bags</th>\n",
              "      <th>Small Bags</th>\n",
              "      <th>Large Bags</th>\n",
              "      <th>XLarge Bags</th>\n",
              "      <th>type</th>\n",
              "      <th>year</th>\n",
              "      <th>region</th>\n",
              "    </tr>\n",
              "  </thead>\n",
              "  <tbody>\n",
              "    <tr>\n",
              "      <th>8366</th>\n",
              "      <td>47</td>\n",
              "      <td>2017-02-05</td>\n",
              "      <td>0.77</td>\n",
              "      <td>61034457.10</td>\n",
              "      <td>22743616.17</td>\n",
              "      <td>20328161.55</td>\n",
              "      <td>1664383.09</td>\n",
              "      <td>16298296.29</td>\n",
              "      <td>12567155.58</td>\n",
              "      <td>3618270.75</td>\n",
              "      <td>112869.96</td>\n",
              "      <td>conventional</td>\n",
              "      <td>2017</td>\n",
              "      <td>TotalUS</td>\n",
              "    </tr>\n",
              "    <tr>\n",
              "      <th>9097</th>\n",
              "      <td>7</td>\n",
              "      <td>2018-02-04</td>\n",
              "      <td>0.87</td>\n",
              "      <td>62505646.52</td>\n",
              "      <td>21620180.90</td>\n",
              "      <td>20445501.03</td>\n",
              "      <td>1066830.22</td>\n",
              "      <td>19373134.37</td>\n",
              "      <td>13384586.80</td>\n",
              "      <td>5719096.61</td>\n",
              "      <td>269450.96</td>\n",
              "      <td>conventional</td>\n",
              "      <td>2018</td>\n",
              "      <td>TotalUS</td>\n",
              "    </tr>\n",
              "    <tr>\n",
              "      <th>2699</th>\n",
              "      <td>47</td>\n",
              "      <td>2015-02-01</td>\n",
              "      <td>0.89</td>\n",
              "      <td>44655461.51</td>\n",
              "      <td>18933038.04</td>\n",
              "      <td>18956479.74</td>\n",
              "      <td>1381516.11</td>\n",
              "      <td>5384427.62</td>\n",
              "      <td>4216452.03</td>\n",
              "      <td>1121076.47</td>\n",
              "      <td>46899.12</td>\n",
              "      <td>conventional</td>\n",
              "      <td>2015</td>\n",
              "      <td>TotalUS</td>\n",
              "    </tr>\n",
              "  </tbody>\n",
              "</table>\n",
              "</div>"
            ],
            "text/plain": [
              "      Unnamed: 0        Date  AveragePrice  ...          type  year   region\n",
              "8366          47  2017-02-05          0.77  ...  conventional  2017  TotalUS\n",
              "9097           7  2018-02-04          0.87  ...  conventional  2018  TotalUS\n",
              "2699          47  2015-02-01          0.89  ...  conventional  2015  TotalUS\n",
              "\n",
              "[3 rows x 14 columns]"
            ]
          },
          "metadata": {
            "tags": []
          },
          "execution_count": 85
        }
      ]
    },
    {
      "cell_type": "markdown",
      "metadata": {
        "id": "QmBGvAQKlkwq",
        "colab_type": "text"
      },
      "source": [
        "Сделать частотный график колонки AveragePrice. Какое это распределение?"
      ]
    },
    {
      "cell_type": "code",
      "metadata": {
        "id": "Und8GJxWlqIy",
        "colab_type": "code",
        "colab": {
          "base_uri": "https://localhost:8080/",
          "height": 312
        },
        "outputId": "b01c2628-eda4-427e-b6c6-82f6231fa992"
      },
      "source": [
        "dsp = df.loc[df['AveragePrice'].notna()] # убираем выбросы\n",
        "n, bins, patches = plt.hist(dsp['AveragePrice'], 25)\n",
        "\n",
        "plt.xlabel('AveragePrice')\n",
        "plt.ylabel('Частота')\n",
        "plt.title('Частотный график AveragePrice (разбиение интервала на 25 элементов)')\n",
        "plt.grid(True)\n",
        "plt.show()\n",
        "\n",
        "print('Распределение близко к нормальному')"
      ],
      "execution_count": 82,
      "outputs": [
        {
          "output_type": "display_data",
          "data": {
            "image/png": "[encoded data removed]",
            "text/plain": [
              "<Figure size 432x288 with 1 Axes>"
            ]
          },
          "metadata": {
            "tags": []
          }
        },
        {
          "output_type": "stream",
          "text": [
            "Распределение близко к нормальному\n"
          ],
          "name": "stdout"
        }
      ]
    },
    {
      "cell_type": "markdown",
      "metadata": {
        "id": "mCi-XdIAlrD4",
        "colab_type": "text"
      },
      "source": [
        "Найти корреляцию в следующих колонках:"
      ]
    },
    {
      "cell_type": "markdown",
      "metadata": {
        "id": "zR3V0X_T1_4Y",
        "colab_type": "text"
      },
      "source": [
        "Корелляция между: 4046 - Total number of avocados with PLU 4046 sold  и например Average Price. Если корелляция есть, то скорее всего, данный вид авокадо дорогой по цене и он влияет на среднюю стоимость."
      ]
    },
    {
      "cell_type": "code",
      "metadata": {
        "id": "RkPfhTovlvtk",
        "colab_type": "code",
        "colab": {
          "base_uri": "https://localhost:8080/",
          "height": 329
        },
        "outputId": "d4ba163f-8ccd-4822-bc0e-7db0a3d87212"
      },
      "source": [
        "data = df.loc[df['4046'].notna()].loc[df['AveragePrice'].notna()] # очищаем от выбросов\n",
        "\n",
        "vol = data['4046']\n",
        "prc = data['AveragePrice']\n",
        "\n",
        "plt.scatter(prc,vol)\n",
        "plt.ylabel('Avokado 4046 volume')\n",
        "plt.xlabel('Average Price')\n",
        "plt.title('Корреляция Avokado 4046 volume и AveragePrice')\n",
        "plt.show()\n",
        "\n",
        "corr, p_value = pearsonr(prc,vol)\n",
        "print('Коэффициент корреляции Пирсона:', corr)\n",
        "print('Есть слабая отрицательная корреляция, т.е. высокие объёмы покупок можно наблюдать при низкой цене, но очень сильно не всегда')"
      ],
      "execution_count": 88,
      "outputs": [
        {
          "output_type": "display_data",
          "data": {
            "image/png": "[encoded data removed]",
            "text/plain": [
              "<Figure size 432x288 with 1 Axes>"
            ]
          },
          "metadata": {
            "tags": []
          }
        },
        {
          "output_type": "stream",
          "text": [
            "Коэффициент корреляции Пирсона: -0.2083170484878848\n",
            "Есть слабая отрицательная корреляция, т.е. высокие объёмы покупок можно наблюдать при низкой цене, но очень сильно не всегда\n"
          ],
          "name": "stdout"
        }
      ]
    },
    {
      "cell_type": "code",
      "metadata": {
        "id": "bUjThHdS4cnD",
        "colab_type": "code",
        "colab": {}
      },
      "source": [
        ""
      ],
      "execution_count": 0,
      "outputs": []
    }
  ]
}