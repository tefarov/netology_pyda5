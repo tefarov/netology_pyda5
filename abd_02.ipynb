{
  "nbformat": 4,
  "nbformat_minor": 0,
  "metadata": {
    "colab": {
      "name": "abd_02.ipynb",
      "provenance": [],
      "collapsed_sections": [],
      "include_colab_link": true
    },
    "kernelspec": {
      "name": "python3",
      "display_name": "Python 3"
    }
  },
  "cells": [
    {
      "cell_type": "markdown",
      "metadata": {
        "id": "view-in-github",
        "colab_type": "text"
      },
      "source": [
        "<a href=\"https://colab.research.google.com/github/tefarov/netology_pyda5/blob/master/abd_02.ipynb\" target=\"_parent\"><img src=\"https://colab.research.google.com/assets/colab-badge.svg\" alt=\"Open In Colab\"/></a>"
      ]
    },
    {
      "cell_type": "code",
      "metadata": {
        "id": "xDvgxIMjcGfA",
        "colab_type": "code",
        "colab": {}
      },
      "source": [
        "import pandas as pd\n",
        "\n",
        "from sklearn.model_selection import train_test_split \n",
        "from sklearn.preprocessing import StandardScaler \n",
        "from sklearn.linear_model import LinearRegression \n",
        "from sklearn.tree import DecisionTreeRegressor\n",
        "from sklearn.svm import SVR\n",
        "\n",
        "from sklearn.metrics import mean_squared_error,mean_absolute_error,r2_score"
      ],
      "execution_count": 0,
      "outputs": []
    },
    {
      "cell_type": "markdown",
      "metadata": {
        "id": "4wrfUc6FiseK",
        "colab_type": "text"
      },
      "source": [
        "# Задание 1\n",
        "Взять датасет homework.csv\n",
        "\n",
        "Решить задачу регрессии (как минимум один из):<br> https://scikit-learn.org/stable/modules/generated/sklearn.linear_model.LinearRegression.html <br>\n",
        "https://scikit-learn.org/stable/modules/generated/sklearn.svm.SVR.html<br>\n",
        "https://scikit-learn.org/stable/modules/generated/sklearn.tree.DecisionTreeRegressor.html<br><br>\n",
        "\n",
        "Оценить качество регрессии при помощи метрик:<br>\n",
        "https://scikit-learn.org/stable/modules/generated/sklearn.metrics.mean_squared_error.html<br>\n",
        "https://scikit-learn.org/stable/modules/generated/sklearn.metrics.r2_score.html<br>\n",
        "https://scikit-learn.org/stable/modules/generated/sklearn.metrics.mean_absolute_error.html"
      ]
    },
    {
      "cell_type": "markdown",
      "metadata": {
        "id": "StISl4DHi3nP",
        "colab_type": "text"
      },
      "source": [
        "## Данные\n"
      ]
    },
    {
      "cell_type": "markdown",
      "metadata": {
        "id": "TMr7k78HkpsU",
        "colab_type": "text"
      },
      "source": [
        "полное описание датасета : https://www.kaggle.com/c/boston-housing/overview\n",
        "\n",
        "---\n",
        "**crim** per capita crime rate by town.\n",
        "\n",
        "**zn** proportion of residential land zoned for lots over 25,000 sq.ft.\n",
        "\n",
        "**indus** proportion of non-retail business acres per town.\n",
        "\n",
        "**chas** Charles River dummy variable (= 1 if tract bounds river; 0 otherwise).\n",
        "\n",
        "**nox** nitrogen oxides concentration (parts per 10 million).\n",
        "\n",
        "**rm** average number of rooms per dwelling.\n",
        "\n",
        "**age** proportion of owner-occupied units built prior to 1940.\n",
        "\n",
        "**dis** weighted mean of distances to five Boston employment centres.\n",
        "\n",
        "**rad** index of accessibility to radial highways.\n",
        "\n",
        "**tax** full-value property-tax rate per $10,000.\n",
        "\n",
        "**ptratio** pupil-teacher ratio by town.\n",
        "\n",
        "**black** 1000(Bk - 0.63)^2 where Bk is the proportion of blacks by town.\n",
        "\n",
        "**lstat** lower status of the population (percent).\n",
        "\n",
        "**medv** median value of owner-occupied homes in $1000s."
      ]
    },
    {
      "cell_type": "code",
      "metadata": {
        "id": "8xUypjODcYNx",
        "colab_type": "code",
        "colab": {
          "base_uri": "https://localhost:8080/",
          "height": 0
        },
        "outputId": "0e8ff088-9995-43cf-8f7d-b1823f1a704d"
      },
      "source": [
        "hou_df = pd.read_csv('/content/drive/My Drive/EDU.Netology/abd_02_homework.csv',sep=';')\n",
        "hou_df.info()"
      ],
      "execution_count": 71,
      "outputs": [
        {
          "output_type": "stream",
          "text": [
            "<class 'pandas.core.frame.DataFrame'>\n",
            "RangeIndex: 333 entries, 0 to 332\n",
            "Data columns (total 15 columns):\n",
            "ID         333 non-null int64\n",
            "crim       333 non-null float64\n",
            "zn         333 non-null float64\n",
            "indus      333 non-null float64\n",
            "chas       333 non-null int64\n",
            "nox        333 non-null float64\n",
            "rm         333 non-null float64\n",
            "age        333 non-null float64\n",
            "dis        333 non-null float64\n",
            "rad        333 non-null int64\n",
            "tax        333 non-null int64\n",
            "ptratio    333 non-null float64\n",
            "black      333 non-null float64\n",
            "lstat      333 non-null float64\n",
            "medv       333 non-null float64\n",
            "dtypes: float64(11), int64(4)\n",
            "memory usage: 39.1 KB\n"
          ],
          "name": "stdout"
        }
      ]
    },
    {
      "cell_type": "markdown",
      "metadata": {
        "id": "cADR4Boro5yN",
        "colab_type": "text"
      },
      "source": [
        "## Подготовка данных"
      ]
    },
    {
      "cell_type": "code",
      "metadata": {
        "id": "5pIa9nNllVD7",
        "colab_type": "code",
        "colab": {
          "base_uri": "https://localhost:8080/",
          "height": 204
        },
        "outputId": "9c8adb7d-98d2-4614-9a2a-ea487d5300bd"
      },
      "source": [
        "hou_df.head()"
      ],
      "execution_count": 72,
      "outputs": [
        {
          "output_type": "execute_result",
          "data": {
            "text/html": [
              "<div>\n",
              "<style scoped>\n",
              "    .dataframe tbody tr th:only-of-type {\n",
              "        vertical-align: middle;\n",
              "    }\n",
              "\n",
              "    .dataframe tbody tr th {\n",
              "        vertical-align: top;\n",
              "    }\n",
              "\n",
              "    .dataframe thead th {\n",
              "        text-align: right;\n",
              "    }\n",
              "</style>\n",
              "<table border=\"1\" class=\"dataframe\">\n",
              "  <thead>\n",
              "    <tr style=\"text-align: right;\">\n",
              "      <th></th>\n",
              "      <th>ID</th>\n",
              "      <th>crim</th>\n",
              "      <th>zn</th>\n",
              "      <th>indus</th>\n",
              "      <th>chas</th>\n",
              "      <th>nox</th>\n",
              "      <th>rm</th>\n",
              "      <th>age</th>\n",
              "      <th>dis</th>\n",
              "      <th>rad</th>\n",
              "      <th>tax</th>\n",
              "      <th>ptratio</th>\n",
              "      <th>black</th>\n",
              "      <th>lstat</th>\n",
              "      <th>medv</th>\n",
              "    </tr>\n",
              "  </thead>\n",
              "  <tbody>\n",
              "    <tr>\n",
              "      <th>0</th>\n",
              "      <td>1</td>\n",
              "      <td>0.00632</td>\n",
              "      <td>18.0</td>\n",
              "      <td>2.31</td>\n",
              "      <td>0</td>\n",
              "      <td>0.538</td>\n",
              "      <td>6.575</td>\n",
              "      <td>65.2</td>\n",
              "      <td>4.0900</td>\n",
              "      <td>1</td>\n",
              "      <td>296</td>\n",
              "      <td>15.3</td>\n",
              "      <td>396.90</td>\n",
              "      <td>4.98</td>\n",
              "      <td>24.0</td>\n",
              "    </tr>\n",
              "    <tr>\n",
              "      <th>1</th>\n",
              "      <td>2</td>\n",
              "      <td>0.02731</td>\n",
              "      <td>0.0</td>\n",
              "      <td>7.07</td>\n",
              "      <td>0</td>\n",
              "      <td>0.469</td>\n",
              "      <td>6.421</td>\n",
              "      <td>78.9</td>\n",
              "      <td>4.9671</td>\n",
              "      <td>2</td>\n",
              "      <td>242</td>\n",
              "      <td>17.8</td>\n",
              "      <td>396.90</td>\n",
              "      <td>9.14</td>\n",
              "      <td>21.6</td>\n",
              "    </tr>\n",
              "    <tr>\n",
              "      <th>2</th>\n",
              "      <td>4</td>\n",
              "      <td>0.03237</td>\n",
              "      <td>0.0</td>\n",
              "      <td>2.18</td>\n",
              "      <td>0</td>\n",
              "      <td>0.458</td>\n",
              "      <td>6.998</td>\n",
              "      <td>45.8</td>\n",
              "      <td>6.0622</td>\n",
              "      <td>3</td>\n",
              "      <td>222</td>\n",
              "      <td>18.7</td>\n",
              "      <td>394.63</td>\n",
              "      <td>2.94</td>\n",
              "      <td>33.4</td>\n",
              "    </tr>\n",
              "    <tr>\n",
              "      <th>3</th>\n",
              "      <td>5</td>\n",
              "      <td>0.06905</td>\n",
              "      <td>0.0</td>\n",
              "      <td>2.18</td>\n",
              "      <td>0</td>\n",
              "      <td>0.458</td>\n",
              "      <td>7.147</td>\n",
              "      <td>54.2</td>\n",
              "      <td>6.0622</td>\n",
              "      <td>3</td>\n",
              "      <td>222</td>\n",
              "      <td>18.7</td>\n",
              "      <td>396.90</td>\n",
              "      <td>5.33</td>\n",
              "      <td>36.2</td>\n",
              "    </tr>\n",
              "    <tr>\n",
              "      <th>4</th>\n",
              "      <td>7</td>\n",
              "      <td>0.08829</td>\n",
              "      <td>12.5</td>\n",
              "      <td>7.87</td>\n",
              "      <td>0</td>\n",
              "      <td>0.524</td>\n",
              "      <td>6.012</td>\n",
              "      <td>66.6</td>\n",
              "      <td>5.5605</td>\n",
              "      <td>5</td>\n",
              "      <td>311</td>\n",
              "      <td>15.2</td>\n",
              "      <td>395.60</td>\n",
              "      <td>12.43</td>\n",
              "      <td>22.9</td>\n",
              "    </tr>\n",
              "  </tbody>\n",
              "</table>\n",
              "</div>"
            ],
            "text/plain": [
              "   ID     crim    zn  indus  chas  ...  tax  ptratio   black  lstat  medv\n",
              "0   1  0.00632  18.0   2.31     0  ...  296     15.3  396.90   4.98  24.0\n",
              "1   2  0.02731   0.0   7.07     0  ...  242     17.8  396.90   9.14  21.6\n",
              "2   4  0.03237   0.0   2.18     0  ...  222     18.7  394.63   2.94  33.4\n",
              "3   5  0.06905   0.0   2.18     0  ...  222     18.7  396.90   5.33  36.2\n",
              "4   7  0.08829  12.5   7.87     0  ...  311     15.2  395.60  12.43  22.9\n",
              "\n",
              "[5 rows x 15 columns]"
            ]
          },
          "metadata": {
            "tags": []
          },
          "execution_count": 72
        }
      ]
    },
    {
      "cell_type": "code",
      "metadata": {
        "id": "cHl2ZYSoloOa",
        "colab_type": "code",
        "colab": {}
      },
      "source": [
        "X,y = hou_df[['crim','indus','black','nox','rm']],hou_df['medv']\n",
        "X_trn, X_tst, y_trn, y_tst = train_test_split(X,y,test_size=0.2)"
      ],
      "execution_count": 0,
      "outputs": []
    },
    {
      "cell_type": "code",
      "metadata": {
        "id": "bzjq4iD9pu3E",
        "colab_type": "code",
        "colab": {}
      },
      "source": [
        "ssc = StandardScaler()\n",
        "\n",
        "X_trn = ssc.fit_transform(X_trn)\n",
        "X_tst = ssc.transform(X_tst)"
      ],
      "execution_count": 0,
      "outputs": []
    },
    {
      "cell_type": "markdown",
      "metadata": {
        "id": "p00ihSKxed5E",
        "colab_type": "text"
      },
      "source": [
        "## Linear regression"
      ]
    },
    {
      "cell_type": "code",
      "metadata": {
        "id": "G5ZBwiYYt2iD",
        "colab_type": "code",
        "colab": {
          "base_uri": "https://localhost:8080/",
          "height": 102
        },
        "outputId": "2488f95e-18d9-4cfe-9b21-78f6214f63e8"
      },
      "source": [
        "print('Linear regression\\n' + '-'*25)\n",
        "mdl = LinearRegression()\n",
        "\n",
        "mdl.fit(X_trn,y_trn)\n",
        "y_prd = mdl.predict(X_tst)\n",
        "\n",
        "print(f' mean squared error:{mean_squared_error(y_tst, y_prd):>6.2f}')\n",
        "print(f'mean absolute error:{mean_absolute_error(y_tst, y_prd):>6.2f}')\n",
        "print(f'           r2 score:{r2_score(y_tst, y_prd):>6.2f}')"
      ],
      "execution_count": 75,
      "outputs": [
        {
          "output_type": "stream",
          "text": [
            "Linear regression\n",
            "-------------------------\n",
            " mean squared error: 43.91\n",
            "mean absolute error:  4.52\n",
            "           r2 score:  0.59\n"
          ],
          "name": "stdout"
        }
      ]
    },
    {
      "cell_type": "markdown",
      "metadata": {
        "id": "_Sbz0ec6etKJ",
        "colab_type": "text"
      },
      "source": [
        "## SVR"
      ]
    },
    {
      "cell_type": "code",
      "metadata": {
        "id": "cu9p73S7v_sa",
        "colab_type": "code",
        "colab": {
          "base_uri": "https://localhost:8080/",
          "height": 102
        },
        "outputId": "0ed6ca6c-64d3-492d-c692-b84bebe12284"
      },
      "source": [
        "print('SVR\\n' + '-'*25)\n",
        "mdl = SVR()\n",
        "\n",
        "mdl.fit(X_trn,y_trn)\n",
        "y_prd = mdl.predict(X_tst)\n",
        "\n",
        "print(f' mean squared error:{mean_squared_error(y_tst, y_prd):>6.2f}')\n",
        "print(f'mean absolute error:{mean_absolute_error(y_tst, y_prd):>6.2f}')\n",
        "print(f'           r2 score:{r2_score(y_tst, y_prd):>6.2f}')"
      ],
      "execution_count": 76,
      "outputs": [
        {
          "output_type": "stream",
          "text": [
            "SVR\n",
            "-------------------------\n",
            " mean squared error: 44.07\n",
            "mean absolute error:  4.34\n",
            "           r2 score:  0.59\n"
          ],
          "name": "stdout"
        }
      ]
    },
    {
      "cell_type": "markdown",
      "metadata": {
        "id": "j89e393HennW",
        "colab_type": "text"
      },
      "source": [
        "## Decision tree"
      ]
    },
    {
      "cell_type": "code",
      "metadata": {
        "id": "wlXOaRGfbXmk",
        "colab_type": "code",
        "colab": {
          "base_uri": "https://localhost:8080/",
          "height": 102
        },
        "outputId": "6e9f390c-473d-49e9-eaea-80b214bb42ad"
      },
      "source": [
        "print('Decision tree regressor\\n' + '-'*25)\n",
        "mdl = DecisionTreeRegressor()\n",
        "\n",
        "mdl.fit(X_trn,y_trn)\n",
        "y_prd = mdl.predict(X_tst)\n",
        "\n",
        "print(f' mean squared error:{mean_squared_error(y_tst, y_prd):>6.2f}')\n",
        "print(f'mean absolute error:{mean_absolute_error(y_tst, y_prd):>6.2f}')\n",
        "print(f'           r2 score:{r2_score(y_tst, y_prd):>6.2f}')"
      ],
      "execution_count": 77,
      "outputs": [
        {
          "output_type": "stream",
          "text": [
            "Decision tree regressor\n",
            "-------------------------\n",
            " mean squared error: 31.82\n",
            "mean absolute error:  4.08\n",
            "           r2 score:  0.70\n"
          ],
          "name": "stdout"
        }
      ]
    },
    {
      "cell_type": "code",
      "metadata": {
        "id": "F38kouAhdm5K",
        "colab_type": "code",
        "colab": {}
      },
      "source": [
        ""
      ],
      "execution_count": 0,
      "outputs": []
    }
  ]
}