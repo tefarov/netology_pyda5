{
  "nbformat": 4,
  "nbformat_minor": 0,
  "metadata": {
    "colab": {
      "name": "homework_07",
      "version": "0.3.2",
      "provenance": [],
      "collapsed_sections": [
        "7Z61-gdwWneX",
        "Yr33geLPWvDu"
      ],
      "include_colab_link": true
    },
    "kernelspec": {
      "name": "python3",
      "display_name": "Python 3"
    }
  },
  "cells": [
    {
      "cell_type": "markdown",
      "metadata": {
        "id": "view-in-github",
        "colab_type": "text"
      },
      "source": [
        "<a href=\"https://colab.research.google.com/github/tefarov/netology_pyda5/blob/master/homework_07.ipynb\" target=\"_parent\"><img src=\"https://colab.research.google.com/assets/colab-badge.svg\" alt=\"Open In Colab\"/></a>"
      ]
    },
    {
      "cell_type": "code",
      "metadata": {
        "id": "dwFSfy3nWlFy",
        "colab_type": "code",
        "colab": {}
      },
      "source": [
        "import pandas as pd\n",
        "import numpy as np\n",
        "import sys"
      ],
      "execution_count": 0,
      "outputs": []
    },
    {
      "cell_type": "markdown",
      "metadata": {
        "id": "7Z61-gdwWneX",
        "colab_type": "text"
      },
      "source": [
        "# Задание 1\n",
        "Напишите функцию, которая классифицирует фильмы из материалов занятия по следующим правилам:\n",
        "- оценка 2 и меньше - низкий рейтинг\n",
        "- оценка 4 и меньше - средний рейтинг\n",
        "- оценка 4.5 и 5 - высокий рейтинг\n",
        "\n",
        "Результат классификации запишите в столбец class"
      ]
    },
    {
      "cell_type": "code",
      "metadata": {
        "id": "q6zQAR2jWrwb",
        "colab_type": "code",
        "colab": {}
      },
      "source": [
        "STR_FILEMOV = sys.path[0] + '\\\\movies.csv'\n",
        "STR_FILERAT = sys.path[0] + '\\\\ratings.csv'\n",
        "\n",
        "def fx_class(rating):\n",
        "  \"This will create human-readable rating-names\"\n",
        "  if not rating:\n",
        "      return np.nan\n",
        "  elif not type(rating) == float:\n",
        "      return 'invalid type'\n",
        "  elif rating <= 2:\n",
        "      return 'низкий рейтинг'\n",
        "  elif rating <= 4:\n",
        "      return 'средний рейтинг'\n",
        "  elif rating <= 5:\n",
        "      return 'высокий рейтинг'\n",
        "    \n",
        "  return '??'\n",
        "\n",
        "# Merge 2 datasets just to see the names of the movies being rated\n",
        "print('Reading: ', STR_FILEMOV)\n",
        "mov = pd.read_csv(STR_FILEMOV)\n",
        "print('Reading: ', STR_FILERAT)\n",
        "rat = pd.read_csv(STR_FILERAT)\n",
        "rat = rat.merge(mov,on='movieId',how='left')\n",
        "\n",
        "# apply data classification\n",
        "rat['class'] = rat['rating'].apply(fx_class)\n",
        "\n",
        "# display results\n",
        "print(rat.head(100))\n",
        "print(rat.info())"
      ],
      "execution_count": 0,
      "outputs": []
    },
    {
      "cell_type": "markdown",
      "metadata": {
        "id": "Yr33geLPWvDu",
        "colab_type": "text"
      },
      "source": [
        "# Задание 2\n",
        "Используем файл keywords.csv.\n",
        "\n",
        "Необходимо написать гео-классификатор, который каждой строке сможет выставить географическую принадлежность определенному региону. Т. е. если поисковый запрос содержит название города региона, то в столбце ‘region’ пишется название этого региона. Если поисковый запрос не содержит названия города, то ставим ‘undefined’.\n",
        "\n",
        "Правила распределения по регионам Центр, Северо-Запад и Дальний Восток:\n",
        "```\n",
        "geo_data = {\n",
        "'Центр': ['москва', 'тула', 'ярославль'],\n",
        "'Северо-Запад': ['петербург', 'псков', 'мурманск'],\n",
        "'Дальний Восток': ['владивосток', 'сахалин', 'хабаровск']\n",
        "}\n",
        "\n",
        "```\n",
        "Результат классификации запишите в отдельный столбец region."
      ]
    },
    {
      "cell_type": "code",
      "metadata": {
        "id": "sgBSA-saXFtB",
        "colab_type": "code",
        "colab": {}
      },
      "source": [
        "STR_FILEPTH = sys.path[0] + '\\\\keywords.csv'\n",
        "\n",
        "geo_data = {\n",
        "'Центр': ['москва', 'тула', 'ярославль'],\n",
        "'Северо-Запад': ['петербург', 'псков', 'мурманск'],\n",
        "'Дальний Восток': ['владивосток', 'сахалин', 'хабаровск']\n",
        "}\n",
        "\n",
        "def fx_geoclass(text):\n",
        "    if not text: return 'undefined'\n",
        "    if not type(text) == str: text=str(text)\n",
        "    \n",
        "    for reg,cities in geo_data.items():\n",
        "        for cit in cities:\n",
        "            if cit in text:\n",
        "                return reg\n",
        "    \n",
        "    return 'undefined'\n",
        "\n",
        "print('Reading: ', STR_FILEPTH)\n",
        "dat = pd.read_csv(STR_FILEPTH)\n",
        "\n",
        "dat['region'] = dat['keyword'].apply(fx_geoclass)\n",
        "dat = dat[dat['region'] != 'undefined']\n",
        "\n",
        "for ix,rec in dat[:100].iterrows():\n",
        "    print(\"{1:>25} -- '{0}'\".format(rec['keyword'],rec['region']))\n",
        "\n"
      ],
      "execution_count": 0,
      "outputs": []
    },
    {
      "cell_type": "markdown",
      "metadata": {
        "id": "PaHAjeSvXF9u",
        "colab_type": "text"
      },
      "source": [
        "# Задание 3\n",
        "Есть мнение, что “раньше снимали настоящее кино, не то что сейчас”. Ваша задача проверить это утверждение, используя файлы с рейтингами фильмов из материалов занятия. Т. е. проверить верно ли, что с ростом года выпуска фильма его средний рейтинг становится ниже.\n",
        "При этом мы не будем затрагивать субьективные факторы выставления этих рейтингов, а пройдемся по следующему алгоритму:\n",
        "## 1.\n",
        "В переменную years запишите список из всех годов с 1950 по 2010.\n",
        "## 2.\n",
        "Напишите функцию production_year, которая каждой строке из названия фильма выставляет год выпуска. Не все названия фильмов содержат год выпуска в одинаковом формате, поэтому используйте следующий алгоритм:\n",
        "1.  для каждой строки пройдите по всем годам списка years\n",
        "2.  если номер года присутствует в названии фильма, то функция возвращает этот год как год выпуска\n",
        "3.  если ни один из номеров года списка years не встретился в названии фильма, то возвращается 1900 год\n",
        "\n",
        "## 3.\n",
        "Запишите год выпуска фильма по алгоритму пункта 2 в новый столбец ‘year’\n",
        "## 4.\n",
        "Посчитайте средний рейтинг всех фильмов для каждого значения столбца ‘year’ и отсортируйте результат по убыванию рейтинга\n"
      ]
    },
    {
      "cell_type": "code",
      "metadata": {
        "id": "HxyYl0oUuiRa",
        "colab_type": "code",
        "colab": {}
      },
      "source": [
        "STR_FILEMOV = sys.path[0] + '\\\\movies.csv'\n",
        "STR_FILERAT = sys.path[0] + '\\\\ratings.csv'\n",
        "   \n",
        "print('Reading: ', STR_FILEMOV)\n",
        "mov = pd.read_csv(STR_FILEMOV)\n",
        "print('Reading: ', STR_FILERAT)\n",
        "rat = pd.read_csv(STR_FILERAT)\n",
        "print('-'*10)\n",
        "\n",
        "# Извлекаем год из названия, которое оканчивается годом в скобках\n",
        "# например: Title ({YEAR})EOL\n",
        "# на тот случай, если в названии фильма указан какой-то год\n",
        "mov['year'] = mov['title'].str.extract(r'((?<=\\()\\d{4}(?=\\)\\s*$))',expand=False)\n",
        "\n",
        "# хотя некоторые названия не подходят под шаблон,\n",
        "# можно было бы применить ещё пару шаблонов, но\n",
        "# давайте просто выдернем любой год из названия фильма\n",
        "\n",
        "# чтобы не обрабатывать обработанные строки ещё раз\n",
        "# возьмём набор данных с только необработанными годами\n",
        "# обработаем их и сохраним в исходный набор\n",
        "upd = mov[mov['year'].isna()].copy()\n",
        "upd['year'] = upd['title'].str.extract(r'(\\d{4})',expand=False)\n",
        "upd.fillna('1900',inplace=True)\n",
        "mov.update(upd[['year']],overwrite=False) # сохраняем в исходный набор\n",
        "\n",
        "# теперь когда мы определили года, давайте определим десятилетия\n",
        "# 199x для 1990..1999, 200x для 2000..2009 ..  итд\n",
        "mov['decade'] = mov['year'].apply(lambda x:x[:3] + '0-е')\n",
        "\n",
        "# ГОДА и ДЕСЯТИЛЕТИЯ определены, переходим к статистике\n",
        "\n",
        "# сливаем наборы рэйтинга и кинофильмов\n",
        "rat = rat.merge(mov,on='movieId',how='left')\n",
        "\n",
        "# обработаем среднее по годам\n",
        "grp = rat.groupby('year').mean()[['rating']]\n",
        "grp = grp.sort_values(by=['rating'],ascending=[False])\n",
        "for ix,rec in grp.iterrows():\n",
        "    print(\"{0: >4} -- {1:.2f}\".format(ix,rec['rating']))\n",
        "print('-'*10)\n",
        "\n",
        "# обработаем среднее по десятилетиям\n",
        "grp = rat.groupby('decade').mean()[['rating']]\n",
        "grp = grp.sort_values(by=['rating'],ascending=[False])\n",
        "for ix,rec in grp.iterrows():\n",
        "    print(\"{0: >4} -- {1:.2f}\".format(ix,rec['rating']))\n",
        "print('-'*10)\n",
        "\n",
        "# ПОБЕДА !!\n",
        "# но вообще анализ конечно весьма такой поверхностный"
      ],
      "execution_count": 0,
      "outputs": []
    }
  ]
}