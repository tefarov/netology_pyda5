{
  "nbformat": 4,
  "nbformat_minor": 0,
  "metadata": {
    "colab": {
      "name": "homework_02.ipynb",
      "version": "0.3.2",
      "provenance": [],
      "collapsed_sections": [],
      "include_colab_link": true
    },
    "kernelspec": {
      "name": "python3",
      "display_name": "Python 3"
    }
  },
  "cells": [
    {
      "cell_type": "markdown",
      "metadata": {
        "id": "view-in-github",
        "colab_type": "text"
      },
      "source": [
        "<a href=\"https://colab.research.google.com/github/tefarov/netology_pyda5/blob/master/homework_02.ipynb\" target=\"_parent\"><img src=\"https://colab.research.google.com/assets/colab-badge.svg\" alt=\"Open In Colab\"/></a>"
      ]
    },
    {
      "cell_type": "markdown",
      "metadata": {
        "id": "nsNju_3r11cy",
        "colab_type": "text"
      },
      "source": [
        "#Задание 1\n",
        "Дан список с визитами по городам и странам. Напишите код, который возвращает отфильтрованный список geo_logs, содержащий только визиты из России. Считайте, что список geo_logs легко помещается в оперативной памяти.\n",
        "geo_logs = \\[\n",
        "{‘visit1’: \\[‘Москва’, ‘Россия’]},\n",
        "{‘visit2’: \\[‘Дели’, ‘Индия’]},\n",
        "{‘visit3’: \\[‘Владимир’, ‘Россия’]},\n",
        "{‘visit4’: \\[‘Лиссабон’, ‘Португалия’]},\n",
        "{‘visit5’: \\[‘Париж’, ‘Франция’]},\n",
        "{‘visit6’: \\[‘Лиссабон’, ‘Португалия’]},\n",
        "{‘visit7’: \\[‘Тула’, ‘Россия’]},\n",
        "{‘visit8’: \\[‘Тула’, ‘Россия’]},\n",
        "{‘visit9’: \\[‘Курск’, ‘Россия’]},\n",
        "{‘visit10’: \\[‘Архангельск’, ‘Россия’]},\n",
        "]"
      ]
    },
    {
      "cell_type": "code",
      "metadata": {
        "id": "hGnFfv_E2RTH",
        "colab_type": "code",
        "outputId": "663d7857-44ab-4036-b9ef-acdcb6bb574c",
        "colab": {
          "base_uri": "https://localhost:8080/",
          "height": 34
        }
      },
      "source": [
        "geo_logs = [{'visit1': ['Москва', 'Россия']}\n",
        ",{'visit2': ['Дели', 'Индия']}\n",
        ",{'visit3': ['Владимир', 'Россия']}\n",
        ",{'visit4': ['Лиссабон', 'Португалия']}\n",
        ",{'visit5': ['Париж', 'Франция']}\n",
        ",{'visit6': ['Лиссабон', 'Португалия']}\n",
        ",{'visit7': ['Тула', 'Россия']}\n",
        ",{'visit8': ['Тула', 'Россия']}\n",
        ",{'visit9': ['Курск', 'Россия']}\n",
        ",{'visit10': ['Архангельск', 'Россия']}\n",
        "]\n",
        "geo_rus = []\n",
        "for val in geo_logs:\n",
        "  for k,v in val.items():\n",
        "    if v[1] == 'Россия':\n",
        "      geo_rus.append(val)\n",
        "\n",
        "#for val in geo_rus:\n",
        "print(geo_rus)"
      ],
      "execution_count": 0,
      "outputs": [
        {
          "output_type": "stream",
          "text": [
            "[{'visit1': ['Москва', 'Россия']}, {'visit3': ['Владимир', 'Россия']}, {'visit7': ['Тула', 'Россия']}, {'visit8': ['Тула', 'Россия']}, {'visit9': ['Курск', 'Россия']}, {'visit10': ['Архангельск', 'Россия']}]\n"
          ],
          "name": "stdout"
        }
      ]
    },
    {
      "cell_type": "markdown",
      "metadata": {
        "id": "PSgWmQWWbyOK",
        "colab_type": "text"
      },
      "source": [
        "#Задание 2\n",
        "Выведите на экран все уникальные гео-ID из значений словаря ids. Т. е. список вида [213, 15, 54, 119, 98, 35]\n",
        "ids = {‘user1’: [213, 213, 213, 15, 213], ‘user2’: [54, 54, 119, 119, 119], ‘user3’: [213, 98, 98, 35]}"
      ]
    },
    {
      "cell_type": "code",
      "metadata": {
        "id": "1dWNKb4ob3gX",
        "colab_type": "code",
        "colab": {
          "base_uri": "https://localhost:8080/",
          "height": 119
        },
        "outputId": "71eb9552-f93b-401f-b8d1-7686fcb1e2f4"
      },
      "source": [
        "ids = {'user1': [213, 213, 213, 15, 213]\n",
        "  ,'user2': [54, 54, 119, 119, 119]\n",
        ",'user3': [213, 98, 98, 35]\n",
        "}\n",
        "\n",
        "ids_st = set() # to hold unique ids\n",
        "\n",
        "for usr,data in ids.items():\n",
        "  ids_st.update(data)\n",
        "      \n",
        "for id in ids_st:\n",
        "  print(id)"
      ],
      "execution_count": 58,
      "outputs": [
        {
          "output_type": "stream",
          "text": [
            "98\n",
            "35\n",
            "15\n",
            "213\n",
            "54\n",
            "119\n"
          ],
          "name": "stdout"
        }
      ]
    },
    {
      "cell_type": "markdown",
      "metadata": {
        "id": "HVFWJFrtb8j-",
        "colab_type": "text"
      },
      "source": [
        "#Задание 3\n",
        "Список поисковых запросов. Получить распределение количества слов в них. Т. е. поисковых запросов из одного слова 5%, из двух \n",
        "- 7%, из трех - 3% итд.\n",
        "queries = [\n",
        "‘смотреть сериалы онлайн’,\n",
        "‘новости спорта’,\n",
        "‘афиша кино’,\n",
        "‘курс доллара’,\n",
        "‘сериалы этим летом’,\n",
        "‘курс по питону’,\n",
        "‘сериалы про спорт’,\n",
        "]"
      ]
    },
    {
      "cell_type": "code",
      "metadata": {
        "id": "ISV5yqm0cExX",
        "colab_type": "code",
        "colab": {
          "base_uri": "https://localhost:8080/",
          "height": 51
        },
        "outputId": "54a4ef07-6240-486d-85c9-7f670fac7545"
      },
      "source": [
        "queries = [\n",
        "'смотреть  сериалы  онлайн',\n",
        "'новости   спорта',\n",
        "'афиша кино',\n",
        "'курс доллара',\n",
        "'сериалы  этим летом',\n",
        "'курс по питону ',\n",
        "'сериалы про спорт',\n",
        "#' дудь',\n",
        "]\n",
        "\n",
        "# just a dictionary to hold distribution data\n",
        "# key = number of words\n",
        "# val =\n",
        "val_dc = {}\n",
        "\n",
        "\n",
        "for text in queries:\n",
        "  # get rid of rubbish whitespaces\n",
        "  txt = text.strip()\n",
        "  # no more doublespaces\n",
        "  while '  ' in txt:\n",
        "    txt = txt.replace('  ',' ')\n",
        "  # count the number of words\n",
        "  w = txt.count(' ')+1\n",
        "  \n",
        "  # check for id to exist in a dictionary\n",
        "  if w in val_dc.keys():\n",
        "    val_dc[w] = val_dc[w]+1 \n",
        "  else:\n",
        "    val_dc[w] = 1\n",
        "\n",
        "l = float(len(queries)) # just the total len of the queries\n",
        "for k,v in val_dc.items():\n",
        "  val = v/l\n",
        "  print(f\"{val:#0.1%} фраз из {k} слов\")"
      ],
      "execution_count": 30,
      "outputs": [
        {
          "output_type": "stream",
          "text": [
            "57.1% фраз из 3 слов\n",
            "42.9% фраз из 2 слов\n"
          ],
          "name": "stdout"
        }
      ]
    },
    {
      "cell_type": "markdown",
      "metadata": {
        "id": "Z6aXURjEpDjC",
        "colab_type": "text"
      },
      "source": [
        "#Задание 4\n",
        "Дана статистика рекламных каналов по объемам продаж. Напишите скрипт, который возвращает название канала с максимальным объемом.\n",
        "Т. е. в данном примере скрипт должен возвращать ‘yandex’.\n",
        "stats = {‘facebook’: 55, ‘yandex’: 120, ‘vk’: 115, ‘google’: 99, ‘email’: 42, ‘ok’: 98}"
      ]
    },
    {
      "cell_type": "code",
      "metadata": {
        "id": "Qi0LPG0bd8I8",
        "colab_type": "code",
        "colab": {
          "base_uri": "https://localhost:8080/",
          "height": 34
        },
        "outputId": "9d183dd3-260c-4dbf-a499-844b03e93788"
      },
      "source": [
        "stats = {'facebook': 55, 'yandex': 120, 'vk': 115, 'google': 99, 'email': 42, 'ok': 98}\n",
        "\n",
        "sta_id = None\n",
        "sta_vl = 0\n",
        "\n",
        "\n",
        "for k,val in stats.items():\n",
        "  if not sta_id or val > sta_vl:\n",
        "    sta_id = k\n",
        "    sta_vl = val\n",
        "    \n",
        "print(f\"{sta_id}={sta_vl}\")"
      ],
      "execution_count": 39,
      "outputs": [
        {
          "output_type": "stream",
          "text": [
            "yandex=120\n"
          ],
          "name": "stdout"
        }
      ]
    },
    {
      "cell_type": "markdown",
      "metadata": {
        "id": "3b6Ap38Tqi5x",
        "colab_type": "text"
      },
      "source": [
        "#Задание 5\n",
        "Дан поток логов по количеству просмотренных страниц для каждого пользователя. Список отсортирован по ID пользователя. Вам необходимо написать алгоритм, который считает среднее значение просмотров на пользователя. Т. е. надо посчитать отношение суммы всех просмотров к количеству уникальных пользователей. Учтите, что весь список stream не помещается в оперативную память, т. е. его нужно обрабатывать поэлементно в цикле.\n",
        "```\n",
        "stream = [\n",
        "'2018-01-01,user1,3',\n",
        "'2018-01-07,user1,4',\n",
        "'2018-03-29,user1,1',\n",
        "'2018-04-04,user1,13',\n",
        "'2018-01-05,user2,7',\n",
        "'2018-06-14,user3,4',\n",
        "'2018-07-02,user3,10',\n",
        "'2018-03-21,user4,19',\n",
        "'2018-03-22,user4,4',\n",
        "'2018-04-22,user4,8',\n",
        "'2018-05-03,user4,9',\n",
        "'2018-05-11,user4,11',\n",
        "]\n",
        "```\n",
        "\n"
      ]
    },
    {
      "cell_type": "code",
      "metadata": {
        "id": "1u5ik1vPpY38",
        "colab_type": "code",
        "colab": {
          "base_uri": "https://localhost:8080/",
          "height": 34
        },
        "outputId": "56cc6c49-1e1e-479d-9ae6-faf716bebbf4"
      },
      "source": [
        "def fx_split_log(text):\n",
        "  \"This will parse a log-text and return a toupled data\"\n",
        "  dat = text[0:10]\n",
        "  \n",
        "  text = text[11:]; p = text.index(',')\n",
        "  usr = text[0:p]\n",
        "  \n",
        "  val = int(text[p+1:])\n",
        "  \n",
        "  return (dat,usr,val)\n",
        "\n",
        "stream = [\n",
        "'2018-01-01,user1,3',\n",
        "'2018-01-07,user1,4',\n",
        "'2018-03-29,user1,1',\n",
        "'2018-04-04,user1,13',\n",
        "'2018-01-05,user2,7',\n",
        "'2018-06-14,user3,4',\n",
        "'2018-07-02,user3,10',\n",
        "'2018-03-21,user4,19',\n",
        "'2018-03-22,user4,4',\n",
        "'2018-04-22,user4,8',\n",
        "'2018-05-03,user4,9',\n",
        "'2018-05-11,user4,11',\n",
        "]\n",
        "\n",
        "uid = None # the currently processed user_id\n",
        "usr = 0 # the count of unique users\n",
        "viw = 0 # total sum of views\n",
        "\n",
        "i = 0; l = len(stream)\n",
        "\n",
        "while i<l :\n",
        "  # convert text to a data-touple\n",
        "  dat = fx_split_log(stream[i])\n",
        "  \n",
        "  # because the stream is ordered by user, just tick user-counter when the user changes\n",
        "  if not uid or uid!= dat[1]:    \n",
        "    usr+= 1\n",
        "    uid = dat[1]\n",
        "    \n",
        "  viw+= dat[2]\n",
        "  i+= 1\n",
        "\n",
        "print(\"users:{0}, views:{1}, average:{2}\".format(usr,viw,float(viw)/usr))\n"
      ],
      "execution_count": 5,
      "outputs": [
        {
          "output_type": "stream",
          "text": [
            "users:4, views:93, average:23.25\n"
          ],
          "name": "stdout"
        }
      ]
    },
    {
      "cell_type": "code",
      "metadata": {
        "id": "bfgaQdGnuDxz",
        "colab_type": "code",
        "colab": {}
      },
      "source": [
        ""
      ],
      "execution_count": 0,
      "outputs": []
    },
    {
      "cell_type": "markdown",
      "metadata": {
        "id": "YQ52C8sr6hRc",
        "colab_type": "text"
      },
      "source": [
        "#Задание 6\n",
        "Дана статистика рекламных кампаний по дням. Напишите алгоритм, который по паре дата-кампания ищет значение численного столбца. Т. е. для даты '2018-01-01' и 'google' нужно получить число 25. Считайте, что все комбинации дата-кампания уникальны, а список stats легко помещается в оперативной памяти.\n",
        "\n",
        "```\n",
        "stats = [\n",
        "['2018-01-01', 'google', 25],\n",
        "['2018-01-01', 'yandex', 65],\n",
        "['2018-01-01', 'market', 89],\n",
        "['2018-01-02', 'google', 574],\n",
        "['2018-01-02', 'yandex', 249],\n",
        "['2018-01-02', 'market', 994],\n",
        "['2018-01-03', 'google', 1843],\n",
        "['2018-01-03', 'yandex', 1327],\n",
        "['2018-01-03', 'market', 1764],\n",
        "]\n",
        "```"
      ]
    },
    {
      "cell_type": "code",
      "metadata": {
        "id": "ZXWRO1qN6-9Y",
        "colab_type": "code",
        "colab": {
          "base_uri": "https://localhost:8080/",
          "height": 68
        },
        "outputId": "e2b9aed3-c79d-4f22-f0c6-1d5bf8cbb724"
      },
      "source": [
        "stats = [\n",
        "  ['2018-01-01', 'google', 25],\n",
        "  ['2018-01-01', 'yandex', 65],\n",
        "  ['2018-01-01', 'market', 89],\n",
        "  ['2018-01-02', 'google', 574],\n",
        "  ['2018-01-02', 'yandex', 249],\n",
        "  ['2018-01-02', 'market', 994],\n",
        "  ['2018-01-03', 'google', 1843],\n",
        "  ['2018-01-03', 'yandex', 1327],\n",
        "  ['2018-01-03', 'market', 1764],\n",
        "]\n",
        "\n",
        "def fx_find(date,name):\n",
        "  \"This function will look for the needed data in stats[]\"\n",
        "  i = 0; l = len(stats)\n",
        "\n",
        "  while i<l:\n",
        "    rec = stats[i]\n",
        "    # looks like the list is ordered, so check for date not to be before the stats\n",
        "    if date<rec[0]:\n",
        "      return None\n",
        "    # this means the date doesn't equal th e current record, because it's after the cuurent record's date\n",
        "    # no need to check for the site, pass to the next record\n",
        "    elif date>rec[0]:\n",
        "      pass\n",
        "    # this happens only if date==stt[0], so we may omit that construction\n",
        "    elif name==rec[1]:\n",
        "      return rec[2]\n",
        "    \n",
        "    i+=1\n",
        "  # if anything found, we'll be kicked right outta def by now\n",
        "  # so, return None to let know that nothing found by fx_find\n",
        "  return None\n",
        "  \n",
        "dat = input('Введите дату: ')\n",
        "nam = input('Введите имя : ')\n",
        "\n",
        "val = fx_find(dat,nam)\n",
        "\n",
        "if val==None:\n",
        "  print('Ничего не найдено')\n",
        "else:\n",
        "  print(f\"[{dat},{nam}] = {val}\")"
      ],
      "execution_count": 1,
      "outputs": [
        {
          "output_type": "stream",
          "text": [
            "Введите дату: 2018-01-02\n",
            "Введите имя : yandex\n",
            "[2018-01-02,yandex] = 249\n"
          ],
          "name": "stdout"
        }
      ]
    }
  ]
}