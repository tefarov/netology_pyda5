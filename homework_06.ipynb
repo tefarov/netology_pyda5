{
  "nbformat": 4,
  "nbformat_minor": 0,
  "metadata": {
    "colab": {
      "name": "homework_06",
      "version": "0.3.2",
      "provenance": [],
      "collapsed_sections": [],
      "include_colab_link": true
    },
    "kernelspec": {
      "name": "python3",
      "display_name": "Python 3"
    }
  },
  "cells": [
    {
      "cell_type": "markdown",
      "metadata": {
        "id": "view-in-github",
        "colab_type": "text"
      },
      "source": [
        "<a href=\"https://colab.research.google.com/github/tefarov/netology_pyda5/blob/master/homework_06.ipynb\" target=\"_parent\"><img src=\"https://colab.research.google.com/assets/colab-badge.svg\" alt=\"Open In Colab\"/></a>"
      ]
    },
    {
      "cell_type": "code",
      "metadata": {
        "id": "XAdVTETqBMXg",
        "colab_type": "code",
        "colab": {}
      },
      "source": [
        "import pandas as pd\n",
        "import sys\n"
      ],
      "execution_count": 0,
      "outputs": []
    },
    {
      "cell_type": "code",
      "metadata": {
        "id": "4oUZKvE7Q_a8",
        "colab_type": "code",
        "colab": {}
      },
      "source": [
        "print('reading') # read data\n",
        "rat = pd.read_csv('movies/ratings.csv')\n",
        "mov = pd.read_csv('movies/movies.csv')\n",
        "\n",
        "print('filtering') # filter only the top-rates\n",
        "rat = rat.loc[rat['rating'] == 5]\n",
        "\n",
        "print('grouping')\n",
        "# we will get a list of how much times each movie has been rated with 5-stars\n",
        "rat = rat.groupby('movieId').count()[['rating']]\n",
        "# get the top-10 of most rated movies\n",
        "rat = rat.sort_values(by=['rating'],ascending=[False])\n",
        "rat = rat.head(10)\n",
        "\n",
        "# merge movie-info\n",
        "print('merging') \n",
        "rat = rat.merge(mov,how='left',left_index=True,right_on='movieId')\n",
        "\n",
        "print('\\nThe most rated movie is:')\n",
        "print(rat.iloc[0]['title'])\n",
        "\n"
      ],
      "execution_count": 0,
      "outputs": []
    },
    {
      "cell_type": "code",
      "metadata": {
        "id": "CN-JP2wkt9BO",
        "colab_type": "code",
        "colab": {}
      },
      "source": [
        "# CONFIG\n",
        "STR_FILPATH = sys.path[0] + \"\\power.csv\"    # path to a csv-file\n",
        "\n",
        "cnt_l = ['Latvia','Lithuania','Estonia']    # specify countries' filter\n",
        "cat_l = [4,12,21]                           # specify categories' filter\n",
        "prd   = (2005,2010)                         # specify period from .. to ..\n",
        "\n",
        "# PROCESS\n",
        "\n",
        "print('Reading: ' + STR_FILPATH)\n",
        "dat = pd.read_csv(STR_FILPATH)\n",
        "print(f\"Records: {len(dat):.>12n}\")\n",
        "\n",
        "# Filter by countries\n",
        "flt = dat['country'].apply(lambda x: x in cnt_l)\n",
        "dat = dat[flt]\n",
        "print(f\"Records: {len(dat):.>12n}\")\n",
        "\n",
        "# Filter by categories\n",
        "flt = dat['category'].apply(lambda x:x in cat_l)\n",
        "dat = dat[flt]\n",
        "print(f\"Records: {len(dat):.>12n}\")\n",
        "\n",
        "# Filter by years\n",
        "dat = dat[(dat['year']>=prd[0]) & (dat['year']<=prd[1])]\n",
        "print(f\"Records: {len(dat):.>12n}\")\n",
        "\n",
        "# Non-negative numbers\n",
        "dat = dat[dat['quantity']>=0]\n",
        "print(f\"Records: {len(dat):.>12n}\")\n",
        "\n",
        "# Output total consumption\n",
        "print('-'*10)\n",
        "ttl = dat['quantity'].sum()\n",
        "print(f\"Потребление {'всего':.<10}{ttl:.>10,.0f}\".replace(',',' '))\n",
        "\n",
        "# Output consumption by countries\n",
        "print('-'*10)\n",
        "dat = dat.groupby('country')[['quantity']].sum()\n",
        "for ix,rec in dat.iterrows():\n",
        "    print(f\"Потребление {ix:.<10}{rec['quantity']:.>10,.0f}\".replace(',',' '))"
      ],
      "execution_count": 0,
      "outputs": []
    }
  ]
}