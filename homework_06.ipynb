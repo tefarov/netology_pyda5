{
  "nbformat": 4,
  "nbformat_minor": 0,
  "metadata": {
    "colab": {
      "name": "homework_06",
      "version": "0.3.2",
      "provenance": [],
      "collapsed_sections": [
        "KHFneu8dJuHk",
        "i_hyJGOnJ1WY",
        "5a9HavklJs4N"
      ],
      "include_colab_link": true
    },
    "kernelspec": {
      "name": "python3",
      "display_name": "Python 3"
    }
  },
  "cells": [
    {
      "cell_type": "markdown",
      "metadata": {
        "id": "view-in-github",
        "colab_type": "text"
      },
      "source": [
        "<a href=\"https://colab.research.google.com/github/tefarov/netology_pyda5/blob/master/homework_06.ipynb\" target=\"_parent\"><img src=\"https://colab.research.google.com/assets/colab-badge.svg\" alt=\"Open In Colab\"/></a>"
      ]
    },
    {
      "cell_type": "code",
      "metadata": {
        "id": "XAdVTETqBMXg",
        "colab_type": "code",
        "colab": {}
      },
      "source": [
        "import pandas as pd\n",
        "import sys\n"
      ],
      "execution_count": 0,
      "outputs": []
    },
    {
      "cell_type": "markdown",
      "metadata": {
        "id": "KHFneu8dJuHk",
        "colab_type": "text"
      },
      "source": [
        "#Задание 1\n",
        "Скачайте с сайта https://grouplens.org/datasets/movielens/ датасет любого размера. Определите какому фильму было выставлено больше всего оценок 5.0."
      ]
    },
    {
      "cell_type": "code",
      "metadata": {
        "id": "4oUZKvE7Q_a8",
        "colab_type": "code",
        "colab": {}
      },
      "source": [
        "print('reading') # read data\n",
        "rat = pd.read_csv('movies/ratings.csv')\n",
        "mov = pd.read_csv('movies/movies.csv')\n",
        "\n",
        "print('filtering') # filter only the top-rates\n",
        "rat = rat.loc[rat['rating'] == 5]\n",
        "\n",
        "print('grouping')\n",
        "# we will get a list of how much times each movie has been rated with 5-stars\n",
        "rat = rat.groupby('movieId').count()[['rating']]\n",
        "# get the top-10 of most rated movies\n",
        "rat = rat.sort_values(by=['rating'],ascending=[False])\n",
        "rat = rat.head(10)\n",
        "\n",
        "# merge movie-info\n",
        "print('merging') \n",
        "rat = rat.merge(mov,how='left',left_index=True,right_on='movieId')\n",
        "\n",
        "print('\\nThe most rated movie is:')\n",
        "print(rat.iloc[0]['title'])"
      ],
      "execution_count": 0,
      "outputs": []
    },
    {
      "cell_type": "markdown",
      "metadata": {
        "id": "i_hyJGOnJ1WY",
        "colab_type": "text"
      },
      "source": [
        "# Задание 2\n",
        "По данным файла power.csv посчитайте суммарное потребление стран Прибалтики (Латвия, Литва и Эстония) категорий 4, 12 и 21 за период с 2005 по 2010 года. Не учитывайте в расчетах отрицательные значения quantity."
      ]
    },
    {
      "cell_type": "code",
      "metadata": {
        "id": "CN-JP2wkt9BO",
        "colab_type": "code",
        "colab": {}
      },
      "source": [
        "# CONFIG\n",
        "STR_FILPATH = sys.path[0] + \"\\power.csv\"    # path to a csv-file\n",
        "\n",
        "cnt_l = ['Latvia','Lithuania','Estonia']    # specify countries' filter\n",
        "cat_l = [4,12,21]                           # specify categories' filter\n",
        "prd   = (2005,2010)                         # specify period from .. to ..\n",
        "\n",
        "# PROCESS\n",
        "\n",
        "print('Reading: ' + STR_FILPATH)\n",
        "dat = pd.read_csv(STR_FILPATH)\n",
        "print(f\"Records: {len(dat):.>12n}\")\n",
        "\n",
        "# Filter by countries\n",
        "flt = dat['country'].apply(lambda x: x in cnt_l)\n",
        "dat = dat[flt]\n",
        "print(f\"Records: {len(dat):.>12n}\")\n",
        "\n",
        "# Filter by categories\n",
        "flt = dat['category'].apply(lambda x:x in cat_l)\n",
        "dat = dat[flt]\n",
        "print(f\"Records: {len(dat):.>12n}\")\n",
        "\n",
        "# Filter by years\n",
        "dat = dat[(dat['year']>=prd[0]) & (dat['year']<=prd[1])]\n",
        "print(f\"Records: {len(dat):.>12n}\")\n",
        "\n",
        "# Get rid of non-negative numbers\n",
        "dat = dat[dat['quantity']>=0]\n",
        "print(f\"Records: {len(dat):.>12n}\")\n",
        "\n",
        "# Output total consumption\n",
        "print('-'*10)\n",
        "ttl = dat['quantity'].sum()\n",
        "print(f\"Потребление {'всего':.<10}{ttl:.>10,.0f}\".replace(',',' '))\n",
        "\n",
        "# Output consumption by countries\n",
        "print('-'*10)\n",
        "dat = dat.groupby('country')[['quantity']].sum()\n",
        "for ix,rec in dat.iterrows():\n",
        "    print(f\"Потребление {ix:.<10}{rec['quantity']:.>10,.0f}\".replace(',',' '))"
      ],
      "execution_count": 0,
      "outputs": []
    },
    {
      "cell_type": "markdown",
      "metadata": {
        "id": "5a9HavklJs4N",
        "colab_type": "text"
      },
      "source": [
        "# Задание 3\n",
        "Выберите страницу любого сайта с табличными данными. Импортируйте таблицы в pandas dataframe."
      ]
    },
    {
      "cell_type": "code",
      "metadata": {
        "id": "hf7OJLKpJoEY",
        "colab_type": "code",
        "colab": {
          "base_uri": "https://localhost:8080/",
          "height": 0
        },
        "outputId": "bbf5c69a-4064-48b6-fb57-0550700c9e94"
      },
      "source": [
        "dat_l = pd.read_html('https://fortrader.org/quotes',header=0)\n",
        "dat = dat_l[1]\n",
        "\n",
        "print(dat)\n",
        "print(dat.info())"
      ],
      "execution_count": 26,
      "outputs": [
        {
          "output_type": "stream",
          "text": [
            "                                    Type          Last     Chg.  Chg.%  Time\n",
            "0                      ВТБ Акции ОАО ВТБ       0.03811  0.00000   0.00   NaN\n",
            "1                 Газпром Акции газпрома     229.32000     0.00   0.00   NaN\n",
            "2                    Лукоил Акции Лукойл    5168.00000      0.0   0.00   NaN\n",
            "3                Роснефть Акции Роснефти     405.75000     0.00   0.00   NaN\n",
            "4               Сбербанк Акции Сбербанка     219.80000     0.00   0.00   NaN\n",
            "5   Сургутнефтегаз Акции Сургутнефтегаза      25.60500    0.000   0.00   NaN\n",
            "6              Норникель Акции Норникель   15400.00000        0   0.00   NaN\n",
            "7               Аэрофлот Акции Аерофлота     108.65000   +11.84  12.23   NaN\n",
            "8            Северсталь Акции Северсталь     944.60000     +0.6   0.10   NaN\n",
            "9            Транснефть Акции транснефти  145600.00000  -20 700 -12.00   NaN\n",
            "10     Ростелеком Курс акций ростелекома      80.90000    +8.07  11.08   NaN\n",
            "11                     RUSAL акции RUSAL       3.15000    +0.01   0.32   NaN\n",
            "<class 'pandas.core.frame.DataFrame'>\n",
            "RangeIndex: 12 entries, 0 to 11\n",
            "Data columns (total 5 columns):\n",
            "Type     12 non-null object\n",
            "Last     12 non-null float64\n",
            "Chg.     12 non-null object\n",
            "Chg.%    12 non-null float64\n",
            "Time     0 non-null float64\n",
            "dtypes: float64(3), object(2)\n",
            "memory usage: 560.0+ bytes\n",
            "None\n"
          ],
          "name": "stdout"
        }
      ]
    }
  ]
}