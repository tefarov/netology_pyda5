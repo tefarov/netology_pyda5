{
  "nbformat": 4,
  "nbformat_minor": 0,
  "metadata": {
    "colab": {
      "name": "homework_05.ipynb",
      "version": "0.3.2",
      "provenance": [],
      "collapsed_sections": [],
      "include_colab_link": true
    },
    "kernelspec": {
      "name": "python3",
      "display_name": "Python 3"
    }
  },
  "cells": [
    {
      "cell_type": "markdown",
      "metadata": {
        "id": "view-in-github",
        "colab_type": "text"
      },
      "source": [
        "<a href=\"https://colab.research.google.com/github/tefarov/netology_pyda5/blob/master/homework_05.ipynb\" target=\"_parent\"><img src=\"https://colab.research.google.com/assets/colab-badge.svg\" alt=\"Open In Colab\"/></a>"
      ]
    },
    {
      "cell_type": "code",
      "metadata": {
        "id": "K_3Qfl6HRZsH",
        "colab_type": "code",
        "colab": {}
      },
      "source": [
        "import numpy as np"
      ],
      "execution_count": 0,
      "outputs": []
    },
    {
      "cell_type": "markdown",
      "metadata": {
        "id": "cxAXe7bXQ50v",
        "colab_type": "text"
      },
      "source": [
        "#Задание 1\n",
        "Создайте numpy array с элементами от числа N до 0 (например, для N = 10 это будет\n",
        "```\n",
        "array([9, 8, 7, 6, 5, 4, 3, 2, 1, 0])).\n",
        "```"
      ]
    },
    {
      "cell_type": "code",
      "metadata": {
        "id": "yIhGYGk1Qyds",
        "colab_type": "code",
        "colab": {
          "base_uri": "https://localhost:8080/",
          "height": 34
        },
        "outputId": "d22ccce9-9c81-4e54-a1c4-2d6fcc27c3a0"
      },
      "source": [
        "def fx_array(n):\n",
        "  if type(n)==float:\n",
        "    n = int(n)\n",
        "  if not type(n)==int:\n",
        "    raise Exception('n should be an int or float')\n",
        "  if n<=0 :\n",
        "    raise Exception('n should be positive')\n",
        "  \n",
        "  arr = np.arange(n-1,-1,-1)\n",
        "  return np.array(arr)\n",
        "  \n",
        "val = fx_array(10)\n",
        "print(val,type(val))"
      ],
      "execution_count": 2,
      "outputs": [
        {
          "output_type": "stream",
          "text": [
            "[9 8 7 6 5 4 3 2 1 0] <class 'numpy.ndarray'>\n"
          ],
          "name": "stdout"
        }
      ]
    },
    {
      "cell_type": "markdown",
      "metadata": {
        "id": "NggzRhz_RJXG",
        "colab_type": "text"
      },
      "source": [
        "#Задание 2\n",
        "Создайте диагональную матрицу с элементами от N до 0. Посчитайте сумму ее значений на диагонали."
      ]
    },
    {
      "cell_type": "code",
      "metadata": {
        "id": "CFIEW1wyRSY3",
        "colab_type": "code",
        "colab": {
          "base_uri": "https://localhost:8080/",
          "height": 187
        },
        "outputId": "c0a29334-cd70-4206-a6c3-37a5fd8634af"
      },
      "source": [
        "def fx_matrix(n):\n",
        "  \"This function will generate a square matrix, with values n to 0 on a main diagonal\"\n",
        "  if type(n)==float:\n",
        "    n = int(n)\n",
        "  if not type(n)==int:\n",
        "    raise Exception('n should be an int or float')\n",
        "  if n<=0 :\n",
        "    raise Exception('n should be positive')\n",
        "    \n",
        "  return np.eye(n+1) * range(n,-1,-1)\n",
        "\n",
        "def fx_sum(matrix):\n",
        "  \"This function will summarize the values on a main diagonal of a square numeric matrix \"\n",
        "  shp = matrix.shape\n",
        "  if not len(shp) == 2:    raise Exception(f'Matrix should be square, but not {len(shp)}-dimension')\n",
        "  if not shp[0] == shp[1]: raise Exception(f'Matrix should be square, but not {shp[0]}x{shp[1]}')\n",
        "  \n",
        "  sum = 0.0\n",
        "  \n",
        "  for i in range(shp[0]):\n",
        "    sum+= matrix[i,i]\n",
        "  \n",
        "  return sum\n",
        "\n",
        "mtx = fx_matrix(5); print(f'The matrix:\\n{mtx}\\n{type(mtx)}\\n{\"-\"*25}')\n",
        "val = fx_sum(mtx);  print(f'Sum of matrix diagonal: {val}')"
      ],
      "execution_count": 3,
      "outputs": [
        {
          "output_type": "stream",
          "text": [
            "The matrix:\n",
            "[[5. 0. 0. 0. 0. 0.]\n",
            " [0. 4. 0. 0. 0. 0.]\n",
            " [0. 0. 3. 0. 0. 0.]\n",
            " [0. 0. 0. 2. 0. 0.]\n",
            " [0. 0. 0. 0. 1. 0.]\n",
            " [0. 0. 0. 0. 0. 0.]]\n",
            "<class 'numpy.ndarray'>\n",
            "-------------------------\n",
            "Sum of matrix diagonal: 15.0\n"
          ],
          "name": "stdout"
        }
      ]
    },
    {
      "cell_type": "markdown",
      "metadata": {
        "id": "zqfvtXdaRObH",
        "colab_type": "text"
      },
      "source": [
        "#Задание 3\n",
        "Решите систему уравнений:\n",
        "<br>4x + 2y + z = 4\n",
        "<br>x + 3y = 12\n",
        "<br>5y + 4z = -3"
      ]
    },
    {
      "cell_type": "code",
      "metadata": {
        "id": "ybFVGhq5RSzB",
        "colab_type": "code",
        "colab": {
          "base_uri": "https://localhost:8080/",
          "height": 34
        },
        "outputId": "f36560e0-c006-477e-81c8-16a1c98cac50"
      },
      "source": [
        "koe = []\n",
        "koe.append([4,2,1])\n",
        "koe.append([1,3,0])\n",
        "koe.append([0,5,4])\n",
        "koe = np.array(koe)\n",
        "\n",
        "val = [4,12,-3]\n",
        "val = np.array(val)\n",
        "\n",
        "slv = np.linalg.solve(koe,val)\n",
        "print(\"x={0:.6}, y={1:.6}, z={2:.6}\".format(slv[0],slv[1],slv[2]))"
      ],
      "execution_count": 4,
      "outputs": [
        {
          "output_type": "stream",
          "text": [
            "x=0.466667, y=3.84444, z=-5.55556\n"
          ],
          "name": "stdout"
        }
      ]
    }
  ]
}