{
  "nbformat": 4,
  "nbformat_minor": 0,
  "metadata": {
    "colab": {
      "name": "homework_03.ipynb",
      "version": "0.3.2",
      "provenance": [],
      "collapsed_sections": [],
      "include_colab_link": true
    },
    "kernelspec": {
      "name": "python3",
      "display_name": "Python 3"
    }
  },
  "cells": [
    {
      "cell_type": "markdown",
      "metadata": {
        "id": "view-in-github",
        "colab_type": "text"
      },
      "source": [
        "<a href=\"https://colab.research.google.com/github/tefarov/netology_pyda5/blob/master/homework_03.ipynb\" target=\"_parent\"><img src=\"https://colab.research.google.com/assets/colab-badge.svg\" alt=\"Open In Colab\"/></a>"
      ]
    },
    {
      "cell_type": "markdown",
      "metadata": {
        "id": "t8-uwWL2aNxH",
        "colab_type": "text"
      },
      "source": [
        "#Задание 1\n",
        "Дан список вида:\n",
        "\n",
        "```\n",
        "data = [\n",
        "[13, 25, 23, 34],\n",
        "[45, 32, 44, 47],\n",
        "[12, 33, 23, 95],\n",
        "[13, 53, 34, 35],\n",
        "]\n",
        "```\n",
        "\n",
        "\n",
        "Напишите функцию, которая возвращает сумму элементов на диагонали. Т. е. 13+32+23+35."
      ]
    },
    {
      "cell_type": "code",
      "metadata": {
        "id": "g-ugHBPCaU-3",
        "colab_type": "code",
        "colab": {
          "base_uri": "https://localhost:8080/",
          "height": 51
        },
        "outputId": "b08f212c-57e4-4281-e267-413cbd1b015d"
      },
      "source": [
        "def fx_sumdiagonal(matrix,is_forward=True):\n",
        "  sum = 0\n",
        "  l = len(matrix);i =0;\n",
        "  \n",
        "  j = 0 if is_forward else l-1\n",
        "  \n",
        "  while i<l:\n",
        "    row = matrix[i]\n",
        "    if not j<len(row):\n",
        "      return sum\n",
        "    sum+= row[j]\n",
        "    i+= 1\n",
        "    j+= 1 if is_forward else -1\n",
        "    \n",
        "  return sum\n",
        "  \n",
        "myData = [\n",
        "[13, 25, 23, 34],\n",
        "[45, 32, 44, 47],\n",
        "[12, 33, 23, 95],\n",
        "[13, 53, 34, 35],\n",
        "]\n",
        "\n",
        "print(\"Forward:\",fx_sumdiagonal(myData))\n",
        "print(\"Reverse:\",fx_sumdiagonal(myData,False))"
      ],
      "execution_count": 13,
      "outputs": [
        {
          "output_type": "stream",
          "text": [
            "Forward: 103\n",
            "Reverse: 124\n"
          ],
          "name": "stdout"
        }
      ]
    },
    {
      "cell_type": "markdown",
      "metadata": {
        "id": "XzgxAtxadCZb",
        "colab_type": "text"
      },
      "source": [
        "#Задание 2\n",
        "Дан список чисел, часть из которых имеют строковый тип или содержат буквы. Напишите функцию, которая возвращает сумму квадратов элементов, которые могут быть числами.\n",
        "```\n",
        "data = [1, '5', 'abc', 20, '2']\n",
        "```"
      ]
    },
    {
      "cell_type": "code",
      "metadata": {
        "id": "nwCfggIgdOjA",
        "colab_type": "code",
        "colab": {
          "base_uri": "https://localhost:8080/",
          "height": 34
        },
        "outputId": "fd48f48f-401c-46e3-cd28-2c5e04225e4d"
      },
      "source": [
        "def fx_sumsquares(data):\n",
        "  sum = 0\n",
        "  for val in data:\n",
        "    try:\n",
        "      sum+= float(val) ** 2\n",
        "    except:\n",
        "      pass\n",
        "    \n",
        "  return sum\n",
        "  \n",
        "myData = [1, '5', 'abc', 20, '2']\n",
        "\n",
        "print(\"Square sum:\",fx_sumsquares(myData))"
      ],
      "execution_count": 16,
      "outputs": [
        {
          "output_type": "stream",
          "text": [
            "Square sum: 430.0\n"
          ],
          "name": "stdout"
        }
      ]
    },
    {
      "cell_type": "markdown",
      "metadata": {
        "id": "mJKFbfsOf0MV",
        "colab_type": "text"
      },
      "source": [
        "#Задание 3\n",
        "Напишите функцию, возвращающую сумму первых n чисел Фибоначчи"
      ]
    },
    {
      "cell_type": "code",
      "metadata": {
        "id": "p2YY72kjf-9_",
        "colab_type": "code",
        "colab": {
          "base_uri": "https://localhost:8080/",
          "height": 170
        },
        "outputId": "5e019687-308f-4588-9e94-6f1a322d9590"
      },
      "source": [
        "def fx_fibonachi(n,is_sum=False):\n",
        "  if not type(n) == int:\n",
        "    return None\n",
        "  elif n < 2:\n",
        "    return 0\n",
        "  \n",
        "  a = 0\n",
        "  b = 1\n",
        "  val = b\n",
        "\n",
        "  for _ in range(0,n-2):\n",
        "    a,b = b, a+b # original code: https://habr.com/ru/post/261159/\n",
        "    val = b + (val if is_sum else 0)\n",
        "    \n",
        "  return val\n",
        "\n",
        "\n",
        "for x in range(1,10):\n",
        "  print(\"Fibonachi({0})={1: 3}, Sum(Fibonachi({0}))={2: 3}\".format(x,fx_fibonachi(x),fx_fibonachi(x,True)))"
      ],
      "execution_count": 17,
      "outputs": [
        {
          "output_type": "stream",
          "text": [
            "Fibonachi(1)=  0, Sum(Fibonachi(1))=  0\n",
            "Fibonachi(2)=  1, Sum(Fibonachi(2))=  1\n",
            "Fibonachi(3)=  1, Sum(Fibonachi(3))=  2\n",
            "Fibonachi(4)=  2, Sum(Fibonachi(4))=  4\n",
            "Fibonachi(5)=  3, Sum(Fibonachi(5))=  7\n",
            "Fibonachi(6)=  5, Sum(Fibonachi(6))= 12\n",
            "Fibonachi(7)=  8, Sum(Fibonachi(7))= 20\n",
            "Fibonachi(8)= 13, Sum(Fibonachi(8))= 33\n",
            "Fibonachi(9)= 21, Sum(Fibonachi(9))= 54\n"
          ],
          "name": "stdout"
        }
      ]
    },
    {
      "cell_type": "markdown",
      "metadata": {
        "id": "H3JowDoPr0fK",
        "colab_type": "text"
      },
      "source": [
        "#Задание 4\n",
        "Дан набор данных об обучении студентов на курсе программирования, который содержит: 1) имя 2) фамилию 3) пол 4) наличие у студента опыта в программировании 5) набор оценок за домашние работы 6) оценку за итоговую работу.\n",
        "Напишите программу, которая будет принимать команду от пользователя и возвращать соотвествующий результат. Список команд: 1 - вывести на экран среднюю оценку за все ДЗ по группе и вывести на экран среднюю оценку за экзамен по группе; 2 - вывести среднюю оценку за ДЗ и за экзамен по группе в разрезе пола студентов 3 - вывести среднюю оценку за ДЗ и за экзамен в разрезе наличия опыта в программировании у студентов.\n",
        "Прогрмма должна быть полностью декомпозирована на функции (кроме объявления функций и вызова итоговой функции в реализации ничего быть не должно).\n",
        "```\n",
        "  students_list = [\n",
        "{'name': 'Василий', 'surname': 'Теркин', 'sex': 'м', 'program_exp': True, 'grade': [8, 8, 9, 10, 9], 'exam': 9},\n",
        "{'name': 'Мария', 'surname': 'Павлова', 'sex': 'ж', 'program_exp': True, 'grade': [7, 8, 9, 7, 9], 'exam': 8},\n",
        "{'name': 'Ирина', 'surname': 'Андреева', 'sex': 'ж', 'program_exp': True, 'grade': [10, 9, 8, 10, 10], 'exam': 10},\n",
        "{'name': 'Татьяна', 'surname': 'Сидорова', 'sex': 'ж', 'program_exp': True, 'grade': [7, 8, 8, 9, 8], 'exam': 8},\n",
        "{'name': 'Иван', 'surname': 'Васильев', 'sex': 'ж', 'program_exp': True, 'grade': [9, 8, 9, 6, 9], 'exam': 10},\n",
        "{'name': 'Роман', 'surname': 'Золотарев', 'sex': 'ж', 'program_exp': False, 'grade': [8, 9, 9, 6, 9], 'exam': 10}\n",
        "]\n",
        "```"
      ]
    },
    {
      "cell_type": "code",
      "metadata": {
        "id": "7M09v36drdIn",
        "colab_type": "code",
        "colab": {
          "base_uri": "https://localhost:8080/",
          "height": 136
        },
        "outputId": "adc4c5ad-3ff0-43e6-de06-81718c997590"
      },
      "source": [
        "def fx_gradestat(data,*args):\n",
        "    \"\"\"This function will return a tuple with stats for some grade-list:\n",
        "    (number of grades, sum of grades, average grade)\n",
        "    \"\"\"\n",
        "    if not type(data) == list:\n",
        "        data = [data]\n",
        "    if type(args) == tuple:\n",
        "        data.extend(args)\n",
        "    \n",
        "    sum = 0\n",
        "    num = 0\n",
        "\n",
        "    for grd in data:\n",
        "        try:\n",
        "            grd = int(grd)\n",
        "            if grd > 0 and grd<= 10:\n",
        "                sum+= grd\n",
        "                num+= 1\n",
        "        except:\n",
        "            pass\n",
        "    \n",
        "    avg = 0 if num == 0 else sum / float(num)\n",
        "    \n",
        "    return (num,sum,avg)\n",
        "\n",
        "def fx_groupstats(data,group_by=None,is_exam=True):\n",
        "    \"\"\" This function will create statistics for some data-collection.\n",
        "    group_by: a field to group collection by or None, to get stats for the whole group\n",
        "     is_exam: shall the grade-statistics include exam-grades or not  \n",
        "    \"\"\"\n",
        "    # number of digits to round average results to\n",
        "    INT_ROUNDIG = 7\n",
        "    # a result dictionary with keys = groups, \n",
        "    group = { }\n",
        "\n",
        "    for stu in data:\n",
        "        grp = 'group' if group_by==None else stu[group_by]\n",
        "        # append a new stats-tuple to the result dictionary if this group is not there yet\n",
        "        if not grp in group.keys():\n",
        "            group[grp] = (0,0,0,0) # gradenum, gradesum, examnum, examsum\n",
        "        \n",
        "        stt = fx_gradestat(stu['grade'],stu['exam'] if is_exam else None)\n",
        "        val = group[grp]\n",
        "        group[grp] = (\n",
        "            val[0]+stt[0],          # number of grades\n",
        "            val[1]+stt[1],          # sum of grades\n",
        "            val[2]+1,               # number of exams\n",
        "            val[3]+int(stu['exam']) # sum of exam grades\n",
        "            ) \n",
        "    \n",
        "    for grp,stt in group.items():\n",
        "        val = { }\n",
        "        num = stt[0]\n",
        "        val['grade'] = 0.0 if num==0 else round(float(stt[1])/num,INT_ROUNDIG)\n",
        "        num = stt[2]\n",
        "        val['exam' ] = 0.0 if num==0 else round(float(stt[3])/num,INT_ROUNDIG)\n",
        "        # now the result dict conatians not tuples, but dictionaries as data .. in needs of code reading\n",
        "        group[grp] = val\n",
        "    \n",
        "    return group\n",
        "\n",
        "def fx_stats(data,mode=1):\n",
        "    \"Will display group-states, depending on the mode specified\"\n",
        "    gby = None  # what to group by\n",
        "    exm = False # to show exams explicitly, or include in grades\n",
        "    # 1 - вывести на экран среднюю оценку за все ДЗ по группе и вывести на экран среднюю оценку за экзамен по группе;\n",
        "    if mode==1:\n",
        "        gby = None\n",
        "        exm = True\n",
        "    # 2 - вывести среднюю оценку за ДЗ и за экзамен по группе в разрезе пола студентов\n",
        "    # I assume i need to include exam-grades into grade-stats\n",
        "    elif mode==2:\n",
        "        gby = 'sex'\n",
        "        exm = False\n",
        "    # 3 - вывести среднюю оценку за ДЗ и за экзамен в разрезе наличия опыта в программировании у студентов.\n",
        "    # I assume i need to include exam-grades into grade-stats\n",
        "    elif mode==3:\n",
        "        gby = 'program_exp'\n",
        "        exm = False\n",
        "    else :\n",
        "        raise Exception(f'Mode {mode} is not supported in fx_stats(data,mode)')\n",
        "    \n",
        "    # the result stats-data\n",
        "    stt = fx_groupstats(data,gby,False)\n",
        "    gby = gby if gby else ''\n",
        "    \n",
        "    # display each group separetly, depending on the exm-mode defined before\n",
        "    for grp,rec in stt.items():\n",
        "        if exm:\n",
        "            print(\"Average grade for {0} {1}:{2: >5.3}, average exam:{3: >5.3}\".format(gby,grp,rec['grade'],rec['exam']))\n",
        "        else:\n",
        "            print(\"Average grade for {0} {1}:{2: >5.3}\".format(gby,grp,rec['grade'],rec['exam']))\n",
        "\n",
        "students_list = [\n",
        "{'name': 'Василий', 'surname': 'Теркин', 'sex': 'м', 'program_exp': True, 'grade': [8, 8, 9, 10, 9], 'exam': 9},\n",
        "{'name': 'Мария', 'surname': 'Павлова', 'sex': 'ж', 'program_exp': True, 'grade': [7, 8, 9, 7, 9], 'exam': 8},\n",
        "{'name': 'Ирина', 'surname': 'Андреева', 'sex': 'ж', 'program_exp': True, 'grade': [10, 9, 8, 10, 10], 'exam': 10},\n",
        "{'name': 'Татьяна', 'surname': 'Сидорова', 'sex': 'ж', 'program_exp': True, 'grade': [7, 8, 8, 9, 8], 'exam': 8},\n",
        "{'name': 'Иван', 'surname': 'Васильев', 'sex': 'ж', 'program_exp': True, 'grade': [9, 8, 9, 6, 9], 'exam': 10},\n",
        "{'name': 'Роман', 'surname': 'Золотарев', 'sex': 'ж', 'program_exp': False, 'grade': [8, 9, 9, 6, 9], 'exam': 10}\n",
        "]\n",
        "\n",
        "fx_stats(students_list,1)\n",
        "print('-'*25)\n",
        "fx_stats(students_list,2)\n",
        "print('-'*25)\n",
        "fx_stats(students_list,3)"
      ],
      "execution_count": 27,
      "outputs": [
        {
          "output_type": "stream",
          "text": [
            "Average grade for  group: 8.43, average exam: 9.17\n",
            "-------------------------\n",
            "Average grade for sex м:  8.8\n",
            "Average grade for sex ж: 8.36\n",
            "-------------------------\n",
            "Average grade for program_exp True: 8.48\n",
            "Average grade for program_exp False:  8.2\n"
          ],
          "name": "stdout"
        }
      ]
    },
    {
      "cell_type": "code",
      "metadata": {
        "id": "AL60t12qGN_n",
        "colab_type": "code",
        "colab": {}
      },
      "source": [
        ""
      ],
      "execution_count": 0,
      "outputs": []
    }
  ]
}