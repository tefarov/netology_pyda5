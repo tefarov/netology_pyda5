{
  "nbformat": 4,
  "nbformat_minor": 0,
  "metadata": {
    "colab": {
      "name": "homework_04",
      "version": "0.3.2",
      "provenance": [],
      "collapsed_sections": [],
      "include_colab_link": true
    },
    "kernelspec": {
      "name": "python3",
      "display_name": "Python 3"
    }
  },
  "cells": [
    {
      "cell_type": "markdown",
      "metadata": {
        "id": "view-in-github",
        "colab_type": "text"
      },
      "source": [
        "<a href=\"https://colab.research.google.com/github/tefarov/netology_pyda5/blob/master/homework_04.ipynb\" target=\"_parent\"><img src=\"https://colab.research.google.com/assets/colab-badge.svg\" alt=\"Open In Colab\"/></a>"
      ]
    },
    {
      "cell_type": "markdown",
      "metadata": {
        "id": "rhMlqhnwOZqS",
        "colab_type": "text"
      },
      "source": [
        "#Задание 1\n",
        "Напишите функцию, которая возвращает название валюты (поле ‘Name’) с максимальным значением курса с помощью сервиса https://www.cbr-xml-daily.ru/daily_json.js"
      ]
    },
    {
      "cell_type": "code",
      "metadata": {
        "id": "A7nQD4gkOYg1",
        "colab_type": "code",
        "colab": {}
      },
      "source": [
        "\n",
        "def my_rate_max():\n",
        "    r = requests.get('https://www.cbr-xml-daily.ru/daily_json.js')\n",
        "    data = r.json()['Valute']\n",
        "    \n",
        "    val = ('',-1)\n",
        "\n",
        "    for key,cur in data.items():\n",
        "        if cur['Value'] > val[1]:\n",
        "            val = (key,cur['Value'])\n",
        "    \n",
        "    return data[val[0]]['Name']\n",
        "\n",
        "\n",
        "print(my_rate_max())"
      ],
      "execution_count": 0,
      "outputs": []
    },
    {
      "cell_type": "markdown",
      "metadata": {
        "id": "CS8PpOFBOmHZ",
        "colab_type": "text"
      },
      "source": [
        "# Задание 2\n",
        "Добавьте в класс Rate параметр diff (со значениями True или False), который в случае значения True в методах eur и usd будет возвращать не курс валюты, а изменение по сравнению в прошлым значением. Считайте, self.diff будет принимать значение True только при возврате значения курса. При отображении всей информации о валюте он не используется."
      ]
    },
    {
      "cell_type": "code",
      "metadata": {
        "id": "18f6ETqrOqDB",
        "colab_type": "code",
        "colab": {}
      },
      "source": [
        "import requests\n",
        "\n",
        "class Rate:\n",
        "    def __init__(self, format='value'):\n",
        "        self.format = format\n",
        "        self.diff = False\n",
        "    \n",
        "    def exchange_rates(self):\n",
        "        \"\"\"\n",
        "        Возвращает ответ сервиса с информацией о валютах в виде: \n",
        "        {\n",
        "            'AMD': {\n",
        "                'CharCode': 'AMD',\n",
        "                'ID': 'R01060',\n",
        "                'Name': 'Армянских драмов',\n",
        "                'Nominal': 100,\n",
        "                'NumCode': '051',\n",
        "                'Previous': 14.103,\n",
        "                'Value': 14.0879\n",
        "                },\n",
        "            ...\n",
        "        }\n",
        "        \"\"\"\n",
        "        r = requests.get('https://www.cbr-xml-daily.ru/daily_json.js')\n",
        "        return r.json()['Valute']\n",
        "    \n",
        "    def make_format(self, currency,is_diff = False):\n",
        "        \"\"\"\n",
        "        Возвращает информацию о валюте currency в двух вариантах:\n",
        "        - полная информация о валюте при self.format = 'full':\n",
        "        Rate('full').make_format('EUR')\n",
        "        {\n",
        "            'CharCode': 'EUR',\n",
        "            'ID': 'R01239',\n",
        "            'Name': 'Евро',\n",
        "            'Nominal': 1,\n",
        "            'NumCode': '978',\n",
        "            'Previous': 79.6765,\n",
        "            'Value': 79.4966\n",
        "        }\n",
        "        \n",
        "        Rate('value').make_format('EUR')\n",
        "        79.4966\n",
        "        \n",
        "        is_diff: нужно ли учитывать параметр self.diff, потому что судя по ДЗ\n",
        "        self.diff нужно учитывать не всегда, а только в некоторых вызовах\n",
        "        \"\"\"\n",
        "        response = self.exchange_rates()\n",
        "        \n",
        "        if currency in response:\n",
        "            cur = response[currency]\n",
        "            if self.format == 'full':\n",
        "                return cur\n",
        "            \n",
        "            if not self.format == 'value':\n",
        "                pass\n",
        "            elif self.diff and is_diff:\n",
        "                return round(cur['Value'] - cur['Previous'],4)\n",
        "            else:\n",
        "                return cur['Value']\n",
        "        \n",
        "        return 'Error'\n",
        "\n",
        "    def eur(self):\n",
        "        \"\"\"Возвращает курс евро на сегодня в формате self.format\"\"\"\n",
        "        return self.make_format('EUR',True)\n",
        "    \n",
        "    def usd(self):\n",
        "        \"\"\"Возвращает курс доллара на сегодня в формате self.format\"\"\"\n",
        "        return self.make_format('USD',True)\n",
        "\n",
        "    def AZN(self):\n",
        "        \"\"\"Возвращает курс азербайджанского маната на сегодня в формате self.format\"\"\"\n",
        "        \n",
        "        return self.make_format('AZN')"
      ],
      "execution_count": 0,
      "outputs": []
    },
    {
      "cell_type": "code",
      "metadata": {
        "id": "7G_lQMH7EqmC",
        "colab_type": "code",
        "outputId": "cc091f92-50b6-42bc-d610-d8e0cb029b72",
        "colab": {
          "base_uri": "https://localhost:8080/",
          "height": 119
        }
      },
      "source": [
        "rat = Rate()\n",
        "\n",
        "print(\"USD rate: \",rat.usd())\n",
        "print(\"EUR rate: \",rat.eur())\n",
        "print(\"AZN rate: \",rat.AZN())\n",
        "\n",
        "rat.diff = True\n",
        "print(\"USD diff: \",rat.usd())\n",
        "print(\"EUR diff: \",rat.eur())\n",
        "print(\"AZN diff: \",rat.AZN())"
      ],
      "execution_count": 8,
      "outputs": [
        {
          "output_type": "stream",
          "text": [
            "USD rate:  65.9961\n",
            "EUR rate:  73.2227\n",
            "AZN rate:  38.9013\n",
            "USD diff:  0.1054\n",
            "EUR diff:  -0.2323\n",
            "AZN diff:  38.9013\n"
          ],
          "name": "stdout"
        }
      ]
    },
    {
      "cell_type": "markdown",
      "metadata": {
        "id": "duOHe3OaOqaa",
        "colab_type": "text"
      },
      "source": [
        "# Задание 3\n",
        "Напишите класс Designer, который учитывает количество международных премий для дизайнеров. Считайте, что при выходе на работу сотрудник уже имеет две премии и их количество не меняется со стажем (конечно если хотите это можно вручную менять). Выполните проверку для 20 аккредитаций дизайнера Елены.\n"
      ]
    },
    {
      "cell_type": "code",
      "metadata": {
        "id": "VJjxoHaQEpp-",
        "colab_type": "code",
        "colab": {}
      },
      "source": [
        "class Employee:\n",
        "    def __init__(self, name, seniority):\n",
        "        self.name = name\n",
        "        self.seniority = seniority\n",
        "        \n",
        "        self.grade = 1\n",
        "    \n",
        "    def grade_up(self):\n",
        "        \"\"\"Повышает уровень сотрудника\"\"\"\n",
        "        self.grade += 1\n",
        "    \n",
        "    def publish_grade(self):\n",
        "        \"\"\"Публикация результатов аккредитации сотрудников\"\"\"\n",
        "        print(self.name, self.grade)"
      ],
      "execution_count": 0,
      "outputs": []
    },
    {
      "cell_type": "code",
      "metadata": {
        "id": "FL3ZE6LrOv3x",
        "colab_type": "code",
        "colab": {}
      },
      "source": [
        "class Designer(Employee):\n",
        "  def __init__(self,name,seniority,awards):\n",
        "    super().__init__(name,seniority)\n",
        "    self.awards = awards\n",
        "    \n",
        "  def check_if_it_is_time_for_upgrade(self):\n",
        "        # для каждой аккредитации увеличиваем счетчик на 1\n",
        "        # пока считаем, что все дизайнеры проходят аккредитацию\n",
        "        self.seniority += 1\n",
        "        \n",
        "        # общее количество баллов это стаж + премии, а за премию даётся два балла\n",
        "        sen = self.seniority + self.awards * 2\n",
        "        \n",
        "        # условие повышения сотрудника из презентации\n",
        "        if sen % 7 == 0:\n",
        "            self.grade_up()\n",
        "        \n",
        "        # публикация результатов\n",
        "        return self.publish_grade()"
      ],
      "execution_count": 0,
      "outputs": []
    },
    {
      "cell_type": "code",
      "metadata": {
        "id": "9wywFwRCEHAE",
        "colab_type": "code",
        "colab": {
          "base_uri": "https://localhost:8080/",
          "height": 357
        },
        "outputId": "ef28e084-d93b-4985-8612-852857708144"
      },
      "source": [
        "elena = Designer('Елена', seniority=0, awards=2)\n",
        "\n",
        "for i in range(20):\n",
        "    elena.check_if_it_is_time_for_upgrade()"
      ],
      "execution_count": 13,
      "outputs": [
        {
          "output_type": "stream",
          "text": [
            "Елена 1\n",
            "Елена 1\n",
            "Елена 2\n",
            "Елена 2\n",
            "Елена 2\n",
            "Елена 2\n",
            "Елена 2\n",
            "Елена 2\n",
            "Елена 2\n",
            "Елена 3\n",
            "Елена 3\n",
            "Елена 3\n",
            "Елена 3\n",
            "Елена 3\n",
            "Елена 3\n",
            "Елена 3\n",
            "Елена 4\n",
            "Елена 4\n",
            "Елена 4\n",
            "Елена 4\n"
          ],
          "name": "stdout"
        }
      ]
    },
    {
      "cell_type": "code",
      "metadata": {
        "id": "RL3Dhe6DIRGT",
        "colab_type": "code",
        "colab": {}
      },
      "source": [
        ""
      ],
      "execution_count": 0,
      "outputs": []
    }
  ]
}