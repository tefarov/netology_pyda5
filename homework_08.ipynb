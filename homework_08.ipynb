{
  "nbformat": 4,
  "nbformat_minor": 0,
  "metadata": {
    "colab": {
      "name": "homework_08",
      "version": "0.3.2",
      "provenance": [],
      "collapsed_sections": [
        "8jwDww5_6f_s",
        "Z_aNoNve-kkY",
        "CLaX3NLs1-fg",
        "_amKyhdI4Tya",
        "vG00kwZ1CWvv"
      ],
      "include_colab_link": true
    },
    "kernelspec": {
      "name": "python3",
      "display_name": "Python 3"
    }
  },
  "cells": [
    {
      "cell_type": "markdown",
      "metadata": {
        "id": "view-in-github",
        "colab_type": "text"
      },
      "source": [
        "<a href=\"https://colab.research.google.com/github/tefarov/netology_pyda5/blob/master/homework_08.ipynb\" target=\"_parent\"><img src=\"https://colab.research.google.com/assets/colab-badge.svg\" alt=\"Open In Colab\"/></a>"
      ]
    },
    {
      "cell_type": "code",
      "metadata": {
        "id": "kUPzbHdm6YXP",
        "colab_type": "code",
        "colab": {}
      },
      "source": [
        "import pandas as pd\n",
        "import datetime as dt\n",
        "import sys"
      ],
      "execution_count": 0,
      "outputs": []
    },
    {
      "cell_type": "markdown",
      "metadata": {
        "id": "8jwDww5_6f_s",
        "colab_type": "text"
      },
      "source": [
        "# Задание 1.\n",
        "Посчитайте среднее время жизни пользователей, которые выставили более 100 оценок. Под временем жизни понимается разница между максимальным и минимальным значением столбца timestamp для данного значения userId"
      ]
    },
    {
      "cell_type": "code",
      "metadata": {
        "id": "2FZ-UprQ6eP2",
        "colab_type": "code",
        "colab": {}
      },
      "source": [
        "STR_PTHFOLD = sys.path[0]\n",
        "STR_PTHRATG = STR_PTHFOLD + r\"\\ratings.csv\"\n",
        "\n",
        "# импорт данных и превращаем timestamp  в читаемую datetime\n",
        "rat_df = pd.read_csv(STR_PTHRATG)\n",
        "rat_df['time'] = rat_df['timestamp'].apply(lambda x: dt.datetime.fromtimestamp(x))\n",
        "rat_df.head()"
      ],
      "execution_count": 0,
      "outputs": []
    },
    {
      "cell_type": "code",
      "metadata": {
        "id": "KLfFbOuO6u-A",
        "colab_type": "code",
        "colab": {}
      },
      "source": [
        "# группируем рэйтинги по пользователю\n",
        "usr_gp = rat_df.groupby('userId')\n",
        "# создаём таблицу пользователей и отбираме тех,\n",
        "# у которых количество оценок соответствует заданному порогу\n",
        "usr_df = usr_gp.count()[['time']]\n",
        "usr_df = usr_df[usr_df.time > 100]\n",
        "usr_df.head()"
      ],
      "execution_count": 0,
      "outputs": []
    },
    {
      "cell_type": "code",
      "metadata": {
        "id": "zVGqdWkV7VIq",
        "colab_type": "code",
        "colab": {}
      },
      "source": [
        "min_df = usr_gp.min()[['time']] # фрейм с временем первой оценки\n",
        "max_df = usr_gp.max()[['time']] # фрейм с врменеем последней оценки\n",
        "# объединяем по индексу всё в один фрейм\n",
        "usr_df = (usr_df\n",
        "            .join(min_df,how='left',rsuffix='_min')\n",
        "            .join(max_df,how='left',rsuffix='_max')\n",
        "            )\n",
        "usr_df.head()"
      ],
      "execution_count": 0,
      "outputs": []
    },
    {
      "cell_type": "code",
      "metadata": {
        "id": "pCDm61Le8VcH",
        "colab_type": "code",
        "colab": {}
      },
      "source": [
        "# расчёт средней продолжительности жизни для каждого пользователя\n",
        "usr_df['lifetime'] = (usr_df['time_max'] - usr_df['time_min'])\n",
        "# расчёт средней продолжительности жизни по всем отобранным пользователям\n",
        "lft = usr_df['lifetime'].mean()\n",
        "\n",
        "print(\"Средняя продолжительность жизни пользователя: {0} дн. {1} ч. {2} мин. {3} сек.\".format(lft.components.days,lft.components.hours,lft.components.minutes,lft.components.seconds))"
      ],
      "execution_count": 0,
      "outputs": []
    },
    {
      "cell_type": "markdown",
      "metadata": {
        "id": "Z_aNoNve-kkY",
        "colab_type": "text"
      },
      "source": [
        "# Задание 2\n",
        "Дана статистика услуг перевозок клиентов компании по типам\n",
        "rzd - железнодорожные перевозки\n",
        "auto - автомобильные перевозки\n",
        "air - воздушные перевозки\n",
        "client_base - адреса клиентов\n",
        "\n",
        "Необходимо сформировать две таблицы:\n",
        " 1. таблицу с тремя типами выручки для каждого client_id без указания адреса клиента\n",
        " 2. аналогичную таблицу по типам выручки с указанием адреса клиента\n",
        "Обратите внимание, что в процессе объединения таблиц данные не должны теряться."
      ]
    },
    {
      "cell_type": "code",
      "metadata": {
        "id": "P5279WP8-xpg",
        "colab_type": "code",
        "colab": {}
      },
      "source": [
        "rzd = pd.DataFrame(\n",
        "    {\n",
        "        'client_id': [111, 112, 113, 114, 115],\n",
        "        'rzd_revenue': [1093, 2810, 10283, 5774, 981]\n",
        "    }\n",
        ")\n",
        "rzd"
      ],
      "execution_count": 0,
      "outputs": []
    },
    {
      "cell_type": "code",
      "metadata": {
        "id": "d2UDc-mm-3Ue",
        "colab_type": "code",
        "colab": {}
      },
      "source": [
        "auto = pd.DataFrame(\n",
        "    {\n",
        "        'client_id': [113, 114, 115, 116, 117],\n",
        "        'auto_revenue': [57483, 83, 912, 4834, 98]\n",
        "    }\n",
        ")\n",
        "auto"
      ],
      "execution_count": 0,
      "outputs": []
    },
    {
      "cell_type": "code",
      "metadata": {
        "id": "dRnPcZ6F-5pt",
        "colab_type": "code",
        "colab": {}
      },
      "source": [
        "air = pd.DataFrame(\n",
        "    {\n",
        "        'client_id': [115, 116, 117, 118],\n",
        "        'air_revenue': [81, 4, 13, 173]\n",
        "    }\n",
        ")\n",
        "air"
      ],
      "execution_count": 0,
      "outputs": []
    },
    {
      "cell_type": "code",
      "metadata": {
        "id": "zNvlYzir-_2G",
        "colab_type": "code",
        "colab": {}
      },
      "source": [
        "client_base = pd.DataFrame(\n",
        "    {\n",
        "        'client_id': [111, 112, 113, 114, 115, 116, 117, 118],\n",
        "        'address': ['Комсомольская 4', 'Энтузиастов 8а', 'Левобережная 1а', 'Мира 14', 'ЗЖБИиДК 1', \n",
        "                    'Строителей 18', 'Панфиловская 33', 'Мастеркова 4']\n",
        "    }\n",
        ")\n",
        "client_base"
      ],
      "execution_count": 0,
      "outputs": []
    },
    {
      "cell_type": "code",
      "metadata": {
        "id": "Yb5jwMqz_D5-",
        "colab_type": "code",
        "colab": {}
      },
      "source": [
        "dat = (auto\n",
        "    .merge(rzd,how='outer',on='client_id')\n",
        "    .merge(air,how='outer',on='client_id')\n",
        ")\n",
        "dat"
      ],
      "execution_count": 0,
      "outputs": []
    },
    {
      "cell_type": "code",
      "metadata": {
        "id": "sUu4e9Ts_Hp3",
        "colab_type": "code",
        "colab": {}
      },
      "source": [
        "dat = (client_base\n",
        "        .merge(rzd ,how='left',on='client_id')\n",
        "        .merge(air ,how='left',on='client_id')\n",
        "        .merge(auto,how='left',on='client_id')\n",
        "    )\n",
        "dat"
      ],
      "execution_count": 0,
      "outputs": []
    },
    {
      "cell_type": "markdown",
      "metadata": {
        "id": "CLaX3NLs1-fg",
        "colab_type": "text"
      },
      "source": [
        "# Задание 3\n",
        "В задаче сквозной аналитики вам предоставили данные по местоположению пользователей. Т. е. для каждого user_id известна последовательность координат (широта/долгота), когда они требовались приложению для полноценной работы. \n",
        "Как бы вы добавили эти сведения в таблицу визитов и покупок?"
      ]
    },
    {
      "cell_type": "markdown",
      "metadata": {
        "id": "_amKyhdI4Tya",
        "colab_type": "text"
      },
      "source": [
        "## Исходные данные\n",
        "Допустим у нас есть следующие наборы данных :\n",
        "<br>**Гео-координаты по времени**. Предположим, что приложение, просто время от времени передаёт координаты и эти данные не привязаны ни к входам, ни к покупкам. Данные хранятся в ISO-формате для простоты чтения, для повышения скорости необходимо хранить timestamp."
      ]
    },
    {
      "cell_type": "code",
      "metadata": {
        "id": "7LUIqp8d2JfS",
        "colab_type": "code",
        "colab": {
          "base_uri": "https://localhost:8080/",
          "height": 0
        },
        "outputId": "b64f6225-f247-432e-962f-b1c09a0ae525"
      },
      "source": [
        "geo_df = [    \n",
        "    ( 1, '2019-03-01T10:14:00',54.88, 42.93),\n",
        "    ( 1, '2019-03-01T15:20:00',57.89, 48.04),\n",
        "    ( 1, '2019-03-01T18:46:00',51.61, 44.52),\n",
        "    ( 1, '2019-03-02T02:42:00',59.18, 45.20),\n",
        "    ( 1, '2019-03-02T10:02:00',56.02, 47.26),\n",
        "    ( 1, '2019-03-02T11:11:00',51.67, 40.42),\n",
        "    ( 2, '2019-03-01T12:27:00',55.13, 42.97),\n",
        "    ( 2, '2019-03-01T16:10:00',53.36, 43.96),\n",
        "    ( 2, '2019-03-02T00:03:00',53.06, 40.17),\n",
        "    ( 2, '2019-03-02T06:41:00',59.11, 49.68),\n",
        "    ( 2, '2019-03-02T11:08:00',58.28, 40.78),\n",
        "    ( 2, '2019-03-02T12:52:00',55.61, 43.31),\n",
        "    ( 3, '2019-03-01T10:03:00',58.51, 40.40),\n",
        "    ( 3, '2019-03-01T17:58:00',59.29, 45.87),\n",
        "    ( 3, '2019-03-01T20:17:00',55.24, 48.44),\n",
        "    ( 3, '2019-03-02T03:59:00',59.25, 48.37),\n",
        "    ( 3, '2019-03-02T07:45:00',59.01, 48.81),\n",
        "    ( 3, '2019-03-02T12:26:00',58.50, 44.37),\n",
        "    ( 4, '2019-03-01T10:51:00',53.60, 42.50),\n",
        "    ( 4, '2019-03-01T17:52:00',57.64, 41.97),\n",
        "    ( 4, '2019-03-01T19:51:00',51.55, 45.07),\n",
        "    ( 4, '2019-03-01T22:42:00',52.01, 48.96),\n",
        "    ( 4, '2019-03-02T05:56:00',58.21, 40.79),\n",
        "    ( 4, '2019-03-02T10:46:00',56.09, 47.75)\n",
        " ]\n",
        "geo_df = pd.DataFrame ( geo_df , columns = ['user_id','time','lat','lon'])\n",
        "geo_df.sort_values(['time'],inplace=True)\n",
        "geo_df"
      ],
      "execution_count": 7,
      "outputs": [
        {
          "output_type": "execute_result",
          "data": {
            "text/html": [
              "<div>\n",
              "<style scoped>\n",
              "    .dataframe tbody tr th:only-of-type {\n",
              "        vertical-align: middle;\n",
              "    }\n",
              "\n",
              "    .dataframe tbody tr th {\n",
              "        vertical-align: top;\n",
              "    }\n",
              "\n",
              "    .dataframe thead th {\n",
              "        text-align: right;\n",
              "    }\n",
              "</style>\n",
              "<table border=\"1\" class=\"dataframe\">\n",
              "  <thead>\n",
              "    <tr style=\"text-align: right;\">\n",
              "      <th></th>\n",
              "      <th>user_id</th>\n",
              "      <th>time</th>\n",
              "      <th>lat</th>\n",
              "      <th>lon</th>\n",
              "    </tr>\n",
              "  </thead>\n",
              "  <tbody>\n",
              "    <tr>\n",
              "      <th>12</th>\n",
              "      <td>3</td>\n",
              "      <td>2019-03-01T10:03:00</td>\n",
              "      <td>58.51</td>\n",
              "      <td>40.40</td>\n",
              "    </tr>\n",
              "    <tr>\n",
              "      <th>0</th>\n",
              "      <td>1</td>\n",
              "      <td>2019-03-01T10:14:00</td>\n",
              "      <td>54.88</td>\n",
              "      <td>42.93</td>\n",
              "    </tr>\n",
              "    <tr>\n",
              "      <th>18</th>\n",
              "      <td>4</td>\n",
              "      <td>2019-03-01T10:51:00</td>\n",
              "      <td>53.60</td>\n",
              "      <td>42.50</td>\n",
              "    </tr>\n",
              "    <tr>\n",
              "      <th>6</th>\n",
              "      <td>2</td>\n",
              "      <td>2019-03-01T12:27:00</td>\n",
              "      <td>55.13</td>\n",
              "      <td>42.97</td>\n",
              "    </tr>\n",
              "    <tr>\n",
              "      <th>1</th>\n",
              "      <td>1</td>\n",
              "      <td>2019-03-01T15:20:00</td>\n",
              "      <td>57.89</td>\n",
              "      <td>48.04</td>\n",
              "    </tr>\n",
              "    <tr>\n",
              "      <th>7</th>\n",
              "      <td>2</td>\n",
              "      <td>2019-03-01T16:10:00</td>\n",
              "      <td>53.36</td>\n",
              "      <td>43.96</td>\n",
              "    </tr>\n",
              "    <tr>\n",
              "      <th>19</th>\n",
              "      <td>4</td>\n",
              "      <td>2019-03-01T17:52:00</td>\n",
              "      <td>57.64</td>\n",
              "      <td>41.97</td>\n",
              "    </tr>\n",
              "    <tr>\n",
              "      <th>13</th>\n",
              "      <td>3</td>\n",
              "      <td>2019-03-01T17:58:00</td>\n",
              "      <td>59.29</td>\n",
              "      <td>45.87</td>\n",
              "    </tr>\n",
              "    <tr>\n",
              "      <th>2</th>\n",
              "      <td>1</td>\n",
              "      <td>2019-03-01T18:46:00</td>\n",
              "      <td>51.61</td>\n",
              "      <td>44.52</td>\n",
              "    </tr>\n",
              "    <tr>\n",
              "      <th>20</th>\n",
              "      <td>4</td>\n",
              "      <td>2019-03-01T19:51:00</td>\n",
              "      <td>51.55</td>\n",
              "      <td>45.07</td>\n",
              "    </tr>\n",
              "    <tr>\n",
              "      <th>14</th>\n",
              "      <td>3</td>\n",
              "      <td>2019-03-01T20:17:00</td>\n",
              "      <td>55.24</td>\n",
              "      <td>48.44</td>\n",
              "    </tr>\n",
              "    <tr>\n",
              "      <th>21</th>\n",
              "      <td>4</td>\n",
              "      <td>2019-03-01T22:42:00</td>\n",
              "      <td>52.01</td>\n",
              "      <td>48.96</td>\n",
              "    </tr>\n",
              "    <tr>\n",
              "      <th>8</th>\n",
              "      <td>2</td>\n",
              "      <td>2019-03-02T00:03:00</td>\n",
              "      <td>53.06</td>\n",
              "      <td>40.17</td>\n",
              "    </tr>\n",
              "    <tr>\n",
              "      <th>3</th>\n",
              "      <td>1</td>\n",
              "      <td>2019-03-02T02:42:00</td>\n",
              "      <td>59.18</td>\n",
              "      <td>45.20</td>\n",
              "    </tr>\n",
              "    <tr>\n",
              "      <th>15</th>\n",
              "      <td>3</td>\n",
              "      <td>2019-03-02T03:59:00</td>\n",
              "      <td>59.25</td>\n",
              "      <td>48.37</td>\n",
              "    </tr>\n",
              "    <tr>\n",
              "      <th>22</th>\n",
              "      <td>4</td>\n",
              "      <td>2019-03-02T05:56:00</td>\n",
              "      <td>58.21</td>\n",
              "      <td>40.79</td>\n",
              "    </tr>\n",
              "    <tr>\n",
              "      <th>9</th>\n",
              "      <td>2</td>\n",
              "      <td>2019-03-02T06:41:00</td>\n",
              "      <td>59.11</td>\n",
              "      <td>49.68</td>\n",
              "    </tr>\n",
              "    <tr>\n",
              "      <th>16</th>\n",
              "      <td>3</td>\n",
              "      <td>2019-03-02T07:45:00</td>\n",
              "      <td>59.01</td>\n",
              "      <td>48.81</td>\n",
              "    </tr>\n",
              "    <tr>\n",
              "      <th>4</th>\n",
              "      <td>1</td>\n",
              "      <td>2019-03-02T10:02:00</td>\n",
              "      <td>56.02</td>\n",
              "      <td>47.26</td>\n",
              "    </tr>\n",
              "    <tr>\n",
              "      <th>23</th>\n",
              "      <td>4</td>\n",
              "      <td>2019-03-02T10:46:00</td>\n",
              "      <td>56.09</td>\n",
              "      <td>47.75</td>\n",
              "    </tr>\n",
              "    <tr>\n",
              "      <th>10</th>\n",
              "      <td>2</td>\n",
              "      <td>2019-03-02T11:08:00</td>\n",
              "      <td>58.28</td>\n",
              "      <td>40.78</td>\n",
              "    </tr>\n",
              "    <tr>\n",
              "      <th>5</th>\n",
              "      <td>1</td>\n",
              "      <td>2019-03-02T11:11:00</td>\n",
              "      <td>51.67</td>\n",
              "      <td>40.42</td>\n",
              "    </tr>\n",
              "    <tr>\n",
              "      <th>17</th>\n",
              "      <td>3</td>\n",
              "      <td>2019-03-02T12:26:00</td>\n",
              "      <td>58.50</td>\n",
              "      <td>44.37</td>\n",
              "    </tr>\n",
              "    <tr>\n",
              "      <th>11</th>\n",
              "      <td>2</td>\n",
              "      <td>2019-03-02T12:52:00</td>\n",
              "      <td>55.61</td>\n",
              "      <td>43.31</td>\n",
              "    </tr>\n",
              "  </tbody>\n",
              "</table>\n",
              "</div>"
            ],
            "text/plain": [
              "    user_id                 time    lat    lon\n",
              "12        3  2019-03-01T10:03:00  58.51  40.40\n",
              "0         1  2019-03-01T10:14:00  54.88  42.93\n",
              "18        4  2019-03-01T10:51:00  53.60  42.50\n",
              "6         2  2019-03-01T12:27:00  55.13  42.97\n",
              "1         1  2019-03-01T15:20:00  57.89  48.04\n",
              "7         2  2019-03-01T16:10:00  53.36  43.96\n",
              "19        4  2019-03-01T17:52:00  57.64  41.97\n",
              "13        3  2019-03-01T17:58:00  59.29  45.87\n",
              "2         1  2019-03-01T18:46:00  51.61  44.52\n",
              "20        4  2019-03-01T19:51:00  51.55  45.07\n",
              "14        3  2019-03-01T20:17:00  55.24  48.44\n",
              "21        4  2019-03-01T22:42:00  52.01  48.96\n",
              "8         2  2019-03-02T00:03:00  53.06  40.17\n",
              "3         1  2019-03-02T02:42:00  59.18  45.20\n",
              "15        3  2019-03-02T03:59:00  59.25  48.37\n",
              "22        4  2019-03-02T05:56:00  58.21  40.79\n",
              "9         2  2019-03-02T06:41:00  59.11  49.68\n",
              "16        3  2019-03-02T07:45:00  59.01  48.81\n",
              "4         1  2019-03-02T10:02:00  56.02  47.26\n",
              "23        4  2019-03-02T10:46:00  56.09  47.75\n",
              "10        2  2019-03-02T11:08:00  58.28  40.78\n",
              "5         1  2019-03-02T11:11:00  51.67  40.42\n",
              "17        3  2019-03-02T12:26:00  58.50  44.37\n",
              "11        2  2019-03-02T12:52:00  55.61  43.31"
            ]
          },
          "metadata": {
            "tags": []
          },
          "execution_count": 7
        }
      ]
    },
    {
      "cell_type": "markdown",
      "metadata": {
        "id": "J7cD2kS5A1eI",
        "colab_type": "text"
      },
      "source": [
        "Визиты пользователей. Данные о сохраняются в БД в момент входа в придожение и т.к. они не привязаны  к получению данных о положении пользователя, их обычно меньше, чем данных о координатах."
      ]
    },
    {
      "cell_type": "code",
      "metadata": {
        "id": "bMhCttKy5bxa",
        "colab_type": "code",
        "colab": {
          "base_uri": "https://localhost:8080/",
          "height": 0
        },
        "outputId": "f7109bdb-02f1-4300-93c2-7aa43fe4b636"
      },
      "source": [
        "vis_df = [\n",
        "    ( 1, '2019-03-01T18:52:00'),\n",
        "    ( 1, '2019-03-01T15:35:00'),\n",
        "    ( 2, '2019-03-02T11:18:00'),\n",
        "    ( 2, '2019-03-01T12:43:00'),\n",
        "    ( 3, '2019-03-01T10:05:00'),\n",
        "    ( 3, '2019-03-01T20:32:00'),\n",
        "    ( 4, '2019-03-01T22:58:00'),\n",
        "    ( 4, '2019-03-01T18:05:00')\n",
        "]\n",
        "vis_df = pd.DataFrame (vis_df,columns=['user_id','time'])\n",
        "vis_df.sort_values(['time'],inplace=True)\n",
        "vis_df"
      ],
      "execution_count": 12,
      "outputs": [
        {
          "output_type": "execute_result",
          "data": {
            "text/html": [
              "<div>\n",
              "<style scoped>\n",
              "    .dataframe tbody tr th:only-of-type {\n",
              "        vertical-align: middle;\n",
              "    }\n",
              "\n",
              "    .dataframe tbody tr th {\n",
              "        vertical-align: top;\n",
              "    }\n",
              "\n",
              "    .dataframe thead th {\n",
              "        text-align: right;\n",
              "    }\n",
              "</style>\n",
              "<table border=\"1\" class=\"dataframe\">\n",
              "  <thead>\n",
              "    <tr style=\"text-align: right;\">\n",
              "      <th></th>\n",
              "      <th>user_id</th>\n",
              "      <th>time</th>\n",
              "    </tr>\n",
              "  </thead>\n",
              "  <tbody>\n",
              "    <tr>\n",
              "      <th>4</th>\n",
              "      <td>3</td>\n",
              "      <td>2019-03-01T10:05:00</td>\n",
              "    </tr>\n",
              "    <tr>\n",
              "      <th>3</th>\n",
              "      <td>2</td>\n",
              "      <td>2019-03-01T12:43:00</td>\n",
              "    </tr>\n",
              "    <tr>\n",
              "      <th>1</th>\n",
              "      <td>1</td>\n",
              "      <td>2019-03-01T15:35:00</td>\n",
              "    </tr>\n",
              "    <tr>\n",
              "      <th>7</th>\n",
              "      <td>4</td>\n",
              "      <td>2019-03-01T18:05:00</td>\n",
              "    </tr>\n",
              "    <tr>\n",
              "      <th>0</th>\n",
              "      <td>1</td>\n",
              "      <td>2019-03-01T18:52:00</td>\n",
              "    </tr>\n",
              "    <tr>\n",
              "      <th>5</th>\n",
              "      <td>3</td>\n",
              "      <td>2019-03-01T20:32:00</td>\n",
              "    </tr>\n",
              "    <tr>\n",
              "      <th>6</th>\n",
              "      <td>4</td>\n",
              "      <td>2019-03-01T22:58:00</td>\n",
              "    </tr>\n",
              "    <tr>\n",
              "      <th>2</th>\n",
              "      <td>2</td>\n",
              "      <td>2019-03-02T11:18:00</td>\n",
              "    </tr>\n",
              "  </tbody>\n",
              "</table>\n",
              "</div>"
            ],
            "text/plain": [
              "   user_id                 time\n",
              "4        3  2019-03-01T10:05:00\n",
              "3        2  2019-03-01T12:43:00\n",
              "1        1  2019-03-01T15:35:00\n",
              "7        4  2019-03-01T18:05:00\n",
              "0        1  2019-03-01T18:52:00\n",
              "5        3  2019-03-01T20:32:00\n",
              "6        4  2019-03-01T22:58:00\n",
              "2        2  2019-03-02T11:18:00"
            ]
          },
          "metadata": {
            "tags": []
          },
          "execution_count": 12
        }
      ]
    },
    {
      "cell_type": "markdown",
      "metadata": {
        "id": "jQfbCr2JBykQ",
        "colab_type": "text"
      },
      "source": [
        "Покупки пользователей. Данные сохраняются  в момент покупки и их может быть больше или меньше, чем визитов."
      ]
    },
    {
      "cell_type": "code",
      "metadata": {
        "id": "0cp_wAciCEju",
        "colab_type": "code",
        "colab": {
          "base_uri": "https://localhost:8080/",
          "height": 0
        },
        "outputId": "b8449d67-e9b7-4ffa-c937-ed03454f7356"
      },
      "source": [
        "buy_df = [\n",
        "    ( 1, '2019-03-01T19:29:00',68.38),\n",
        "    ( 2, '2019-03-01T13:15:00',32.53),\n",
        "    ( 3, '2019-03-01T10:21:00',23.27),\n",
        "    ( 4, '2019-03-01T23:02:00',39.40)\n",
        "]\n",
        "buy_df = pd.DataFrame(buy_df,columns=['user_id','time','cost'])\n",
        "buy_df"
      ],
      "execution_count": 17,
      "outputs": [
        {
          "output_type": "execute_result",
          "data": {
            "text/html": [
              "<div>\n",
              "<style scoped>\n",
              "    .dataframe tbody tr th:only-of-type {\n",
              "        vertical-align: middle;\n",
              "    }\n",
              "\n",
              "    .dataframe tbody tr th {\n",
              "        vertical-align: top;\n",
              "    }\n",
              "\n",
              "    .dataframe thead th {\n",
              "        text-align: right;\n",
              "    }\n",
              "</style>\n",
              "<table border=\"1\" class=\"dataframe\">\n",
              "  <thead>\n",
              "    <tr style=\"text-align: right;\">\n",
              "      <th></th>\n",
              "      <th>user_id</th>\n",
              "      <th>time</th>\n",
              "      <th>cost</th>\n",
              "    </tr>\n",
              "  </thead>\n",
              "  <tbody>\n",
              "    <tr>\n",
              "      <th>0</th>\n",
              "      <td>1</td>\n",
              "      <td>2019-03-01T19:29:00</td>\n",
              "      <td>68.38</td>\n",
              "    </tr>\n",
              "    <tr>\n",
              "      <th>1</th>\n",
              "      <td>2</td>\n",
              "      <td>2019-03-01T13:15:00</td>\n",
              "      <td>32.53</td>\n",
              "    </tr>\n",
              "    <tr>\n",
              "      <th>2</th>\n",
              "      <td>3</td>\n",
              "      <td>2019-03-01T10:21:00</td>\n",
              "      <td>23.27</td>\n",
              "    </tr>\n",
              "    <tr>\n",
              "      <th>3</th>\n",
              "      <td>4</td>\n",
              "      <td>2019-03-01T23:02:00</td>\n",
              "      <td>39.40</td>\n",
              "    </tr>\n",
              "  </tbody>\n",
              "</table>\n",
              "</div>"
            ],
            "text/plain": [
              "   user_id                 time   cost\n",
              "0        1  2019-03-01T19:29:00  68.38\n",
              "1        2  2019-03-01T13:15:00  32.53\n",
              "2        3  2019-03-01T10:21:00  23.27\n",
              "3        4  2019-03-01T23:02:00  39.40"
            ]
          },
          "metadata": {
            "tags": []
          },
          "execution_count": 17
        }
      ]
    },
    {
      "cell_type": "markdown",
      "metadata": {
        "id": "vG00kwZ1CWvv",
        "colab_type": "text"
      },
      "source": [
        "## Подход к  решению\n",
        "Данные о визитах и гео-координат будем сопоставлять через **user_id** и **time**. Но т.к. прямое сопоставление через time невозможно т.к. крайне маловероятно, что два события проихойдут одновременно, то неоходимо продумать механизм как сопоставлять по времени основываясь не на точных сопоставлениях.\n",
        "\n",
        "Для решения задачи необходимо сопоставить каждый визит с какой-то геометкой. Я считаю, что необходимо сопоставлять с ближайшей гео-меткой в прошлом. Для этого для каждого визита выберем все метки для данного пользователя в прошлом, и поскольку они будут отсортированы по времени, просто сохраним индекс последней существующей геометки в поле **geo_id** для каждого визита. В последствии произвести слияние двух наборов данных : визиты и гео-метки по полю geo_id.\n",
        "\n",
        "*Можно модифицировать код так чтобы брать просто ближайшую гео-метку а не только из прошлого*"
      ]
    },
    {
      "cell_type": "code",
      "metadata": {
        "id": "Yd8Foe2jKWlF",
        "colab_type": "code",
        "colab": {
          "base_uri": "https://localhost:8080/",
          "height": 0
        },
        "outputId": "8e96983d-d3b1-420a-cf59-054c34d77fa9"
      },
      "source": [
        "vis_df['geo_id'] = pd.Series([]) # просто добавляем новый столбец к фрейму\n",
        "\n",
        "for vis in vis_df.itertuples():\n",
        "    uid = vis.user_id\n",
        "    tme = vis.time\n",
        "    \n",
        "    # это создаёт фрейм с гео-метакми в прошлом для данного пользователя\n",
        "    tmp_df = geo_df[geo_df['user_id']==uid].copy()\n",
        "    tmp_df = tmp_df[tmp_df['time'] < tme]\n",
        "    \n",
        "    # если там вообще есть хоть какие-то гео-метки,\n",
        "    # то последнюю сохраняем в набор визитов\n",
        "    if not tmp_df.empty:\n",
        "        for geo in tmp_df[-1:].itertuples():\n",
        "            vis_df['geo_id'].update(pd.Series([geo.Index],index=[vis.Index]))\n",
        "\n",
        "# слияние наборов данных по полю geo_id\n",
        "vis_df = vis_df.merge(geo_df,how='left',left_on='geo_id',right_index=True,suffixes=('','_geo')).drop(['user_id_geo'],axis=1)\n",
        "vis_df.head()"
      ],
      "execution_count": 13,
      "outputs": [
        {
          "output_type": "execute_result",
          "data": {
            "text/html": [
              "<div>\n",
              "<style scoped>\n",
              "    .dataframe tbody tr th:only-of-type {\n",
              "        vertical-align: middle;\n",
              "    }\n",
              "\n",
              "    .dataframe tbody tr th {\n",
              "        vertical-align: top;\n",
              "    }\n",
              "\n",
              "    .dataframe thead th {\n",
              "        text-align: right;\n",
              "    }\n",
              "</style>\n",
              "<table border=\"1\" class=\"dataframe\">\n",
              "  <thead>\n",
              "    <tr style=\"text-align: right;\">\n",
              "      <th></th>\n",
              "      <th>user_id</th>\n",
              "      <th>time</th>\n",
              "      <th>geo_id</th>\n",
              "      <th>time_geo</th>\n",
              "      <th>lat</th>\n",
              "      <th>lon</th>\n",
              "    </tr>\n",
              "  </thead>\n",
              "  <tbody>\n",
              "    <tr>\n",
              "      <th>4</th>\n",
              "      <td>3</td>\n",
              "      <td>2019-03-01T10:05:00</td>\n",
              "      <td>12.0</td>\n",
              "      <td>2019-03-01T10:03:00</td>\n",
              "      <td>58.51</td>\n",
              "      <td>40.40</td>\n",
              "    </tr>\n",
              "    <tr>\n",
              "      <th>3</th>\n",
              "      <td>2</td>\n",
              "      <td>2019-03-01T12:43:00</td>\n",
              "      <td>6.0</td>\n",
              "      <td>2019-03-01T12:27:00</td>\n",
              "      <td>55.13</td>\n",
              "      <td>42.97</td>\n",
              "    </tr>\n",
              "    <tr>\n",
              "      <th>1</th>\n",
              "      <td>1</td>\n",
              "      <td>2019-03-01T15:35:00</td>\n",
              "      <td>1.0</td>\n",
              "      <td>2019-03-01T15:20:00</td>\n",
              "      <td>57.89</td>\n",
              "      <td>48.04</td>\n",
              "    </tr>\n",
              "    <tr>\n",
              "      <th>7</th>\n",
              "      <td>4</td>\n",
              "      <td>2019-03-01T18:05:00</td>\n",
              "      <td>19.0</td>\n",
              "      <td>2019-03-01T17:52:00</td>\n",
              "      <td>57.64</td>\n",
              "      <td>41.97</td>\n",
              "    </tr>\n",
              "    <tr>\n",
              "      <th>0</th>\n",
              "      <td>1</td>\n",
              "      <td>2019-03-01T18:52:00</td>\n",
              "      <td>2.0</td>\n",
              "      <td>2019-03-01T18:46:00</td>\n",
              "      <td>51.61</td>\n",
              "      <td>44.52</td>\n",
              "    </tr>\n",
              "    <tr>\n",
              "      <th>5</th>\n",
              "      <td>3</td>\n",
              "      <td>2019-03-01T20:32:00</td>\n",
              "      <td>14.0</td>\n",
              "      <td>2019-03-01T20:17:00</td>\n",
              "      <td>55.24</td>\n",
              "      <td>48.44</td>\n",
              "    </tr>\n",
              "    <tr>\n",
              "      <th>6</th>\n",
              "      <td>4</td>\n",
              "      <td>2019-03-01T22:58:00</td>\n",
              "      <td>21.0</td>\n",
              "      <td>2019-03-01T22:42:00</td>\n",
              "      <td>52.01</td>\n",
              "      <td>48.96</td>\n",
              "    </tr>\n",
              "    <tr>\n",
              "      <th>2</th>\n",
              "      <td>2</td>\n",
              "      <td>2019-03-02T11:18:00</td>\n",
              "      <td>10.0</td>\n",
              "      <td>2019-03-02T11:08:00</td>\n",
              "      <td>58.28</td>\n",
              "      <td>40.78</td>\n",
              "    </tr>\n",
              "  </tbody>\n",
              "</table>\n",
              "</div>"
            ],
            "text/plain": [
              "   user_id                 time  geo_id             time_geo    lat    lon\n",
              "4        3  2019-03-01T10:05:00    12.0  2019-03-01T10:03:00  58.51  40.40\n",
              "3        2  2019-03-01T12:43:00     6.0  2019-03-01T12:27:00  55.13  42.97\n",
              "1        1  2019-03-01T15:35:00     1.0  2019-03-01T15:20:00  57.89  48.04\n",
              "7        4  2019-03-01T18:05:00    19.0  2019-03-01T17:52:00  57.64  41.97\n",
              "0        1  2019-03-01T18:52:00     2.0  2019-03-01T18:46:00  51.61  44.52\n",
              "5        3  2019-03-01T20:32:00    14.0  2019-03-01T20:17:00  55.24  48.44\n",
              "6        4  2019-03-01T22:58:00    21.0  2019-03-01T22:42:00  52.01  48.96\n",
              "2        2  2019-03-02T11:18:00    10.0  2019-03-02T11:08:00  58.28  40.78"
            ]
          },
          "metadata": {
            "tags": []
          },
          "execution_count": 13
        }
      ]
    },
    {
      "cell_type": "markdown",
      "metadata": {
        "id": "v_6lYRioLgnO",
        "colab_type": "text"
      },
      "source": [
        "Для покупок подход аналогичен, но не совсем. \n",
        "\n",
        "Сопоставление набора покупок проводим с набором визитов, и гео-метку будем брать, не ту которая последняя, а та которая в визите. *Тут конечно определяет бизнес-логика с каким набором сопоставлять, но я предположил, что лучше с визитами.*"
      ]
    },
    {
      "cell_type": "code",
      "metadata": {
        "id": "a-KYcFXeP8NI",
        "colab_type": "code",
        "colab": {
          "base_uri": "https://localhost:8080/",
          "height": 0
        },
        "outputId": "12cc624b-91ca-4dc9-ce9f-ed5dbd0104e5"
      },
      "source": [
        "buy_df['vis_id'] = pd.Series([]) # просто добавляем новый столбец к фрейму\n",
        "\n",
        "for buy in buy_df.itertuples():\n",
        "    uid = buy.user_id\n",
        "    tme = buy.time\n",
        "\n",
        "    tmp_df = vis_df[vis_df['user_id']==uid].copy()\n",
        "    tmp_df = tmp_df[tmp_df['time'] < tme]\n",
        "\n",
        "    if not tmp_df.empty:\n",
        "        for vis in tmp_df[-1:].itertuples():    \n",
        "            buy_df['vis_id'].update(pd.Series([vis.Index],index=[buy.Index]))\n",
        "\n",
        "buy_df = buy_df.merge(vis_df,how='left',left_on='vis_id',right_index=True,suffixes=('','_vis')).drop(['user_id_vis'],axis=1)\n",
        "buy_df.head()"
      ],
      "execution_count": 18,
      "outputs": [
        {
          "output_type": "execute_result",
          "data": {
            "text/html": [
              "<div>\n",
              "<style scoped>\n",
              "    .dataframe tbody tr th:only-of-type {\n",
              "        vertical-align: middle;\n",
              "    }\n",
              "\n",
              "    .dataframe tbody tr th {\n",
              "        vertical-align: top;\n",
              "    }\n",
              "\n",
              "    .dataframe thead th {\n",
              "        text-align: right;\n",
              "    }\n",
              "</style>\n",
              "<table border=\"1\" class=\"dataframe\">\n",
              "  <thead>\n",
              "    <tr style=\"text-align: right;\">\n",
              "      <th></th>\n",
              "      <th>user_id</th>\n",
              "      <th>time</th>\n",
              "      <th>cost</th>\n",
              "      <th>vis_id</th>\n",
              "      <th>time_vis</th>\n",
              "      <th>geo_id</th>\n",
              "      <th>time_geo</th>\n",
              "      <th>lat</th>\n",
              "      <th>lon</th>\n",
              "    </tr>\n",
              "  </thead>\n",
              "  <tbody>\n",
              "    <tr>\n",
              "      <th>0</th>\n",
              "      <td>1</td>\n",
              "      <td>2019-03-01T19:29:00</td>\n",
              "      <td>68.38</td>\n",
              "      <td>0.0</td>\n",
              "      <td>2019-03-01T18:52:00</td>\n",
              "      <td>2.0</td>\n",
              "      <td>2019-03-01T18:46:00</td>\n",
              "      <td>51.61</td>\n",
              "      <td>44.52</td>\n",
              "    </tr>\n",
              "    <tr>\n",
              "      <th>1</th>\n",
              "      <td>2</td>\n",
              "      <td>2019-03-01T13:15:00</td>\n",
              "      <td>32.53</td>\n",
              "      <td>3.0</td>\n",
              "      <td>2019-03-01T12:43:00</td>\n",
              "      <td>6.0</td>\n",
              "      <td>2019-03-01T12:27:00</td>\n",
              "      <td>55.13</td>\n",
              "      <td>42.97</td>\n",
              "    </tr>\n",
              "    <tr>\n",
              "      <th>2</th>\n",
              "      <td>3</td>\n",
              "      <td>2019-03-01T10:21:00</td>\n",
              "      <td>23.27</td>\n",
              "      <td>4.0</td>\n",
              "      <td>2019-03-01T10:05:00</td>\n",
              "      <td>12.0</td>\n",
              "      <td>2019-03-01T10:03:00</td>\n",
              "      <td>58.51</td>\n",
              "      <td>40.40</td>\n",
              "    </tr>\n",
              "    <tr>\n",
              "      <th>3</th>\n",
              "      <td>4</td>\n",
              "      <td>2019-03-01T23:02:00</td>\n",
              "      <td>39.40</td>\n",
              "      <td>6.0</td>\n",
              "      <td>2019-03-01T22:58:00</td>\n",
              "      <td>21.0</td>\n",
              "      <td>2019-03-01T22:42:00</td>\n",
              "      <td>52.01</td>\n",
              "      <td>48.96</td>\n",
              "    </tr>\n",
              "  </tbody>\n",
              "</table>\n",
              "</div>"
            ],
            "text/plain": [
              "   user_id                 time   cost  ...             time_geo    lat    lon\n",
              "0        1  2019-03-01T19:29:00  68.38  ...  2019-03-01T18:46:00  51.61  44.52\n",
              "1        2  2019-03-01T13:15:00  32.53  ...  2019-03-01T12:27:00  55.13  42.97\n",
              "2        3  2019-03-01T10:21:00  23.27  ...  2019-03-01T10:03:00  58.51  40.40\n",
              "3        4  2019-03-01T23:02:00  39.40  ...  2019-03-01T22:42:00  52.01  48.96\n",
              "\n",
              "[4 rows x 9 columns]"
            ]
          },
          "metadata": {
            "tags": []
          },
          "execution_count": 18
        }
      ]
    },
    {
      "cell_type": "markdown",
      "metadata": {
        "id": "iHa2pdx3QbfP",
        "colab_type": "text"
      },
      "source": [
        "ПРОФИТ !!"
      ]
    }
  ]
}