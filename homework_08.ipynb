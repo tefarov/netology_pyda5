{
  "nbformat": 4,
  "nbformat_minor": 0,
  "metadata": {
    "colab": {
      "name": "homework_08",
      "version": "0.3.2",
      "provenance": [],
      "collapsed_sections": [
        "8jwDww5_6f_s",
        "Z_aNoNve-kkY"
      ],
      "include_colab_link": true
    },
    "kernelspec": {
      "name": "python3",
      "display_name": "Python 3"
    }
  },
  "cells": [
    {
      "cell_type": "markdown",
      "metadata": {
        "id": "view-in-github",
        "colab_type": "text"
      },
      "source": [
        "<a href=\"https://colab.research.google.com/github/tefarov/netology_pyda5/blob/master/homework_08.ipynb\" target=\"_parent\"><img src=\"https://colab.research.google.com/assets/colab-badge.svg\" alt=\"Open In Colab\"/></a>"
      ]
    },
    {
      "cell_type": "code",
      "metadata": {
        "id": "kUPzbHdm6YXP",
        "colab_type": "code",
        "colab": {}
      },
      "source": [
        "import pandas as pd\n",
        "from datetime import datetime as dt\n",
        "import sys"
      ],
      "execution_count": 0,
      "outputs": []
    },
    {
      "cell_type": "markdown",
      "metadata": {
        "id": "8jwDww5_6f_s",
        "colab_type": "text"
      },
      "source": [
        "# Задание 1.\n",
        "Посчитайте среднее время жизни пользователей, которые выставили более 100 оценок. Под временем жизни понимается разница между максимальным и минимальным значением столбца timestamp для данного значения userId"
      ]
    },
    {
      "cell_type": "code",
      "metadata": {
        "id": "2FZ-UprQ6eP2",
        "colab_type": "code",
        "colab": {}
      },
      "source": [
        "STR_PTHFOLD = sys.path[0]\n",
        "STR_PTHRATG = STR_PTHFOLD + r\"\\ratings.csv\"\n",
        "\n",
        "# импорт данных и превращаем timestamp  в читаемую datetime\n",
        "rat_df = pd.read_csv(STR_PTHRATG)\n",
        "rat_df['time'] = rat_df['timestamp'].apply(lambda x: dt.fromtimestamp(x))\n",
        "rat_df.head()"
      ],
      "execution_count": 0,
      "outputs": []
    },
    {
      "cell_type": "code",
      "metadata": {
        "id": "KLfFbOuO6u-A",
        "colab_type": "code",
        "colab": {}
      },
      "source": [
        "# группируем рэйтинги по пользователю\n",
        "usr_gp = rat_df.groupby('userId')\n",
        "# создаём таблицу пользователей и отбираме тех,\n",
        "# у которых количество оценок соответствует заданному порогу\n",
        "usr_df = usr_gp.count()[['time']]\n",
        "usr_df = usr_df[usr_df.time > 100]\n",
        "usr_df.head()"
      ],
      "execution_count": 0,
      "outputs": []
    },
    {
      "cell_type": "code",
      "metadata": {
        "id": "zVGqdWkV7VIq",
        "colab_type": "code",
        "colab": {}
      },
      "source": [
        "min_df = usr_gp.min()[['time']] # фрейм с временем первой оценки\n",
        "max_df = usr_gp.max()[['time']] # фрейм с врменеем последней оценки\n",
        "# объединяем по индексу всё в один фрейм\n",
        "usr_df = (usr_df\n",
        "            .join(min_df,how='left',rsuffix='_min')\n",
        "            .join(max_df,how='left',rsuffix='_max')\n",
        "            )\n",
        "usr_df.head()"
      ],
      "execution_count": 0,
      "outputs": []
    },
    {
      "cell_type": "code",
      "metadata": {
        "id": "pCDm61Le8VcH",
        "colab_type": "code",
        "colab": {}
      },
      "source": [
        "# расчёт средней продолжительности жизни для каждого пользователя\n",
        "usr_df['lifetime'] = (usr_df['time_max'] - usr_df['time_min'])\n",
        "# расчёт средней продолжительности жизни по всем отобранным пользователям\n",
        "lft = usr_df['lifetime'].mean()\n",
        "\n",
        "print(\"Средняя продолжительность жизни пользователя: {0} дн. {1} ч. {2} мин. {3} сек.\".format(lft.components.days,lft.components.hours,lft.components.minutes,lft.components.seconds))"
      ],
      "execution_count": 0,
      "outputs": []
    },
    {
      "cell_type": "markdown",
      "metadata": {
        "id": "Z_aNoNve-kkY",
        "colab_type": "text"
      },
      "source": [
        "# Задание 2\n",
        "Дана статистика услуг перевозок клиентов компании по типам\n",
        "rzd - железнодорожные перевозки\n",
        "auto - автомобильные перевозки\n",
        "air - воздушные перевозки\n",
        "client_base - адреса клиентов\n",
        "\n",
        "Необходимо сформировать две таблицы:\n",
        " 1. таблицу с тремя типами выручки для каждого client_id без указания адреса клиента\n",
        " 2. аналогичную таблицу по типам выручки с указанием адреса клиента\n",
        "Обратите внимание, что в процессе объединения таблиц данные не должны теряться."
      ]
    },
    {
      "cell_type": "code",
      "metadata": {
        "id": "P5279WP8-xpg",
        "colab_type": "code",
        "colab": {}
      },
      "source": [
        "rzd = pd.DataFrame(\n",
        "    {\n",
        "        'client_id': [111, 112, 113, 114, 115],\n",
        "        'rzd_revenue': [1093, 2810, 10283, 5774, 981]\n",
        "    }\n",
        ")\n",
        "rzd"
      ],
      "execution_count": 0,
      "outputs": []
    },
    {
      "cell_type": "code",
      "metadata": {
        "id": "d2UDc-mm-3Ue",
        "colab_type": "code",
        "colab": {}
      },
      "source": [
        "auto = pd.DataFrame(\n",
        "    {\n",
        "        'client_id': [113, 114, 115, 116, 117],\n",
        "        'auto_revenue': [57483, 83, 912, 4834, 98]\n",
        "    }\n",
        ")\n",
        "auto"
      ],
      "execution_count": 0,
      "outputs": []
    },
    {
      "cell_type": "code",
      "metadata": {
        "id": "dRnPcZ6F-5pt",
        "colab_type": "code",
        "colab": {}
      },
      "source": [
        "air = pd.DataFrame(\n",
        "    {\n",
        "        'client_id': [115, 116, 117, 118],\n",
        "        'air_revenue': [81, 4, 13, 173]\n",
        "    }\n",
        ")\n",
        "air"
      ],
      "execution_count": 0,
      "outputs": []
    },
    {
      "cell_type": "code",
      "metadata": {
        "id": "zNvlYzir-_2G",
        "colab_type": "code",
        "colab": {}
      },
      "source": [
        "client_base = pd.DataFrame(\n",
        "    {\n",
        "        'client_id': [111, 112, 113, 114, 115, 116, 117, 118],\n",
        "        'address': ['Комсомольская 4', 'Энтузиастов 8а', 'Левобережная 1а', 'Мира 14', 'ЗЖБИиДК 1', \n",
        "                    'Строителей 18', 'Панфиловская 33', 'Мастеркова 4']\n",
        "    }\n",
        ")\n",
        "client_base"
      ],
      "execution_count": 0,
      "outputs": []
    },
    {
      "cell_type": "code",
      "metadata": {
        "id": "Yb5jwMqz_D5-",
        "colab_type": "code",
        "colab": {}
      },
      "source": [
        "dat = (auto\n",
        "    .merge(rzd,how='outer',on='client_id')\n",
        "    .merge(air,how='outer',on='client_id')\n",
        ")\n",
        "dat"
      ],
      "execution_count": 0,
      "outputs": []
    },
    {
      "cell_type": "code",
      "metadata": {
        "id": "sUu4e9Ts_Hp3",
        "colab_type": "code",
        "colab": {}
      },
      "source": [
        "dat = (client_base\n",
        "        .merge(rzd ,how='left',on='client_id')\n",
        "        .merge(air ,how='left',on='client_id')\n",
        "        .merge(auto,how='left',on='client_id')\n",
        "    )\n",
        "dat"
      ],
      "execution_count": 0,
      "outputs": []
    }
  ]
}