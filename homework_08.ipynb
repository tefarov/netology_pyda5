{
  "nbformat": 4,
  "nbformat_minor": 0,
  "metadata": {
    "colab": {
      "name": "homework_08",
      "version": "0.3.2",
      "provenance": [],
      "collapsed_sections": [],
      "include_colab_link": true
    },
    "kernelspec": {
      "name": "python3",
      "display_name": "Python 3"
    }
  },
  "cells": [
    {
      "cell_type": "markdown",
      "metadata": {
        "id": "view-in-github",
        "colab_type": "text"
      },
      "source": [
        "<a href=\"https://colab.research.google.com/github/tefarov/netology_pyda5/blob/master/homework_08.ipynb\" target=\"_parent\"><img src=\"https://colab.research.google.com/assets/colab-badge.svg\" alt=\"Open In Colab\"/></a>"
      ]
    },
    {
      "cell_type": "code",
      "metadata": {
        "id": "kUPzbHdm6YXP",
        "colab_type": "code",
        "colab": {}
      },
      "source": [
        "import pandas as pd\n",
        "from datetime import datetime as dt\n",
        "import sys"
      ],
      "execution_count": 0,
      "outputs": []
    },
    {
      "cell_type": "markdown",
      "metadata": {
        "id": "8jwDww5_6f_s",
        "colab_type": "text"
      },
      "source": [
        "# Задание 1.\n",
        "Посчитайте среднее время жизни пользователей, которые выставили более 100 оценок. Под временем жизни понимается разница между максимальным и минимальным значением столбца timestamp для данного значения userId"
      ]
    },
    {
      "cell_type": "code",
      "metadata": {
        "id": "2FZ-UprQ6eP2",
        "colab_type": "code",
        "colab": {}
      },
      "source": [
        "STR_PTHFOLD = sys.path[0]\n",
        "STR_PTHRATG = STR_PTHFOLD + r\"\\ratings.csv\"\n",
        "\n",
        "# импорт данных и превращаем timestamp  в читаемую datetime\n",
        "rat_df = pd.read_csv(STR_PTHRATG)\n",
        "rat_df['time'] = rat_df['timestamp'].apply(lambda x: dt.fromtimestamp(x))\n",
        "rat_df.head()"
      ],
      "execution_count": 0,
      "outputs": []
    },
    {
      "cell_type": "code",
      "metadata": {
        "id": "KLfFbOuO6u-A",
        "colab_type": "code",
        "colab": {}
      },
      "source": [
        "# группируем рэйтинги по пользователю\n",
        "usr_gp = rat_df.groupby('userId')\n",
        "# создаём таблицу пользователей и отбираме тех,\n",
        "# у которых количество оценок соответствует заданному порогу\n",
        "usr_df = usr_gp.count()[['time']]\n",
        "usr_df = usr_df[usr_df.time > 100]\n",
        "usr_df.head()"
      ],
      "execution_count": 0,
      "outputs": []
    },
    {
      "cell_type": "code",
      "metadata": {
        "id": "zVGqdWkV7VIq",
        "colab_type": "code",
        "colab": {}
      },
      "source": [
        "min_df = usr_gp.min()[['time']] # фрейм с временем первой оценки\n",
        "max_df = usr_gp.max()[['time']] # фрейм с врменеем последней оценки\n",
        "# объединяем по индексу всё в один фрейм\n",
        "usr_df = (usr_df\n",
        "            .join(min_df,how='left',rsuffix='_min')\n",
        "            .join(max_df,how='left',rsuffix='_max')\n",
        "            )\n",
        "usr_df.head()"
      ],
      "execution_count": 0,
      "outputs": []
    },
    {
      "cell_type": "code",
      "metadata": {
        "id": "pCDm61Le8VcH",
        "colab_type": "code",
        "colab": {}
      },
      "source": [
        "# расчёт средней продолжительности жизни для каждого пользователя\n",
        "usr_df['lifetime'] = (usr_df['time_max'] - usr_df['time_min'])\n",
        "# расчёт средней продолжительности жизни по всем отобранным пользователям\n",
        "lft = usr_df['lifetime'].mean()\n",
        "\n",
        "print(\"Средняя продолжительность жизни пользователя: {0} дн. {1} ч. {2} мин. {3} сек.\".format(lft.components.days,lft.components.hours,lft.components.minutes,lft.components.seconds))"
      ],
      "execution_count": 0,
      "outputs": []
    }
  ]
}